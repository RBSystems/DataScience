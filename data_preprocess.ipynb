{
 "cells": [
  {
   "cell_type": "markdown",
   "metadata": {},
   "source": [
    "# Clean up data, convert to dataframes, and save to csv"
   ]
  },
  {
   "cell_type": "markdown",
   "metadata": {},
   "source": [
    "The BAC file is pipe separated with the following fields:\n",
    "LogLevel [TimeStamp]:[LogVisibility][LogSeverity][entryType][entrySubType][eventType][EventType dependent strings]\n",
    "\n",
    "The information changes at the end of each entry based on its EventType.  Here is a list of the supported event types and the subsequent additional information for each listed below.\n",
    "\n",
    "GeneralMessage - [string message]\n",
    "\n",
    "LevelChangedEvent - [load ID][loadName][roomName][rampTime][rampBaseValue][rampFinalValue]\n",
    "\n",
    "ButtonChangedEvent - [keypad ID][keypadName][roomName][buttonNum][buttonState]\n",
    "\n",
    "RemoteSystemEvent - [signalID][signalName][roomName][RemoteSystemEvent string]\n",
    "TimeClockChangedEvent/OccupancyChangedEvent/SceneChangedEvent - [ID][name][roomName][message]\n",
    "\n",
    "ConnectionStatus - [device ID][Name][room Name][connection status][Load 1 Room Name:Load 1 Name]|[Load 2 Room Name:Load 2 Name]\n",
    "\n",
    "    NOTE: DeviceConnectionStatusWithOptions is the same format as ConnectionStatus. \n",
    "    \n",
    "SignalChangedEvent - [device ID][Device Name][room Name][signal event ID][signal Value] - Signal event ID differs by device and signal value is either bool or int based on the eventID.\n",
    "\n",
    "SignalChangedEventWithStrings - [device ID][Device Name][Signal Name][Signal Value string][Signal direction][message]\n"
   ]
  },
  {
   "cell_type": "code",
   "execution_count": 1,
   "metadata": {
    "collapsed": true
   },
   "outputs": [],
   "source": [
    "# FOR DATA ANALYSIS PUT HOUR, DAY, WEEK, MONTH, DATE, WEATHER, SUNRISE/SUNUP"
   ]
  },
  {
   "cell_type": "code",
   "execution_count": 3,
   "metadata": {},
   "outputs": [
    {
     "name": "stderr",
     "output_type": "stream",
     "text": [
      "/home/phcherne/anaconda3/lib/python3.6/site-packages/h5py/__init__.py:34: FutureWarning: Conversion of the second argument of issubdtype from `float` to `np.floating` is deprecated. In future, it will be treated as `np.float64 == np.dtype(float).type`.\n",
      "  from ._conv import register_converters as _register_converters\n"
     ]
    }
   ],
   "source": [
    "import os \n",
    "import pandas as pd\n",
    "import numpy as np\n",
    "import h5py\n",
    "from numpy import nan\n",
    "from datetime import datetime, timedelta\n",
    "from time import mktime\n",
    "import os.path\n",
    "pd.set_option('display.max_columns', 500)"
   ]
  },
  {
   "cell_type": "code",
   "execution_count": 13,
   "metadata": {
    "collapsed": true
   },
   "outputs": [],
   "source": [
    "def save_or_load_from_checkpoint(df, checkpoint_name):\n",
    "    if not os.path.isfile(checkpoint_name):\n",
    "        df.to_hdf(checkpoint_name, 'table', mode='w', append=True, complevel=9, complib='zlib', index=False)\n",
    "    else:\n",
    "        df = pd.read_hdf(checkpoint_name,'table')"
   ]
  },
  {
   "cell_type": "code",
   "execution_count": 4,
   "metadata": {
    "collapsed": true
   },
   "outputs": [],
   "source": [
    "labels = ['LogLevel',\n",
    "          'TimeStamp',\n",
    "          'LogVisibility',\n",
    "          'LogSeverity',\n",
    "          'entryType',\n",
    "          'entrySubType',\n",
    "          'eventType']\n",
    "# from label list\n",
    "EVENT_TYPE_INDEX = labels.index('eventType')\n",
    "\n",
    "# from line in .bac file\n",
    "LOG_LEVEL_START = 0\n",
    "LOG_LEVEL_END = 3\n",
    "TIMESTAMP_START = 6\n",
    "TIMESTAMP_END = 14\n",
    "PIPE_SEPARATED_DATA_START = 17\n",
    "\n",
    "event_type_labels = [\n",
    "    \"string message\", # GeneralMessage\n",
    "    \"load ID\", \"loadName\", \"roomName1\", \"rampTime\", \"rampBaseValue\", \"rampFinalValue\", # LevelChangedEvent\n",
    "    \"keypad ID\", \"keypadName\", \"roomName2\", \"buttonNum\", \"buttonState\", # ButtonChangedEvent\n",
    "    \"signalID\", \"signalName\", \"roomName3\", \"RemoteSystemEvent string\", # RemoteSystemEvent\n",
    "    \"ID\", \"name\", \"roomName4\", \"message1\", # TimeClockChangedEvent/OccupancyChangedEvent/SceneChangedEvent\n",
    "    \"device ID1\", \"Name\", \"roomName5\", \"connection status\", \"Load 1 Room Name:Load 1 Name\", \"Load 2 Room Name:Load 2 Name\", # ConnectionStatus/DeviceConnectionStatusWithOptions\n",
    "    \"device ID2\", \"Device Name1\", \"roomName6\", \"signal event ID\", \"signal Value\", # SignalChangedEvent\n",
    "    \"device ID3\", \"Device Name2\", \"Signal Name\", \"Signal Value string\", \"Signal direction\", \"message2\", # SignalChangedEventWithStrings\n",
    "]\n",
    "\n",
    "def from_bac():\n",
    "    # device_id_offsets = [i for i, x in enumerate(event_type_labels) if x == \"device ID\"]\n",
    "    clean_lines = []\n",
    "\n",
    "    for log in os.listdir('data'):\n",
    "        with open('data/{}'.format(log)) as logfile:\n",
    "            for line in logfile:\n",
    "                line = line.rstrip('\\n')\n",
    "                if line[-1] == '|':\n",
    "                    line = line[:-1]\n",
    "                all_data = ([line[LOG_LEVEL_START:LOG_LEVEL_END], line[TIMESTAMP_START:TIMESTAMP_END]]\n",
    "                            + line[PIPE_SEPARATED_DATA_START:].split('|'))\n",
    "\n",
    "                event_type_dependent_strings = all_data[len(labels):]\n",
    "                clean_line = all_data[:len(labels)]\n",
    "\n",
    "                START_INDEX = 7\n",
    "                if clean_line[EVENT_TYPE_INDEX] == 'GeneralMessage':\n",
    "                    START_INDEX += event_type_labels.index('string message')\n",
    "                    # account for pipes in the message string\n",
    "                    event_type_dependent_strings = ['|'.join(event_type_dependent_strings)]\n",
    "                    assert START_INDEX == 7\n",
    "                    assert len(event_type_dependent_strings) == 1, event_type_dependent_strings\n",
    "\n",
    "                elif clean_line[EVENT_TYPE_INDEX] == 'LevelChangedEvent':\n",
    "                    START_INDEX += event_type_labels.index('load ID')\n",
    "                    assert START_INDEX == 8\n",
    "                    assert len(event_type_dependent_strings) == 6\n",
    "\n",
    "                elif clean_line[EVENT_TYPE_INDEX] == 'ButtonChangedEvent':\n",
    "                    START_INDEX += event_type_labels.index('keypad ID')\n",
    "                    assert START_INDEX == 14\n",
    "                    assert len(event_type_dependent_strings) == 5\n",
    "\n",
    "                elif clean_line[EVENT_TYPE_INDEX] == 'RemoteSystemEvent':\n",
    "                    START_INDEX += event_type_labels.index('signalID')\n",
    "                    assert START_INDEX == 19\n",
    "                    assert len(event_type_dependent_strings) == 4\n",
    "\n",
    "                elif (clean_line[EVENT_TYPE_INDEX] == 'TimeClockChangedEvent' or\n",
    "                      clean_line[EVENT_TYPE_INDEX] == 'OccupancyChangedEvent' or\n",
    "                      clean_line[EVENT_TYPE_INDEX] == 'SceneChangedEvent'):\n",
    "                    START_INDEX += event_type_labels.index('ID')\n",
    "                    assert START_INDEX == 23\n",
    "                    assert len(event_type_dependent_strings) == 4\n",
    "\n",
    "                elif (clean_line[EVENT_TYPE_INDEX] == 'ConnectionStatus' or\n",
    "                      clean_line[EVENT_TYPE_INDEX] == 'DeviceConnectionStatusWithOptions'):\n",
    "                    START_INDEX += event_type_labels.index('device ID1')\n",
    "                    assert START_INDEX == 27\n",
    "                    assert (len(event_type_dependent_strings) == 4 or\n",
    "                            len(event_type_dependent_strings) == 5 or\n",
    "                            len(event_type_dependent_strings) == 6)\n",
    "\n",
    "                elif clean_line[EVENT_TYPE_INDEX] == 'SignalChangedEvent':\n",
    "                    START_INDEX += event_type_labels.index('device ID2')\n",
    "                    assert START_INDEX == 33\n",
    "                    assert len(event_type_dependent_strings) == 5\n",
    "\n",
    "                elif clean_line[EVENT_TYPE_INDEX] == 'SignalChangedEventWithStrings':\n",
    "                    START_INDEX += event_type_labels.index('device ID3')\n",
    "                    assert START_INDEX == 38\n",
    "                    # to correct for the double pipe in \"Basement Mudroom\"\n",
    "                    event_type_dependent_strings = [i for i in event_type_dependent_strings if i]\n",
    "                else:\n",
    "                    raise ValueError(\"Wrong event type: {}\".format(clean_line[EVENT_TYPE_INDEX]))\n",
    "\n",
    "                clean_line = clean_line + [np.nan]*len(event_type_labels) + [log[-14:-4]]\n",
    "                clean_line[START_INDEX:START_INDEX + len(event_type_dependent_strings)] = event_type_dependent_strings\n",
    "                clean_lines.append(clean_line)\n",
    "    df = pd.DataFrame(clean_lines, columns=labels + event_type_labels + [\"date\"])\n",
    "    return df"
   ]
  },
  {
   "cell_type": "markdown",
   "metadata": {},
   "source": [
    "## First Checkpoint: Load data from BAC files"
   ]
  },
  {
   "cell_type": "code",
   "execution_count": 5,
   "metadata": {},
   "outputs": [
    {
     "ename": "KeyboardInterrupt",
     "evalue": "",
     "output_type": "error",
     "traceback": [
      "\u001b[0;31m---------------------------------------------------------------------------\u001b[0m",
      "\u001b[0;31mKeyboardInterrupt\u001b[0m                         Traceback (most recent call last)",
      "\u001b[0;32m<ipython-input-5-8f7b5aaba161>\u001b[0m in \u001b[0;36m<module>\u001b[0;34m()\u001b[0m\n\u001b[1;32m      1\u001b[0m \u001b[0;32mif\u001b[0m \u001b[0;32mnot\u001b[0m \u001b[0mos\u001b[0m\u001b[0;34m.\u001b[0m\u001b[0mpath\u001b[0m\u001b[0;34m.\u001b[0m\u001b[0misfile\u001b[0m\u001b[0;34m(\u001b[0m\u001b[0;34m'./checkpoints/data_0.csv'\u001b[0m\u001b[0;34m)\u001b[0m\u001b[0;34m:\u001b[0m\u001b[0;34m\u001b[0m\u001b[0m\n\u001b[0;32m----> 2\u001b[0;31m     \u001b[0mdf\u001b[0m \u001b[0;34m=\u001b[0m \u001b[0mfrom_bac\u001b[0m\u001b[0;34m(\u001b[0m\u001b[0;34m)\u001b[0m\u001b[0;34m\u001b[0m\u001b[0m\n\u001b[0m\u001b[1;32m      3\u001b[0m \u001b[0;32melse\u001b[0m\u001b[0;34m:\u001b[0m\u001b[0;34m\u001b[0m\u001b[0m\n\u001b[1;32m      4\u001b[0m     \u001b[0mdf\u001b[0m \u001b[0;34m=\u001b[0m \u001b[0mpd\u001b[0m\u001b[0;34m.\u001b[0m\u001b[0mread_csv\u001b[0m\u001b[0;34m(\u001b[0m\u001b[0;34m'./checkpoints/data_0.csv'\u001b[0m\u001b[0;34m)\u001b[0m\u001b[0;34m\u001b[0m\u001b[0m\n",
      "\u001b[0;32m<ipython-input-4-a88b7cb2f615>\u001b[0m in \u001b[0;36mfrom_bac\u001b[0;34m()\u001b[0m\n\u001b[1;32m     94\u001b[0m                     \u001b[0;32mraise\u001b[0m \u001b[0mValueError\u001b[0m\u001b[0;34m(\u001b[0m\u001b[0;34m\"Wrong event type: {}\"\u001b[0m\u001b[0;34m.\u001b[0m\u001b[0mformat\u001b[0m\u001b[0;34m(\u001b[0m\u001b[0mclean_line\u001b[0m\u001b[0;34m[\u001b[0m\u001b[0mEVENT_TYPE_INDEX\u001b[0m\u001b[0;34m]\u001b[0m\u001b[0;34m)\u001b[0m\u001b[0;34m)\u001b[0m\u001b[0;34m\u001b[0m\u001b[0m\n\u001b[1;32m     95\u001b[0m \u001b[0;34m\u001b[0m\u001b[0m\n\u001b[0;32m---> 96\u001b[0;31m                 \u001b[0mclean_line\u001b[0m \u001b[0;34m=\u001b[0m \u001b[0mclean_line\u001b[0m \u001b[0;34m+\u001b[0m \u001b[0;34m[\u001b[0m\u001b[0mnp\u001b[0m\u001b[0;34m.\u001b[0m\u001b[0mnan\u001b[0m\u001b[0;34m]\u001b[0m\u001b[0;34m*\u001b[0m\u001b[0mlen\u001b[0m\u001b[0;34m(\u001b[0m\u001b[0mevent_type_labels\u001b[0m\u001b[0;34m)\u001b[0m \u001b[0;34m+\u001b[0m \u001b[0;34m[\u001b[0m\u001b[0mlog\u001b[0m\u001b[0;34m[\u001b[0m\u001b[0;34m-\u001b[0m\u001b[0;36m14\u001b[0m\u001b[0;34m:\u001b[0m\u001b[0;34m-\u001b[0m\u001b[0;36m4\u001b[0m\u001b[0;34m]\u001b[0m\u001b[0;34m]\u001b[0m\u001b[0;34m\u001b[0m\u001b[0m\n\u001b[0m\u001b[1;32m     97\u001b[0m                 \u001b[0mclean_line\u001b[0m\u001b[0;34m[\u001b[0m\u001b[0mSTART_INDEX\u001b[0m\u001b[0;34m:\u001b[0m\u001b[0mSTART_INDEX\u001b[0m \u001b[0;34m+\u001b[0m \u001b[0mlen\u001b[0m\u001b[0;34m(\u001b[0m\u001b[0mevent_type_dependent_strings\u001b[0m\u001b[0;34m)\u001b[0m\u001b[0;34m]\u001b[0m \u001b[0;34m=\u001b[0m \u001b[0mevent_type_dependent_strings\u001b[0m\u001b[0;34m\u001b[0m\u001b[0m\n\u001b[1;32m     98\u001b[0m                 \u001b[0mclean_lines\u001b[0m\u001b[0;34m.\u001b[0m\u001b[0mappend\u001b[0m\u001b[0;34m(\u001b[0m\u001b[0mclean_line\u001b[0m\u001b[0;34m)\u001b[0m\u001b[0;34m\u001b[0m\u001b[0m\n",
      "\u001b[0;31mKeyboardInterrupt\u001b[0m: "
     ]
    }
   ],
   "source": [
    "if not os.path.isfile('./checkpoints/data_0.csv'):\n",
    "    df = from_bac()\n",
    "else:\n",
    "    df = pd.read_csv('./checkpoints/data_0.csv')"
   ]
  },
  {
   "cell_type": "markdown",
   "metadata": {},
   "source": [
    "### Combine date and time"
   ]
  },
  {
   "cell_type": "code",
   "execution_count": null,
   "metadata": {
    "collapsed": true
   },
   "outputs": [],
   "source": [
    "def to_datetime(row):\n",
    "    new_date = row['date'] + ' ' + row['TimeStamp']\n",
    "    dt = datetime.strptime(new_date, '%Y-%m-%d %H:%M:%S')\n",
    "    dt = dt + timedelta(hours=4)\n",
    "    unix_secs = mktime(dt.timetuple())\n",
    "    return unix_secs"
   ]
  },
  {
   "cell_type": "code",
   "execution_count": null,
   "metadata": {
    "collapsed": true
   },
   "outputs": [],
   "source": [
    "df['unix_time'] = df.apply(to_datetime, axis=1)\n",
    "df = df.drop([\"TimeStamp\",\"date\"], axis=1)"
   ]
  },
  {
   "cell_type": "markdown",
   "metadata": {},
   "source": [
    "### Drop useless columns"
   ]
  },
  {
   "cell_type": "code",
   "execution_count": null,
   "metadata": {
    "collapsed": true
   },
   "outputs": [],
   "source": [
    "# Useless columns\n",
    "df = df.drop([\"LogLevel\", \"LogVisibility\", \"LogSeverity\"],axis=1, errors='ignore')\n",
    "\n",
    "# useless after deleting General Message\n",
    "df = df.drop(\"string message\", axis=1, errors='ignore')\n",
    "\n",
    "# useless after deleting Button Change Event\n",
    "df = df.drop([\"keypad ID\", \"keypadName\", \"roomName2\", \"buttonNum\", \"buttonState\"], axis=1, errors='ignore')\n",
    "\n",
    "# useless after deleting Connection Status\n",
    "df = df.drop([\"device ID1\", \"Name\", \"roomName5\", \"connection status\", \"Load 1 Room Name:Load 1 Name\", \"Load 2 Room Name:Load 2 Name\"], axis=1, errors='ignore')\n",
    "\n",
    "# useless after deleting Remote System Event\n",
    "df = df.drop([\"signalID\", \"signalName\", \"roomName3\", \"RemoteSystemEvent string\"], axis=1, errors='ignore')"
   ]
  },
  {
   "cell_type": "markdown",
   "metadata": {},
   "source": [
    "### Remove useless event types"
   ]
  },
  {
   "cell_type": "code",
   "execution_count": null,
   "metadata": {
    "collapsed": true
   },
   "outputs": [],
   "source": [
    "df = df[df['eventType'] != 'ButtonChangedEvent']\n",
    "df = df[df['eventType'] != 'GeneralMessage']\n",
    "df = df[df['eventType'] != 'RemoteSystemEvent']\n",
    "df = df[df['eventType'] != 'TimeClockChangedEvent']\n",
    "df = df[df['eventType'] != 'ConnectionStatus']\n",
    "df = df[df['eventType'] != 'DeviceConnectionStatusWithOptions']"
   ]
  },
  {
   "cell_type": "markdown",
   "metadata": {},
   "source": [
    "### Merge Ids and Names"
   ]
  },
  {
   "cell_type": "code",
   "execution_count": null,
   "metadata": {
    "collapsed": true
   },
   "outputs": [],
   "source": [
    "def merge_columns(row, *args):\n",
    "    count = sum(1 for column_name in args if pd.notna(row[column_name]))\n",
    "    # checks if more than one value in the merged rows\n",
    "    assert count < 2\n",
    "    for column_name in args:\n",
    "        if pd.notna(row[column_name]):\n",
    "            return row[column_name]\n",
    "    return np.nan"
   ]
  },
  {
   "cell_type": "code",
   "execution_count": null,
   "metadata": {},
   "outputs": [],
   "source": [
    "# Merge room names\n",
    "df['room_name_merged'] = df.apply(merge_columns, args=(\"roomName1\",\"roomName4\",\"roomName6\"), axis=1)\n",
    "df = df.drop([\"roomName1\",\"roomName4\",\"roomName6\"], axis=1)"
   ]
  },
  {
   "cell_type": "code",
   "execution_count": null,
   "metadata": {
    "collapsed": true
   },
   "outputs": [],
   "source": [
    "# Merge device name\n",
    "df['device_name'] = df.apply(merge_columns, args=(\"loadName\", \"name\", \"Device Name1\", \"Device Name2\"), axis=1)\n",
    "df = df.drop([\"loadName\", \"name\", \"Device Name1\", \"Device Name2\"], axis=1)"
   ]
  },
  {
   "cell_type": "code",
   "execution_count": null,
   "metadata": {
    "collapsed": true
   },
   "outputs": [],
   "source": [
    "# Merge IDs \n",
    "df['device_id'] = df.apply(merge_columns, args=('load ID', 'ID', 'device ID2', 'device ID3'), axis=1)\n",
    "df = df.drop(['load ID', 'ID', 'device ID2', 'device ID3'], axis=1)"
   ]
  },
  {
   "cell_type": "code",
   "execution_count": null,
   "metadata": {
    "collapsed": true
   },
   "outputs": [],
   "source": [
    "# Merge messages \n",
    "df['message_merged'] = df.apply(merge_columns, args=(\"message1\", \"message2\"), axis=1)\n",
    "df = df.drop([\"message1\", \"message2\"], axis=1)"
   ]
  },
  {
   "cell_type": "markdown",
   "metadata": {},
   "source": [
    "### Combine device name and id to for truly unique ids"
   ]
  },
  {
   "cell_type": "code",
   "execution_count": null,
   "metadata": {
    "collapsed": true
   },
   "outputs": [],
   "source": [
    "df['device_id_name'] = df['device_id'].astype(str) + df['device_name'].astype(str)\n",
    "df = df.drop([\"device_id\", \"device_name\"], axis=1)"
   ]
  },
  {
   "cell_type": "code",
   "execution_count": null,
   "metadata": {
    "collapsed": true
   },
   "outputs": [],
   "source": [
    "df = df.drop_duplicates()"
   ]
  },
  {
   "cell_type": "code",
   "execution_count": null,
   "metadata": {
    "collapsed": true
   },
   "outputs": [],
   "source": [
    "df = df.fillna('nan')"
   ]
  },
  {
   "cell_type": "code",
   "execution_count": 14,
   "metadata": {},
   "outputs": [],
   "source": [
    "# Checkpoint \n",
    "save_or_load_from_checkpoint(df, './checkpoints/data_h5.h5')  "
   ]
  },
  {
   "cell_type": "code",
   "execution_count": 16,
   "metadata": {
    "collapsed": true
   },
   "outputs": [],
   "source": [
    "df = pd.read_hdf('./checkpoints/data_h5.h5','table')"
   ]
  },
  {
   "cell_type": "code",
   "execution_count": 17,
   "metadata": {},
   "outputs": [
    {
     "data": {
      "text/html": [
       "<div>\n",
       "<style scoped>\n",
       "    .dataframe tbody tr th:only-of-type {\n",
       "        vertical-align: middle;\n",
       "    }\n",
       "\n",
       "    .dataframe tbody tr th {\n",
       "        vertical-align: top;\n",
       "    }\n",
       "\n",
       "    .dataframe thead th {\n",
       "        text-align: right;\n",
       "    }\n",
       "</style>\n",
       "<table border=\"1\" class=\"dataframe\">\n",
       "  <thead>\n",
       "    <tr style=\"text-align: right;\">\n",
       "      <th></th>\n",
       "      <th>entryType</th>\n",
       "      <th>entrySubType</th>\n",
       "      <th>eventType</th>\n",
       "      <th>rampTime</th>\n",
       "      <th>rampBaseValue</th>\n",
       "      <th>rampFinalValue</th>\n",
       "      <th>signal event ID</th>\n",
       "      <th>signal Value</th>\n",
       "      <th>Signal Name</th>\n",
       "      <th>Signal Value string</th>\n",
       "      <th>Signal direction</th>\n",
       "      <th>unix_time</th>\n",
       "      <th>room_name_merged</th>\n",
       "      <th>message_merged</th>\n",
       "      <th>device_id_name</th>\n",
       "    </tr>\n",
       "  </thead>\n",
       "  <tbody>\n",
       "    <tr>\n",
       "      <th>1</th>\n",
       "      <td>Lights</td>\n",
       "      <td>Scene</td>\n",
       "      <td>SceneChangedEvent</td>\n",
       "      <td>NaN</td>\n",
       "      <td>NaN</td>\n",
       "      <td>NaN</td>\n",
       "      <td>NaN</td>\n",
       "      <td>NaN</td>\n",
       "      <td>NaN</td>\n",
       "      <td>NaN</td>\n",
       "      <td>NaN</td>\n",
       "      <td>1.502438e+09</td>\n",
       "      <td>Upstairs Landing</td>\n",
       "      <td>SceneRecalled</td>\n",
       "      <td>74Night</td>\n",
       "    </tr>\n",
       "    <tr>\n",
       "      <th>3</th>\n",
       "      <td>DoorLock</td>\n",
       "      <td>Device</td>\n",
       "      <td>SignalChangedEventWithStrings</td>\n",
       "      <td>NaN</td>\n",
       "      <td>NaN</td>\n",
       "      <td>NaN</td>\n",
       "      <td>NaN</td>\n",
       "      <td>NaN</td>\n",
       "      <td>Basement Mudroom</td>\n",
       "      <td>Lock</td>\n",
       "      <td>ToDevice</td>\n",
       "      <td>1.502438e+09</td>\n",
       "      <td>NaN</td>\n",
       "      <td>NaN</td>\n",
       "      <td>208Basement Mudroom Door</td>\n",
       "    </tr>\n",
       "    <tr>\n",
       "      <th>4</th>\n",
       "      <td>DoorLock</td>\n",
       "      <td>Scene</td>\n",
       "      <td>SceneChangedEvent</td>\n",
       "      <td>NaN</td>\n",
       "      <td>NaN</td>\n",
       "      <td>NaN</td>\n",
       "      <td>NaN</td>\n",
       "      <td>NaN</td>\n",
       "      <td>NaN</td>\n",
       "      <td>NaN</td>\n",
       "      <td>NaN</td>\n",
       "      <td>1.502438e+09</td>\n",
       "      <td>Basement Mudroom</td>\n",
       "      <td>SceneRecalled</td>\n",
       "      <td>77Lock Basement Mudroom Door</td>\n",
       "    </tr>\n",
       "    <tr>\n",
       "      <th>13</th>\n",
       "      <td>Lights</td>\n",
       "      <td>Load</td>\n",
       "      <td>LevelChangedEvent</td>\n",
       "      <td>0</td>\n",
       "      <td>0</td>\n",
       "      <td>19275</td>\n",
       "      <td>NaN</td>\n",
       "      <td>NaN</td>\n",
       "      <td>NaN</td>\n",
       "      <td>NaN</td>\n",
       "      <td>NaN</td>\n",
       "      <td>1.502438e+09</td>\n",
       "      <td>Upstairs Landing</td>\n",
       "      <td>NaN</td>\n",
       "      <td>118Sconces</td>\n",
       "    </tr>\n",
       "    <tr>\n",
       "      <th>14</th>\n",
       "      <td>Lights</td>\n",
       "      <td>Load</td>\n",
       "      <td>LevelChangedEvent</td>\n",
       "      <td>-1</td>\n",
       "      <td>0</td>\n",
       "      <td>0</td>\n",
       "      <td>NaN</td>\n",
       "      <td>NaN</td>\n",
       "      <td>NaN</td>\n",
       "      <td>NaN</td>\n",
       "      <td>NaN</td>\n",
       "      <td>1.502438e+09</td>\n",
       "      <td>Upstairs Landing</td>\n",
       "      <td>NaN</td>\n",
       "      <td>122Chandelier</td>\n",
       "    </tr>\n",
       "  </tbody>\n",
       "</table>\n",
       "</div>"
      ],
      "text/plain": [
       "   entryType entrySubType                      eventType rampTime  \\\n",
       "1     Lights        Scene              SceneChangedEvent      NaN   \n",
       "3   DoorLock       Device  SignalChangedEventWithStrings      NaN   \n",
       "4   DoorLock        Scene              SceneChangedEvent      NaN   \n",
       "13    Lights         Load              LevelChangedEvent        0   \n",
       "14    Lights         Load              LevelChangedEvent       -1   \n",
       "\n",
       "   rampBaseValue rampFinalValue signal event ID signal Value  \\\n",
       "1            NaN            NaN             NaN          NaN   \n",
       "3            NaN            NaN             NaN          NaN   \n",
       "4            NaN            NaN             NaN          NaN   \n",
       "13             0          19275             NaN          NaN   \n",
       "14             0              0             NaN          NaN   \n",
       "\n",
       "         Signal Name Signal Value string Signal direction     unix_time  \\\n",
       "1                NaN                 NaN              NaN  1.502438e+09   \n",
       "3   Basement Mudroom                Lock         ToDevice  1.502438e+09   \n",
       "4                NaN                 NaN              NaN  1.502438e+09   \n",
       "13               NaN                 NaN              NaN  1.502438e+09   \n",
       "14               NaN                 NaN              NaN  1.502438e+09   \n",
       "\n",
       "    room_name_merged message_merged                device_id_name  \n",
       "1   Upstairs Landing  SceneRecalled                       74Night  \n",
       "3                NaN            NaN      208Basement Mudroom Door  \n",
       "4   Basement Mudroom  SceneRecalled  77Lock Basement Mudroom Door  \n",
       "13  Upstairs Landing            NaN                    118Sconces  \n",
       "14  Upstairs Landing            NaN                 122Chandelier  "
      ]
     },
     "execution_count": 17,
     "metadata": {},
     "output_type": "execute_result"
    }
   ],
   "source": [
    "df.head()"
   ]
  },
  {
   "cell_type": "markdown",
   "metadata": {},
   "source": [
    "### Normalize Column Values"
   ]
  },
  {
   "cell_type": "code",
   "execution_count": 18,
   "metadata": {},
   "outputs": [
    {
     "name": "stdout",
     "output_type": "stream",
     "text": [
      "entryType ['Lights' 'DoorLock' 'Climate' 'Auxiliary' 'System' 'Shades']\n",
      "entrySubType ['Scene' 'Device' 'Load' 'Occupancy']\n",
      "eventType ['SceneChangedEvent' 'SignalChangedEventWithStrings' 'LevelChangedEvent'\n",
      " 'SignalChangedEvent' 'OccupancyChangedEvent']\n",
      "rampTime [nan '0' '-1' ... '3122' '1655' '3273']\n",
      "rampBaseValue [nan '0' '19275' ... '40828' '44286' '14330']\n",
      "rampFinalValue [nan '19275' '0' '18247' '13621' '65535' '14135' '52685' '32639' '47031'\n",
      " '39064' '63222' '55512' '44244' '39567' '48385' '48156' '40597' '39590'\n",
      " '44267' '40617' '48169' '48398' '35723' '26471' '28784' '27756' '24929'\n",
      " '15163' '11051' '514' '38036' '13878' '29555' '35209' '33153' '31611'\n",
      " '33924' '17476' '22359' '21331' '4112' '22616' '2056' '22873' '8224'\n",
      " '7710' '3341' '64250' '63993' '17219' '7967' '32896' '44718' '21588'\n",
      " '24158' '14392' '2827' '8738' '28527' '22102' '17733' '24415' '19018'\n",
      " '9766' '13107' '27499' '11308' '6939' '28270' '51400' '20666' '26060'\n",
      " '20563' '20485' '17193' '26083' '20689' '17213' '20497' '20576' '54227'\n",
      " '16705' '14649' '41120' '31354' '13364' '50629' '1285' '58853' '61423'\n",
      " '32125' '36494' '10023' '12850' '16191' '12593' '7196' '60138' '62708'\n",
      " '59110' '50372' '35980' '37779' '4626' '26728' '58596' '41634' '4883'\n",
      " '48573' '59624' '3855' '63736' '49601' '38293' '46003' '8995' '46517'\n",
      " '44204' '12336' '25443' '4369' '39578' '1028' '3084' '56026' '42880'\n",
      " '38358' '47617' '47335' '39414' '17990' '28013' '23901' '18504' '2313'\n",
      " '11565' '15677' '45489' '9252' '39835' '47802' '63479' '26985' '1542'\n",
      " '38777' '47588' '39685' '47843' '43366' '29041' '21074' '30326' '39321'\n",
      " '38550' '40606' '7453' '60652' '44461' '14906' '5654' '20817' '64297'\n",
      " '44573' '54484' '64507' '30069' '40092' '34181' '34175' '16778' '16584'\n",
      " '4595' '4922' '234' '247' '5221' '5590' '40863' '11822' '31097' '1843'\n",
      " '2496' '2394' '1272' '1824' '1262' '2371' '35466' '38807' '6425' '54998'\n",
      " '29809' '29812' '9509' '2570' '1799' '18761' '12079' '63006' '61807'\n",
      " '43162' '19789' '20560' '33410' '3598' '15410' '15382' '21845' '20046'\n",
      " '19532' '16962' '29298' '23387' '15420' '25957' '6682' '61937' '56540'\n",
      " '46260' '55255' '59881' '60395' '8481' '30840' '10280' '44975' '62451'\n",
      " '58082' '47288' '17930' '33195' '32918' '27867' '18047' '16884' '16456'\n",
      " '15934' '58339' '20303' '52428' '53970' '24672' '5911' '62194' '50886'\n",
      " '50115' '57054' '10794' '42148' '5140' '16448' '459' '499' '512' '472'\n",
      " '485' '498' '511' '524' '537' '603' '525' '539' '565' '657' '36237'\n",
      " '46774' '45410' '48059' '44750' '44800' '43502' '43028' '61020' '61127'\n",
      " '60909' '64068' '54216' '31868' '10537' '25700' '43947' '40349' '25186'\n",
      " '37265' '48197' '43519' '50238' '43683' '50291' '23130' '43176' '23644'\n",
      " '57568' '42405' '41377' '49344' '57825' '271' '176' '163' '323' '42379'\n",
      " '51240' '65523' '61680' '30583' '62965' '183' '184' '52195' '46812'\n",
      " '37522' '37008' '58713' '49087' '162' '65015' '24' '44719' '65510'\n",
      " '40747' '34964' '36639' '39737' '45349' '44948' '65522' '32382' '33667'\n",
      " '65515' '325' '300' '2184' '24880' '27583' '33534' '44809' '44756'\n",
      " '27269' '27647' '5559' '5515' '27242' '26214' '37' '170' '26' '160' '125'\n",
      " '175' '173' '42662' '7142' '7090' '3843' '3498' '6054' '7119' '7067'\n",
      " '3485' '61166' '6168' '51914' '52171' '45232' '5397' '64764' '53713'\n",
      " '64767' '64758' '64633' '65005' '65055' '64792' '65046' '34952' '56797'\n",
      " '42919' '13060' '16621' '32055' '37516' '41316' '44402' '2137' '45590'\n",
      " '43433' '45746' '5224' '7123' '12822' '28968' '32768' '42265' '51763'\n",
      " '52238' '49151' '45827' '47014' '51051' '51143' '63652' '63442' '63315'\n",
      " '64309' '64186' '37934' '37777' '50326' '50354' '42111' '33824' '34194'\n",
      " '26503' '26682' '30926' '30782' '65278' '51657' '49858' '47545' '43690'\n",
      " '34438' '47126' '45654' '42708' '36751' '30190' '30927' '33627' '41972'\n",
      " '41891' '32645' '21600' '52942' '65311' '65285' '43561' '53199' '26052'\n",
      " '26153' '14251' '22064' '14195' '54741' '55769' '2879' '3803' '4091'\n",
      " '5016' '2683' '4068' '34695' '3789' '7335' '10356' '19140' '10319'\n",
      " '59367' '53456' '62590' '62636' '53298' '53650' '56866' '57305' '15175'\n",
      " '771' '64957' '65000' '65194' '64952' '47428' '47664' '32709' '32593'\n",
      " '37589' '492' '1017' '1139' '516' '853' '873' '892' '950' '970' '931'\n",
      " '505' '517' '543' '631' '994' '1115' '504' '491' '13029' '35004' '35393'\n",
      " '35587' '35782' '6806' '20419' '29364' '39088' '40838' '41810' '42588'\n",
      " '42199' '32117' '29172' '28435' '26226' '25490' '24017' '23035' '21563'\n",
      " '21317' '21072' '20826' '20581' '45279' '48316' '50045' '48830' '37760'\n",
      " '35139' '29062' '28347' '28823' '29300' '49696' '36707' '49760' '41199'\n",
      " '36477' '12518' '14236' '15218' '23072' '24545' '25527' '26018' '26999'\n",
      " '25036' '23563' '36852' '35127' '39806' '45618' '44416' '63395' '63306'\n",
      " '27780' '30972' '32547' '41778' '41241' '5560' '5271' '56283' '257'\n",
      " '32970' '11665' '27573' '37546' '42295' '42770' '43245' '37423' '65272'\n",
      " '65521' '65508' '45678' '40660' '49154' '48725' '41645' '48694' '65021'\n",
      " '3357' '3952' '2242' '4045' '2147' '3928' '10980' '9671' '5822' '8208'\n",
      " '5947' '9763' '9787' '8694' '10112' '12228' '6653' '12205' '6504' '20132'\n",
      " '12222' '11972' '22538' '20155' '12247' '11985' '12010' '22561' '22607'\n",
      " '22630' '12260' '12272' '12023' '22885' '12298' '12036' '23598' '22862'\n",
      " '12323' '12061' '12424' '12174' '23875' '32108' '16911' '31224' '17161'\n",
      " '17174' '32131' '23898' '31244' '17187' '32154' '32178' '32201' '32224'\n",
      " '17199' '17224' '17262' '32478' '17275' '39892' '54416' '28766' '28808'\n",
      " '19902' '45259' '45184' '60376' '60340' '2704' '2557' '2386' '1486'\n",
      " '1376' '432' '250' '65330' '65062' '57437' '4867' '4820' '4804' '40203'\n",
      " '40187' '52612' '53260' '58302' '54861' '58626' '48378' '57243' '56921'\n",
      " '51562' '48683' '34027' '34104' '18346' '18350' '28585' '34080' '28566'\n",
      " '57311' '65411' '36847' '46823' '46641' '38210' '40916' '52550' '41260'\n",
      " '25413' '34529' '24849' '13225' '16136' '40134' '34353' '21647' '32907'\n",
      " '49816' '50032' '52506' '42008' '42025' '45954' '52602' '22977' '14599'\n",
      " '14817' '33923' '33718' '3434' '20891' '21116' '679' '878' '478' '442'\n",
      " '860' '698' '901' '718' '737' '756' '795' '815' '554' '604' '924' '947'\n",
      " '836' '42719' '36833' '33678' '32376' '65488' '65465' '65497' '65484'\n",
      " '65496' '45000' '45017' '41467' '40931' '32856']\n",
      "signal event ID [nan '13' '6' '14' '15' '16' '5' '1' '4' '3' '2' '11' '10' '8' '17']\n",
      "signal Value [nan '1' '0' '300' '1800' '900' '65535' '35723' '38036' '2' '3' '20775'\n",
      " '32896' '22086' '9766' '11308' '32125' '12850' '16973' '7196' '27328'\n",
      " '64250' '30' '18247' '13878' '58596' '41634' '49601' '46003' '8995'\n",
      " '1285' '39578' '27525' '50372' '44204' '23659' '52685' '22616' '40606'\n",
      " '15677' '18678' '38797' '32113' '22359' '18744' '38807' '54998' '17733'\n",
      " '20185' '28770' '514' '18761' '17366' '39835' '9252' '28527' '12059'\n",
      " '19726' '63241' '46260' '27918' '22873' '17219' '28270' '26934' '45482'\n",
      " '10421' '63700' '6816' '3855' '4369' '59624' '2313' '7967' '3896' '1799'\n",
      " '4112' '39321' '5374' '408' '30409' '15420' '2570' '35209' '17990'\n",
      " '17892' '8738' '31354' '19018' '24661' '23461' '5911' '26728' '14135'\n",
      " '2056' '3084' '17367' '31868' '10537' '30840' '11141' '40349' '8651'\n",
      " '13697' '13894' '24707' '23921' '36503' '55512' '9509' '21430' '15163'\n",
      " '13621' '12079' '278' '464' '45481' '61680' '5178' '28013' '27756'\n",
      " '41222' '6682' '10026' '6605' '38550' '16448' '23003' '64' '16' '14353'\n",
      " '47644' '21234' '24314' '1686' '6425' '40632' '6939' '48824' '11993'\n",
      " '23901' '16191' '26018' '41120' '4892' '15336' '58339' '64978' '63755'\n",
      " '48304' '47841' '42794' '21102' '16319' '36494' '44718' '42662' '60424'\n",
      " '30802' '33924' '33422' '23644' '42919' '23387' '7453' '31457' '26985'\n",
      " '28784' '17236' '62451' '17171' '3342' '38732' '7464' '8717' '16384'\n",
      " '25428' '21627' '25443' '11822' '37265' '54741' '33667' '26471' '57054'\n",
      " '59367' '46517' '31195' '65469' '34078' '14649' '24838' '17433' '62965'\n",
      " '17695' '20120' '25186' '38293' '13501' '1049' '36237' '33620' '22020'\n",
      " '25231' '33410' '34472' '43352' '32932' '55769' '64764' '11565' '46774'\n",
      " '25363' '24415' '43176' '3004' '55934' '16712' '24445' '20046' '56797'\n",
      " '29298' '33423' '29812' '3341' '2827' '22282' '31588' '8481' '5310'\n",
      " '13860' '957' '16711' '14484' '21074' '25700' '37522' '30540' '6370'\n",
      " '57048' '42405' '35389' '16705' '15401' '62708' '35455' '18612' '11342'\n",
      " '34995' '4025' '47288' '50134' '32047' '17498' '52339' '38207' '27066'\n",
      " '24158' '6685' '47709' '2386' '48103' '11731' '17476' '34695' '27242'\n",
      " '30867' '26411' '63222' '48759' '9438' '39064' '53914' '18611' '46155'\n",
      " '26410' '6168' '4418' '37552' '57605' '54484' '60395' '18219' '3598'\n",
      " '34734' '34537' '14906' '57825' '29098' '12593' '44975' '63634' '17505'\n",
      " '53424' '19275' '7209' '20702' '12336' '62194' '33416' '34181' '58785'\n",
      " '51143' '15934' '7865' '19661' '51970' '59110' '3146' '55509' '29950'\n",
      " '1377' '11666' '19532' '41681' '31097' '24969' '48234' '56540' '32382'\n",
      " '10023' '51379' '51914' '16932' '14054' '1542' '16777' '16962' '6946'\n",
      " '32639' '41891' '7710' '60510' '11075' '58853' '20817' '45874' '58082'\n",
      " '8224' '14222' '42140' '20513' '29884' '18504' '40092' '43254' '29555'\n",
      " '16776' '2032' '48830' '3323' '19496' '39846' '17760' '18677' '3670'\n",
      " '50265' '52428' '45677']\n"
     ]
    },
    {
     "name": "stdout",
     "output_type": "stream",
     "text": [
      "Signal Name [nan 'Basement Mudroom' 'Master Bed' 'Great Room' 'Kitchen' 'Unassigned']\n",
      "Signal Value string [nan 'Lock' 'Cool Stage 1' 'Active Fan Level' 'Temperature'\n",
      " 'Scheduled Setpoints' '\"Wake\" Event' '\"Leave\" Event' '\"Return\" Event'\n",
      " '\"Sleep\" Event' 'Hold' 'Auto Setpoint' 'Cool Setpoint'\n",
      " '\"Weekend Wake\" Event' '\"Wake Weekend\" Event' 'Unlock' 'Heat Setpoint'\n",
      " 'Heat Stage 1' 'Fan' 'Floor Warming' 'Humidifier Enable' 'Humidifier Off'\n",
      " 'Slab 1' 'Slab 2' 'Slab 3' 'Slab 4A' 'Slab 4B' 'Slab 5A' 'Slab 5B'\n",
      " 'Auto Mode' 'Single Setpoint Mode' 'Heat Mode' 'Cool Mode'\n",
      " 'Humidity Mode' 'Humidity View' 'Auto Deadband' 'Mode' 'Slab Setpoint'\n",
      " 'Humidity Setpoint' 'Get Information' 'Slab Temperature']\n",
      "Signal direction [nan 'ToDevice' 'Inactive' 'Off' '71° Fahrenheit' '72° Fahrenheit'\n",
      " '74° Fahrenheit' '75° Fahrenheit' '73° Fahrenheit' 'Active' 'High'\n",
      " 'Heat = 71° Fahrenheit, Cool = 75° Fahrenheit, and Auto = 72° Fahrenheit'\n",
      " 'Heat Setpoint 71° Fahrenheit, Cool Setpoint 75° Fahrenheit, and Auto Setpoint 72° Fahrenheit'\n",
      " 'Heat = 71° Fahrenheit, Cool = 74° Fahrenheit, and Auto = 72° Fahrenheit'\n",
      " 'Heat Setpoint 71° Fahrenheit, Cool Setpoint 74° Fahrenheit, and Auto Setpoint 72° Fahrenheit'\n",
      " 'Heat = 68° Fahrenheit, Cool = 74° Fahrenheit, and Auto = 72° Fahrenheit'\n",
      " 'Heat Setpoint 68° Fahrenheit, Cool Setpoint 74° Fahrenheit, and Auto Setpoint 72° Fahrenheit'\n",
      " 'Heat = 67° Fahrenheit, Cool = 77° Fahrenheit, and Auto = 72° Fahrenheit'\n",
      " 'Heat Setpoint 67° Fahrenheit, Cool Setpoint 77° Fahrenheit, and Auto Setpoint 72° Fahrenheit'\n",
      " 'Heat = 67° Fahrenheit, Cool = 72° Fahrenheit, and Auto = 72° Fahrenheit'\n",
      " 'Heat Setpoint 67° Fahrenheit, Cool Setpoint 72° Fahrenheit, and Auto Setpoint 72° Fahrenheit'\n",
      " '77° Fahrenheit' '78° Fahrenheit' '76° Fahrenheit' '79° Fahrenheit' 'On'\n",
      " 'Heat Setpoint 71° Fahrenheit, Cool Setpoint 74° Fahrenheit, and Auto Setpoint 70° Fahrenheit'\n",
      " 'FromDevice'\n",
      " 'Heat = 71° Fahrenheit, Cool = 74° Fahrenheit, and Auto = 70° Fahrenheit'\n",
      " '68° Fahrenheit' '69° Fahrenheit' '70° Fahrenheit' '67° Fahrenheit'\n",
      " '66° Fahrenheit'\n",
      " 'Heat = 67° Fahrenheit, Cool = 71° Fahrenheit, and Auto = 73° Fahrenheit'\n",
      " 'Heat Setpoint 67° Fahrenheit, Cool Setpoint 71° Fahrenheit, and Auto Setpoint 73° Fahrenheit'\n",
      " 'Auto' 'Heat:False' 'Off:False' '0° Fahrenheit' 'Enabled' 'Disabled'\n",
      " '2° Fahrenheit' 'Heat' 'Off:True' '5%' 'Cool' '80° Fahrenheit'\n",
      " '81° Fahrenheit' '65° Fahrenheit' '64° Fahrenheit' '32° Fahrenheit'\n",
      " '63° Fahrenheit' '62° Fahrenheit'\n",
      " 'Heat = 67° Fahrenheit, Cool = 73° Fahrenheit, and Auto = 73° Fahrenheit'\n",
      " 'Heat Setpoint 67° Fahrenheit, Cool Setpoint 73° Fahrenheit, and Auto Setpoint 73° Fahrenheit'\n",
      " '61° Fahrenheit' '60° Fahrenheit' '59° Fahrenheit' '122° Fahrenheit'\n",
      " '121° Fahrenheit' '120° Fahrenheit' '119° Fahrenheit' '118° Fahrenheit']\n",
      "unix_time [1.50243840e+09 1.50243841e+09 1.50243877e+09 ... 1.52541931e+09\n",
      " 1.52542062e+09 1.52542062e+09]\n",
      "room_name_merged ['Upstairs Landing' nan 'Basement Mudroom' 'Basement Rec Room'\n",
      " 'Basement Bathroom' 'Basement Stairs' 'Billiards Room'\n",
      " 'First Floor Bathroom' 'Whole House' 'First Floor Hallway'\n",
      " 'First Floor Mudroom' 'Foyer' 'Great Room' 'Kitchen' 'Library'\n",
      " 'Family Room' 'Office First Floor' 'Office Second Floor' 'Theater'\n",
      " 'Dining Room' 'Front Yard' 'Guest Room' 'Second Floor Bathroom' 'Garage'\n",
      " 'Master Bath' 'Master Walk In Closet' 'Master Bed' 'Madis Bedroom'\n",
      " \"Alex's bedroom\" 'Back Yard' 'Rack Room' 'Dinette' 'Unassigned']\n",
      "message_merged ['SceneRecalled' nan 'FromDevice' 'OccupancyDetected' 'VacancyDetected'\n",
      " 'ToDevice' 'GraceOccupancyDetected' 'Cause: Key or Thumb-turn.'\n",
      " 'Cause: Keypad PIN Entry.' 'SceneFastRecalled'\n",
      " 'Cause: LockUnlockMalfunction' 'Cause: One-touch.']\n",
      "device_id_name ['74Night' '208Basement Mudroom Door' '77Lock Basement Mudroom Door'\n",
      " '118Sconces' '122Chandelier' '120Overhead' '194Master Bed'\n",
      " '195Great Room' '17Overhead Lights' '23TV Lights' '19Foosball Lights'\n",
      " '21Couch Light' '27Closet Light' '11Overhead Light' '15Shower Light'\n",
      " '5Bar Light' '7Overhead Light' '9Under Bar Light' '29Pathway Light'\n",
      " '35Overhead' '37Perimeter' '43Overhead' '45Shower' '73Night'\n",
      " '48Left Overhead Light' '50Center Overhead Light'\n",
      " '54Right Overhead Light' '58Window Lights' '62Overhead Light'\n",
      " '66Foyer Light' '79Overhead Top Lights' '77Overhead Bottom Lights'\n",
      " '82Chandelier' '84Cove Lights' '90Counter' '86Island' '92Overhead'\n",
      " '94Desk' '88Sink' '52Overhead Light' '75Center Light'\n",
      " '73Perimeter Lights' '39Overhead Light' '133Overhead' '161Perimeter'\n",
      " '164Cove' '159Screen Lights' '143Dinette' '64Chandelier'\n",
      " '34Kitchen Pantry' '71Foyer Sconce' '56Front Porch Light'\n",
      " '111Outside All Off' '68Front Door Scones' '60Mudroom Door Sconce'\n",
      " '170Guest Room Occ Sensor' '29Guest Room' '52All Off' '116Overhead'\n",
      " '169Second Floor Bath Occ Sensor' '30Second Floor Bathroom' '56All Off'\n",
      " '126Sink' '128Overhead' '79Latenight Sconce Motion On'\n",
      " '178Basement Rec Room Ceiling' '168Main Garage Sensor' '173Occ Sensor'\n",
      " '192Kitchen' '104Sink' '99Shower' '100Overhead' '106Overhead'\n",
      " '108Reading Chip' '110Reading Beth' '112Overhead' '135Overhead'\n",
      " '137Overhead' '139Lamp' '141Lamp' '2All Off' '2Patio'\n",
      " '146Patio Door (upper)' '205Main Garage Overhead' '217Floor lamp'\n",
      " '13All On' '9All On' '21Garage' '174New Garage Overhead 1'\n",
      " '176New Garage Overhead 2' '25Overhead Light' '153Rack Overhead'\n",
      " '14All Off' '90Sunset' '1713rd Car Garage Sensor' '114Theater Occ Sensor'\n",
      " '78Daytime Sconce Motion On' '26Master Bath' '46All Off' '102Fan'\n",
      " '45All On' '66Occupancy' '1Basement Rec Room'\n",
      " '80Mornifng Sconce Motion On' '41Cook' '96Range Hood' '40All Off'\n",
      " '8All Off' '1041/4 Closed' '191Closet Side Of House'\n",
      " '189Closet Front Left' '188Master Bed Front Right'\n",
      " '187Master Bed Front Left' '185Closet Front Right' '89Kitchen Only On'\n",
      " '19All On' '41Fan' '20All Off' '130Fan' '11All On' '49All On' '82Night'\n",
      " '157Basement Storage Room' '50All Off' '21All On' '38Night' '87Talk'\n",
      " '88Movie' '63All On' '3Door Light' '147Side Yard' '64All Off' '42Night'\n",
      " '67Night' '86All Off' '13Fan' '55All On' '196Side Of House'\n",
      " '183Front Of House' '60All Off' \"166Madi's Closet\" '7All On' '59All On'\n",
      " '72Backyard Off' '71Backyard On' '1053/4 Closed' '69Front Yard On'\n",
      " '124Driveway Light' '149Driveway Spot Over New Garage' '22All Off'\n",
      " '37Entertain' '36All Off' '85All On' '10All Off' '12All Off' '62All Off'\n",
      " '39All On' '207Office Shades' '18All Off' '49Left Overhead Light'\n",
      " '218Basement Stair Occ Sense' '118Hall' '200Mudroon Front Of House'\n",
      " '119Movie' '33All On' '43All On' '23All On' '31All On' '29All On'\n",
      " '15All On' '35All On' '184Back Of House' '186Side Of House'\n",
      " '70Front Yard Off' '1All On' '151New Garage Outside Light'\n",
      " '206Dinette Shades' '5All On' '95Basement All On' '190Guest Room'\n",
      " '110Outside All On' '17All On' '201Mudroom Side Of House'\n",
      " '199Foyer Roman' '113All Open' '106All Open' '108All Open' '115All Open'\n",
      " '96All Open' '61All On' '27All On' '16All Off' '34All Off' '32All Off'\n",
      " '26All Off' '58All Off' '16CLW-DIMEX-P' '5CLW-DIMEX-P' '97All Close'\n",
      " '81Basement Off' '116All Close' '54All Off' '75Entertain' '4All Off'\n",
      " '94First Floor All On' '48All Off' '93All Close' '92All Open' '51All On'\n",
      " '68First Floor All Off' '83Workout' '25All On' '6All Off']\n"
     ]
    }
   ],
   "source": [
    "for col in df.columns:\n",
    "    print(col, df[col].unique())"
   ]
  },
  {
   "cell_type": "code",
   "execution_count": 19,
   "metadata": {},
   "outputs": [
    {
     "data": {
      "text/plain": [
       "array(['DoorLock', 'Climate'], dtype=object)"
      ]
     },
     "execution_count": 19,
     "metadata": {},
     "output_type": "execute_result"
    }
   ],
   "source": [
    "df.loc[df[\"eventType\"] == \"SignalChangedEventWithStrings\"][\"entryType\"].unique()"
   ]
  },
  {
   "cell_type": "code",
   "execution_count": 20,
   "metadata": {
    "scrolled": true
   },
   "outputs": [
    {
     "name": "stderr",
     "output_type": "stream",
     "text": [
      "/home/phcherne/anaconda3/lib/python3.6/site-packages/ipykernel_launcher.py:2: UserWarning: Boolean Series key will be reindexed to match DataFrame index.\n",
      "  \n"
     ]
    }
   ],
   "source": [
    "# dropping more useless data\n",
    "index_to_drop = df.loc[df[\"entryType\"] == \"Auxiliary\"][df['eventType'] == \"SignalChangedEventWithStrings\"].index.tolist()\n",
    "df = df.drop(index_to_drop)"
   ]
  },
  {
   "cell_type": "code",
   "execution_count": null,
   "metadata": {},
   "outputs": [],
   "source": [
    "def parse_setpoints(row):\n",
    "    heat_cool_auto = row['Signal direction'].split(',')\n",
    "    heat_temp = [int(s) for s in heat_cool_auto[0].split() if s.isdigit()]\n",
    "    cool_temp = [int(s) for s in heat_cool_auto[1].split() if s.isdigit()]\n",
    "    auto_temp = [int(s) for s in heat_cool_auto[2].split() if s.isdigit()]\n",
    "    return heat_temp, cool_temp, auto_temp\n",
    "\n",
    "df['HeatSetpoint'], df['CoolSetpoint'], df['AutoSetpoint'] = df[df['Signal direction'].str.len() > 20].apply(parse_setpoints, axis=1)"
   ]
  },
  {
   "cell_type": "code",
   "execution_count": null,
   "metadata": {
    "collapsed": true
   },
   "outputs": [],
   "source": [
    "df.head(20)"
   ]
  },
  {
   "cell_type": "markdown",
   "metadata": {
    "collapsed": true
   },
   "source": [
    "### Encode Columns\n",
    "\n",
    "Convert Categorical to Numerical Data. "
   ]
  },
  {
   "cell_type": "code",
   "execution_count": null,
   "metadata": {
    "collapsed": true
   },
   "outputs": [],
   "source": [
    "from sklearn import preprocessing\n",
    "columns_to_update = [\"entryType\", \"entrySubType\", \"device_id_name\", \"eventType\", \"Signal Name\", \"Signal Value string\", \"Signal direction\", \"room_name_merged\", \"message_merged\"]\n",
    "\n",
    "def encode_columns(data_frame, column_names):\n",
    "    label_encoders = {}\n",
    "    for col in column_names:\n",
    "        values = data_frame[col].unique()\n",
    "        le = preprocessing.LabelEncoder()\n",
    "        le.fit(values)\n",
    "        label_encoders[col] = le\n",
    "        numerical_values = le.transform(data_frame[col])\n",
    "        data_frame[col] = numerical_values\n",
    "    return data_frame, label_encoders\n",
    "\n",
    "categorical_df = df.copy()\n",
    "categorical_df, label_encoders = encode_columns(categorical_df, columns_to_update)"
   ]
  },
  {
   "cell_type": "code",
   "execution_count": null,
   "metadata": {
    "collapsed": true
   },
   "outputs": [],
   "source": []
  }
 ],
 "metadata": {
  "kernelspec": {
   "display_name": "Python 3",
   "language": "python",
   "name": "python3"
  },
  "language_info": {
   "codemirror_mode": {
    "name": "ipython",
    "version": 3
   },
   "file_extension": ".py",
   "mimetype": "text/x-python",
   "name": "python",
   "nbconvert_exporter": "python",
   "pygments_lexer": "ipython3",
   "version": "3.6.3"
  }
 },
 "nbformat": 4,
 "nbformat_minor": 2
}
