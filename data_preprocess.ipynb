{
 "cells": [
  {
   "cell_type": "markdown",
   "metadata": {},
   "source": [
    "# Clean up data, convert to dataframes, and save to csv"
   ]
  },
  {
   "cell_type": "markdown",
   "metadata": {},
   "source": [
    "The BAC file is pipe separated with the following fields:\n",
    "LogLevel [TimeStamp]:[LogVisibility][LogSeverity][entryType][entrySubType][eventType][EventType dependent strings]\n",
    "\n",
    "The information changes at the end of each entry based on its EventType.  Here is a list of the supported event types and the subsequent additional information for each listed below.\n",
    "\n",
    "GeneralMessage - [string message]\n",
    "\n",
    "LevelChangedEvent - [load ID][loadName][roomName][rampTime][rampBaseValue][rampFinalValue]\n",
    "\n",
    "ButtonChangedEvent - [keypad ID][keypadName][roomName][buttonNum][buttonState]\n",
    "\n",
    "RemoteSystemEvent - [signalID][signalName][roomName][RemoteSystemEvent string]\n",
    "TimeClockChangedEvent/OccupancyChangedEvent/SceneChangedEvent - [ID][name][roomName][message]\n",
    "\n",
    "ConnectionStatus - [device ID][Name][room Name][connection status][Load 1 Room Name:Load 1 Name]|[Load 2 Room Name:Load 2 Name]\n",
    "\n",
    "    NOTE: DeviceConnectionStatusWithOptions is the same format as ConnectionStatus. \n",
    "    \n",
    "SignalChangedEvent - [device ID][Device Name][room Name][signal event ID][signal Value] - Signal event ID differs by device and signal value is either bool or int based on the eventID.\n",
    "\n",
    "SignalChangedEventWithStrings - [device ID][Device Name][Signal Name][Signal Value string][Signal direction][message]\n"
   ]
  },
  {
   "cell_type": "code",
   "execution_count": null,
   "metadata": {
    "ExecuteTime": {
     "end_time": "2018-06-08T21:09:58.810044Z",
     "start_time": "2018-06-08T21:08:58.850Z"
    }
   },
   "outputs": [],
   "source": [
    "import os \n",
    "import pandas as pd\n",
    "import numpy as np\n",
    "import h5py\n",
    "import json\n",
    "from numpy import nan\n",
    "from datetime import datetime, timedelta, date\n",
    "from fractions import Fraction\n",
    "from time import mktime\n",
    "import time\n",
    "import requests\n",
    "import os.path\n",
    "pd.set_option('display.max_columns', 500)"
   ]
  },
  {
   "cell_type": "code",
   "execution_count": 2,
   "metadata": {
    "ExecuteTime": {
     "end_time": "2018-06-08T21:03:43.036724Z",
     "start_time": "2018-06-08T21:03:43.030834Z"
    },
    "collapsed": true
   },
   "outputs": [],
   "source": [
    "def save_or_load_from_checkpoint(checkpoint_name):\n",
    "    if os.path.isfile(checkpoint_name):\n",
    "        return pd.read_hdf(checkpoint_name,'table')\n",
    "    df.to_hdf(checkpoint_name, 'table', mode='w', append=True, complevel=9, complib='zlib', index=False)\n",
    "    return df"
   ]
  },
  {
   "cell_type": "code",
   "execution_count": 3,
   "metadata": {
    "ExecuteTime": {
     "end_time": "2018-06-08T21:03:45.111269Z",
     "start_time": "2018-06-08T21:03:44.906930Z"
    },
    "collapsed": true
   },
   "outputs": [],
   "source": [
    "labels = ['LogLevel',\n",
    "          'TimeStamp',\n",
    "          'LogVisibility',\n",
    "          'LogSeverity',\n",
    "          'entryType',\n",
    "          'entrySubType',\n",
    "          'eventType']\n",
    "# from label list\n",
    "EVENT_TYPE_INDEX = labels.index('eventType')\n",
    "\n",
    "# from line in .bac file\n",
    "LOG_LEVEL_START = 0\n",
    "LOG_LEVEL_END = 3\n",
    "TIMESTAMP_START = 6\n",
    "TIMESTAMP_END = 14\n",
    "PIPE_SEPARATED_DATA_START = 17\n",
    "\n",
    "event_type_labels = [\n",
    "    \"string message\", # GeneralMessage\n",
    "    \"load ID\", \"loadName\", \"roomName1\", \"rampTime\", \"rampBaseValue\", \"rampFinalValue\", # LevelChangedEvent\n",
    "    \"keypad ID\", \"keypadName\", \"roomName2\", \"buttonNum\", \"buttonState\", # ButtonChangedEvent\n",
    "    \"signalID\", \"signalName\", \"roomName3\", \"RemoteSystemEvent string\", # RemoteSystemEvent\n",
    "    \"ID\", \"name\", \"roomName4\", \"message1\", # TimeClockChangedEvent/OccupancyChangedEvent/SceneChangedEvent\n",
    "    \"device ID1\", \"Name\", \"roomName5\", \"connection status\", \"Load 1 Room Name:Load 1 Name\", \"Load 2 Room Name:Load 2 Name\", # ConnectionStatus/DeviceConnectionStatusWithOptions\n",
    "    \"device ID2\", \"Device Name1\", \"roomName6\", \"signal event ID\", \"signal Value\", # SignalChangedEvent\n",
    "    \"device ID3\", \"Device Name2\", \"Signal Name\", \"Signal Value string\", \"Signal direction\", \"message2\", # SignalChangedEventWithStrings\n",
    "]\n",
    "\n",
    "def from_bac():\n",
    "    # device_id_offsets = [i for i, x in enumerate(event_type_labels) if x == \"device ID\"]\n",
    "    clean_lines = []\n",
    "\n",
    "    for log in os.listdir('data'):\n",
    "        with open('data/{}'.format(log)) as logfile:\n",
    "            for line in logfile:\n",
    "                line = line.rstrip('\\n')\n",
    "                if line[-1] == '|':\n",
    "                    line = line[:-1]\n",
    "                all_data = ([line[LOG_LEVEL_START:LOG_LEVEL_END], line[TIMESTAMP_START:TIMESTAMP_END]]\n",
    "                            + line[PIPE_SEPARATED_DATA_START:].split('|'))\n",
    "\n",
    "                event_type_dependent_strings = all_data[len(labels):]\n",
    "                clean_line = all_data[:len(labels)]\n",
    "\n",
    "                START_INDEX = 7\n",
    "                if clean_line[EVENT_TYPE_INDEX] == 'GeneralMessage':\n",
    "                    START_INDEX += event_type_labels.index('string message')\n",
    "                    # account for pipes in the message string\n",
    "                    event_type_dependent_strings = ['|'.join(event_type_dependent_strings)]\n",
    "                    assert START_INDEX == 7\n",
    "                    assert len(event_type_dependent_strings) == 1, event_type_dependent_strings\n",
    "\n",
    "                elif clean_line[EVENT_TYPE_INDEX] == 'LevelChangedEvent':\n",
    "                    START_INDEX += event_type_labels.index('load ID')\n",
    "                    assert START_INDEX == 8\n",
    "                    assert len(event_type_dependent_strings) == 6\n",
    "\n",
    "                elif clean_line[EVENT_TYPE_INDEX] == 'ButtonChangedEvent':\n",
    "                    START_INDEX += event_type_labels.index('keypad ID')\n",
    "                    assert START_INDEX == 14\n",
    "                    assert len(event_type_dependent_strings) == 5\n",
    "\n",
    "                elif clean_line[EVENT_TYPE_INDEX] == 'RemoteSystemEvent':\n",
    "                    START_INDEX += event_type_labels.index('signalID')\n",
    "                    assert START_INDEX == 19\n",
    "                    assert len(event_type_dependent_strings) == 4\n",
    "\n",
    "                elif (clean_line[EVENT_TYPE_INDEX] == 'TimeClockChangedEvent' or\n",
    "                      clean_line[EVENT_TYPE_INDEX] == 'OccupancyChangedEvent' or\n",
    "                      clean_line[EVENT_TYPE_INDEX] == 'SceneChangedEvent'):\n",
    "                    START_INDEX += event_type_labels.index('ID')\n",
    "                    assert START_INDEX == 23\n",
    "                    assert len(event_type_dependent_strings) == 4\n",
    "\n",
    "                elif (clean_line[EVENT_TYPE_INDEX] == 'ConnectionStatus' or\n",
    "                      clean_line[EVENT_TYPE_INDEX] == 'DeviceConnectionStatusWithOptions'):\n",
    "                    START_INDEX += event_type_labels.index('device ID1')\n",
    "                    assert START_INDEX == 27\n",
    "                    assert (len(event_type_dependent_strings) == 4 or\n",
    "                            len(event_type_dependent_strings) == 5 or\n",
    "                            len(event_type_dependent_strings) == 6)\n",
    "\n",
    "                elif clean_line[EVENT_TYPE_INDEX] == 'SignalChangedEvent':\n",
    "                    START_INDEX += event_type_labels.index('device ID2')\n",
    "                    assert START_INDEX == 33\n",
    "                    assert len(event_type_dependent_strings) == 5\n",
    "\n",
    "                elif clean_line[EVENT_TYPE_INDEX] == 'SignalChangedEventWithStrings':\n",
    "                    START_INDEX += event_type_labels.index('device ID3')\n",
    "                    assert START_INDEX == 38\n",
    "                    # to correct for the double pipe in \"Basement Mudroom\"\n",
    "                    event_type_dependent_strings = [i for i in event_type_dependent_strings if i]\n",
    "                else:\n",
    "                    raise ValueError(\"Wrong event type: {}\".format(clean_line[EVENT_TYPE_INDEX]))\n",
    "\n",
    "                clean_line = clean_line + [np.nan]*len(event_type_labels) + [log[-14:-4]]\n",
    "                clean_line[START_INDEX:START_INDEX + len(event_type_dependent_strings)] = event_type_dependent_strings\n",
    "                clean_lines.append(clean_line)\n",
    "    df = pd.DataFrame(clean_lines, columns=labels + event_type_labels + [\"date\"])\n",
    "    return df"
   ]
  },
  {
   "cell_type": "markdown",
   "metadata": {},
   "source": [
    "## Load data from BAC files"
   ]
  },
  {
   "cell_type": "code",
   "execution_count": 4,
   "metadata": {
    "ExecuteTime": {
     "end_time": "2018-06-08T20:23:00.578019Z",
     "start_time": "2018-06-08T20:22:45.059544Z"
    },
    "collapsed": true
   },
   "outputs": [],
   "source": [
    "df = from_bac()"
   ]
  },
  {
   "cell_type": "markdown",
   "metadata": {},
   "source": [
    "### Combine date and time"
   ]
  },
  {
   "cell_type": "code",
   "execution_count": 5,
   "metadata": {
    "ExecuteTime": {
     "end_time": "2018-06-08T20:23:00.586871Z",
     "start_time": "2018-06-08T20:23:00.580257Z"
    },
    "collapsed": true
   },
   "outputs": [],
   "source": [
    "def to_datetime(row):\n",
    "    new_date = row['date'] + ' ' + row['TimeStamp']\n",
    "    dt = datetime.strptime(new_date, '%Y-%m-%d %H:%M:%S')\n",
    "    dt = dt + timedelta(hours=4)\n",
    "    unix_secs = mktime(dt.timetuple())\n",
    "    return unix_secs"
   ]
  },
  {
   "cell_type": "code",
   "execution_count": 6,
   "metadata": {
    "ExecuteTime": {
     "end_time": "2018-06-08T20:23:58.951447Z",
     "start_time": "2018-06-08T20:23:00.590325Z"
    },
    "collapsed": true
   },
   "outputs": [],
   "source": [
    "df['unix_time'] = df.apply(to_datetime, axis=1)\n",
    "df = df.drop([\"TimeStamp\",\"date\"], axis=1)"
   ]
  },
  {
   "cell_type": "markdown",
   "metadata": {},
   "source": [
    "### Drop useless columns"
   ]
  },
  {
   "cell_type": "code",
   "execution_count": 7,
   "metadata": {
    "ExecuteTime": {
     "end_time": "2018-06-08T20:24:02.816549Z",
     "start_time": "2018-06-08T20:23:58.954004Z"
    },
    "collapsed": true
   },
   "outputs": [],
   "source": [
    "# Useless columns\n",
    "df = df.drop([\"LogLevel\", \"LogVisibility\", \"LogSeverity\"],axis=1, errors='ignore')\n",
    "\n",
    "# useless after deleting General Message\n",
    "df = df.drop(\"string message\", axis=1, errors='ignore')\n",
    "\n",
    "# useless after deleting Button Change Event\n",
    "df = df.drop([\"keypad ID\", \"keypadName\", \"roomName2\", \"buttonNum\", \"buttonState\"], axis=1, errors='ignore')\n",
    "\n",
    "# useless after deleting Connection Status\n",
    "df = df.drop([\"device ID1\", \"Name\", \"roomName5\", \"connection status\", \"Load 1 Room Name:Load 1 Name\", \"Load 2 Room Name:Load 2 Name\"], axis=1, errors='ignore')\n",
    "\n",
    "# useless after deleting Remote System Event\n",
    "df = df.drop([\"signalID\", \"signalName\", \"roomName3\", \"RemoteSystemEvent string\"], axis=1, errors='ignore')"
   ]
  },
  {
   "cell_type": "markdown",
   "metadata": {},
   "source": [
    "### Remove useless event types"
   ]
  },
  {
   "cell_type": "code",
   "execution_count": 8,
   "metadata": {
    "ExecuteTime": {
     "end_time": "2018-06-08T20:24:06.662246Z",
     "start_time": "2018-06-08T20:24:02.819377Z"
    },
    "collapsed": true
   },
   "outputs": [],
   "source": [
    "df = df[df['eventType'] != 'ButtonChangedEvent']\n",
    "df = df[df['eventType'] != 'GeneralMessage']\n",
    "df = df[df['eventType'] != 'RemoteSystemEvent']\n",
    "df = df[df['eventType'] != 'TimeClockChangedEvent']\n",
    "df = df[df['eventType'] != 'ConnectionStatus']\n",
    "df = df[df['eventType'] != 'DeviceConnectionStatusWithOptions']"
   ]
  },
  {
   "cell_type": "markdown",
   "metadata": {},
   "source": [
    "### Merge Ids and Names"
   ]
  },
  {
   "cell_type": "code",
   "execution_count": 9,
   "metadata": {
    "ExecuteTime": {
     "end_time": "2018-06-08T20:30:18.212363Z",
     "start_time": "2018-06-08T20:30:15.653329Z"
    },
    "collapsed": true
   },
   "outputs": [],
   "source": [
    "# Merge room names\n",
    "df['room_name_merged'] = df['roomName1'].fillna('') + df['roomName4'].fillna('') + df['roomName6'].fillna('')\n",
    "df = df.drop([\"roomName1\",\"roomName4\",\"roomName6\"], axis=1)"
   ]
  },
  {
   "cell_type": "code",
   "execution_count": 10,
   "metadata": {
    "ExecuteTime": {
     "end_time": "2018-06-08T20:30:20.351864Z",
     "start_time": "2018-06-08T20:30:18.216275Z"
    },
    "collapsed": true
   },
   "outputs": [],
   "source": [
    "# Merge device name\n",
    "df['device_name'] = df['loadName'].fillna('') + df['name'].fillna('') + df['Device Name1'].fillna('') + df['Device Name2'].fillna('')\n",
    "df = df.drop([\"loadName\", \"name\", \"Device Name1\", \"Device Name2\"], axis=1)"
   ]
  },
  {
   "cell_type": "code",
   "execution_count": 11,
   "metadata": {
    "ExecuteTime": {
     "end_time": "2018-06-08T20:30:22.243510Z",
     "start_time": "2018-06-08T20:30:20.354830Z"
    },
    "collapsed": true
   },
   "outputs": [],
   "source": [
    "# Merge IDs \n",
    "df['device_id'] = df['load ID'].fillna('') + df['ID'].fillna('') + df['device ID2'].fillna('') + df['device ID3'].fillna('')\n",
    "df = df.drop(['load ID', 'ID', 'device ID2', 'device ID3'], axis=1)"
   ]
  },
  {
   "cell_type": "code",
   "execution_count": 12,
   "metadata": {
    "ExecuteTime": {
     "end_time": "2018-06-08T20:30:23.600670Z",
     "start_time": "2018-06-08T20:30:22.247009Z"
    },
    "collapsed": true
   },
   "outputs": [],
   "source": [
    "# Merge messages \n",
    "df['message_merged'] = df['message1'].fillna('') + df['message2'].fillna('')\n",
    "df = df.drop([\"message1\", \"message2\"], axis=1)"
   ]
  },
  {
   "cell_type": "code",
   "execution_count": 13,
   "metadata": {
    "ExecuteTime": {
     "end_time": "2018-06-08T20:30:25.412362Z",
     "start_time": "2018-06-08T20:30:23.603498Z"
    },
    "collapsed": true
   },
   "outputs": [],
   "source": [
    "df = df.replace('', np.NaN)"
   ]
  },
  {
   "cell_type": "markdown",
   "metadata": {},
   "source": [
    "### Combine device name and id to for truly unique ids"
   ]
  },
  {
   "cell_type": "code",
   "execution_count": 14,
   "metadata": {
    "ExecuteTime": {
     "end_time": "2018-06-08T20:30:32.390998Z",
     "start_time": "2018-06-08T20:30:31.976083Z"
    },
    "collapsed": true
   },
   "outputs": [],
   "source": [
    "df['device_id_name'] = df['device_id'].astype(str) + df['device_name'].astype(str)\n",
    "# df = df.drop([\"device_id\", \"device_name\"], axis=1)"
   ]
  },
  {
   "cell_type": "code",
   "execution_count": 15,
   "metadata": {
    "ExecuteTime": {
     "end_time": "2018-06-08T20:30:36.931414Z",
     "start_time": "2018-06-08T20:30:33.580647Z"
    },
    "collapsed": true
   },
   "outputs": [],
   "source": [
    "df = df.drop_duplicates()"
   ]
  },
  {
   "cell_type": "code",
   "execution_count": 16,
   "metadata": {
    "ExecuteTime": {
     "end_time": "2018-06-08T20:31:46.539007Z",
     "start_time": "2018-06-08T20:30:43.516452Z"
    },
    "collapsed": true
   },
   "outputs": [],
   "source": [
    "# Checkpoint \n",
    "df = save_or_load_from_checkpoint('./checkpoints/data_0.h5')  "
   ]
  },
  {
   "cell_type": "markdown",
   "metadata": {},
   "source": [
    "### Normalize Column Values"
   ]
  },
  {
   "cell_type": "code",
   "execution_count": 17,
   "metadata": {
    "ExecuteTime": {
     "end_time": "2018-06-08T20:31:47.381761Z",
     "start_time": "2018-06-08T20:31:46.541172Z"
    },
    "scrolled": true
   },
   "outputs": [
    {
     "name": "stderr",
     "output_type": "stream",
     "text": [
      "/Users/armanrahman/anaconda3/lib/python3.6/site-packages/ipykernel_launcher.py:2: UserWarning: Boolean Series key will be reindexed to match DataFrame index.\n",
      "  \n"
     ]
    }
   ],
   "source": [
    "# dropping more useless data\n",
    "index_to_drop = df.loc[df[\"entryType\"] == \"Auxiliary\"][df['eventType'] == \"SignalChangedEventWithStrings\"].index.tolist()\n",
    "df = df.drop(index_to_drop)"
   ]
  },
  {
   "cell_type": "code",
   "execution_count": 18,
   "metadata": {
    "ExecuteTime": {
     "end_time": "2018-06-08T20:32:29.145887Z",
     "start_time": "2018-06-08T20:32:29.138722Z"
    },
    "collapsed": true
   },
   "outputs": [],
   "source": [
    "def get_setpoints(row):\n",
    "    signal_direction = str(row['Signal direction'])\n",
    "    temp = np.nan\n",
    "    if 'Fahrenheit' in signal_direction and signal_direction[0].isdigit():\n",
    "        temp = int(''.join(x for x in signal_direction if x.isdigit()))\n",
    "    return temp\n",
    "    "
   ]
  },
  {
   "cell_type": "code",
   "execution_count": 19,
   "metadata": {
    "ExecuteTime": {
     "end_time": "2018-06-08T20:32:40.935792Z",
     "start_time": "2018-06-08T20:32:30.423080Z"
    },
    "collapsed": true
   },
   "outputs": [],
   "source": [
    "df['temperature'] = df.apply(get_setpoints, axis=1)"
   ]
  },
  {
   "cell_type": "code",
   "execution_count": 5,
   "metadata": {
    "ExecuteTime": {
     "end_time": "2018-06-08T20:36:46.823052Z",
     "start_time": "2018-06-08T20:36:29.717257Z"
    }
   },
   "outputs": [],
   "source": [
    "df = save_or_load_from_checkpoint('./checkpoints/data_1.h5')  "
   ]
  },
  {
   "cell_type": "markdown",
   "metadata": {},
   "source": [
    "## Get Binary Data"
   ]
  },
  {
   "cell_type": "code",
   "execution_count": 7,
   "metadata": {
    "ExecuteTime": {
     "end_time": "2018-06-08T20:38:12.496229Z",
     "start_time": "2018-06-08T20:38:12.492206Z"
    },
    "collapsed": true
   },
   "outputs": [],
   "source": [
    "def check_signal_direction(df, string_val):\n",
    "    return df[df[\"Signal Value string\"] == string_val]['Signal direction'].unique().astype(str)"
   ]
  },
  {
   "cell_type": "code",
   "execution_count": 8,
   "metadata": {
    "ExecuteTime": {
     "end_time": "2018-06-08T20:38:15.976776Z",
     "start_time": "2018-06-08T20:38:13.833877Z"
    }
   },
   "outputs": [
    {
     "name": "stdout",
     "output_type": "stream",
     "text": [
      "\"Leave\" Event ['Heat Setpoint 68° Fahrenheit, Cool Setpoint 74° Fahrenheit, and Auto Setpoint 72° Fahrenheit']\n",
      "\"Return\" Event ['Heat Setpoint 71° Fahrenheit, Cool Setpoint 74° Fahrenheit, and Auto Setpoint 72° Fahrenheit']\n",
      "\"Sleep\" Event ['Heat Setpoint 67° Fahrenheit, Cool Setpoint 77° Fahrenheit, and Auto Setpoint 72° Fahrenheit'\n",
      " 'Heat Setpoint 67° Fahrenheit, Cool Setpoint 72° Fahrenheit, and Auto Setpoint 72° Fahrenheit'\n",
      " 'Heat Setpoint 67° Fahrenheit, Cool Setpoint 71° Fahrenheit, and Auto Setpoint 73° Fahrenheit'\n",
      " 'Heat Setpoint 67° Fahrenheit, Cool Setpoint 73° Fahrenheit, and Auto Setpoint 73° Fahrenheit']\n",
      "\"Wake Weekend\" Event ['Heat Setpoint 71° Fahrenheit, Cool Setpoint 74° Fahrenheit, and Auto Setpoint 70° Fahrenheit']\n",
      "\"Wake\" Event ['Heat Setpoint 71° Fahrenheit, Cool Setpoint 75° Fahrenheit, and Auto Setpoint 72° Fahrenheit'\n",
      " 'Heat Setpoint 71° Fahrenheit, Cool Setpoint 74° Fahrenheit, and Auto Setpoint 72° Fahrenheit']\n",
      "\"Weekend Wake\" Event ['Heat Setpoint 71° Fahrenheit, Cool Setpoint 74° Fahrenheit, and Auto Setpoint 70° Fahrenheit']\n",
      "Active Fan Level ['Off' 'High']\n",
      "Auto Deadband ['2° Fahrenheit']\n",
      "Auto Mode ['Enabled' 'Disabled']\n",
      "Auto Setpoint ['73° Fahrenheit' '74° Fahrenheit' '75° Fahrenheit' '76° Fahrenheit'\n",
      " '77° Fahrenheit' '72° Fahrenheit' '70° Fahrenheit' '0° Fahrenheit']\n",
      "Cool Mode ['Enabled']\n",
      "Cool Setpoint ['73° Fahrenheit' '74° Fahrenheit' '75° Fahrenheit' '76° Fahrenheit'\n",
      " '77° Fahrenheit' '72° Fahrenheit' '71° Fahrenheit' '70° Fahrenheit'\n",
      " '69° Fahrenheit' '0° Fahrenheit' '78° Fahrenheit' '79° Fahrenheit'\n",
      " '80° Fahrenheit' '81° Fahrenheit' '68° Fahrenheit']\n",
      "Cool Stage 1 ['Inactive' 'Active']\n",
      "Fan ['On' 'Auto']\n",
      "Floor Warming ['Heat:False' 'Off:False' 'Off:True']\n",
      "Get Information ['ToDevice']\n",
      "Heat Mode ['Enabled']\n",
      "Heat Setpoint ['71° Fahrenheit' '68° Fahrenheit' '69° Fahrenheit' '70° Fahrenheit'\n",
      " '67° Fahrenheit' '72° Fahrenheit' '0° Fahrenheit' '66° Fahrenheit'\n",
      " '73° Fahrenheit' '65° Fahrenheit' '64° Fahrenheit' '63° Fahrenheit'\n",
      " '62° Fahrenheit' '61° Fahrenheit' '60° Fahrenheit' '74° Fahrenheit']\n",
      "Heat Stage 1 ['Active' 'Inactive']\n",
      "Hold ['On' 'Off']\n",
      "Humidifier Enable ['Inactive']\n",
      "Humidifier Off ['Inactive' 'Active']\n",
      "Humidity Mode ['Enabled']\n",
      "Humidity Setpoint ['5%']\n",
      "Humidity View ['Enabled']\n",
      "Lock ['ToDevice' 'FromDevice']\n",
      "Mode ['Heat' 'Cool' 'Off']\n",
      "Scheduled Setpoints ['Heat = 71° Fahrenheit, Cool = 75° Fahrenheit, and Auto = 72° Fahrenheit'\n",
      " 'Heat = 71° Fahrenheit, Cool = 74° Fahrenheit, and Auto = 72° Fahrenheit'\n",
      " 'Heat = 68° Fahrenheit, Cool = 74° Fahrenheit, and Auto = 72° Fahrenheit'\n",
      " 'Heat = 67° Fahrenheit, Cool = 77° Fahrenheit, and Auto = 72° Fahrenheit'\n",
      " 'Heat = 67° Fahrenheit, Cool = 72° Fahrenheit, and Auto = 72° Fahrenheit'\n",
      " 'Heat = 71° Fahrenheit, Cool = 74° Fahrenheit, and Auto = 70° Fahrenheit'\n",
      " 'Heat = 67° Fahrenheit, Cool = 71° Fahrenheit, and Auto = 73° Fahrenheit'\n",
      " 'Heat = 67° Fahrenheit, Cool = 73° Fahrenheit, and Auto = 73° Fahrenheit']\n",
      "Single Setpoint Mode ['Disabled']\n",
      "Slab 1 ['Inactive']\n",
      "Slab 2 ['Inactive']\n",
      "Slab 3 ['Inactive']\n",
      "Slab 4A ['Inactive']\n",
      "Slab 4B ['Inactive']\n",
      "Slab 5A ['Inactive']\n",
      "Slab 5B ['Inactive']\n",
      "Slab Setpoint ['70° Fahrenheit']\n",
      "Slab Temperature ['32° Fahrenheit' '0° Fahrenheit']\n",
      "Temperature ['71° Fahrenheit' '72° Fahrenheit' '74° Fahrenheit' '75° Fahrenheit'\n",
      " '73° Fahrenheit' '77° Fahrenheit' '78° Fahrenheit' '76° Fahrenheit'\n",
      " '79° Fahrenheit' '69° Fahrenheit' '70° Fahrenheit' '68° Fahrenheit'\n",
      " '67° Fahrenheit' '66° Fahrenheit' '65° Fahrenheit' '64° Fahrenheit'\n",
      " '32° Fahrenheit' '63° Fahrenheit' '62° Fahrenheit' '0° Fahrenheit'\n",
      " '61° Fahrenheit' '60° Fahrenheit' '59° Fahrenheit' '122° Fahrenheit'\n",
      " '121° Fahrenheit' '120° Fahrenheit' '119° Fahrenheit' '118° Fahrenheit']\n",
      "Unlock ['FromDevice' 'ToDevice']\n",
      "nan []\n"
     ]
    }
   ],
   "source": [
    "d = {}\n",
    "for i in sorted(df[\"Signal Value string\"].astype(str).unique()):\n",
    "    d[i] = check_signal_direction(df, i)\n",
    "for k,v in d.items():\n",
    "    print(k, v)"
   ]
  },
  {
   "cell_type": "code",
   "execution_count": 9,
   "metadata": {
    "ExecuteTime": {
     "end_time": "2018-06-08T20:38:36.551105Z",
     "start_time": "2018-06-08T20:38:36.545410Z"
    },
    "collapsed": true
   },
   "outputs": [],
   "source": [
    "d = {'Active Fan Level' : ['High','Off'],\n",
    "'Auto Mode': ['Enabled', 'Disabled'],\n",
    "'Cool Stage 1' : ['Active', 'Inactive'],\n",
    "'Fan' : ['On', 'Auto'],\n",
    "'Floor Warming' : ['Heat:False','Off:False', 'Off:True'],\n",
    "'Heat Stage 1' : ['Active', 'Inactive'],\n",
    "'Hold' : ['On', 'Off'],\n",
    "'Humidifier Off' : ['Inactive', 'Active'],\n",
    "'Mode' : ['Heat' 'Cool' 'Off']}"
   ]
  },
  {
   "cell_type": "code",
   "execution_count": 10,
   "metadata": {
    "ExecuteTime": {
     "end_time": "2018-06-08T20:40:13.741247Z",
     "start_time": "2018-06-08T20:40:13.732457Z"
    },
    "collapsed": true
   },
   "outputs": [],
   "source": [
    "def is_binary(row, **kwargs):\n",
    "    \"\"\"kwargs = [Signal Value, values_dict]\"\"\"\n",
    "    if str(row['eventType']) == 'SignalChangedEventWithStrings':\n",
    "#         import pdb; pdb.set_trace()\n",
    "        for key, values in kwargs.items():\n",
    "            if str(row['Signal Value string']) == key:\n",
    "                for val in values:\n",
    "                    if str(row['Signal direction']) == val:\n",
    "                        return key + val\n",
    "    return np.nan"
   ]
  },
  {
   "cell_type": "code",
   "execution_count": 11,
   "metadata": {
    "ExecuteTime": {
     "end_time": "2018-06-08T20:40:30.959683Z",
     "start_time": "2018-06-08T20:40:14.895362Z"
    },
    "collapsed": true
   },
   "outputs": [],
   "source": [
    "df['event'] = df.apply(is_binary, **d, axis=1)"
   ]
  },
  {
   "cell_type": "code",
   "execution_count": 12,
   "metadata": {
    "ExecuteTime": {
     "end_time": "2018-06-08T20:40:30.970162Z",
     "start_time": "2018-06-08T20:40:30.962391Z"
    },
    "collapsed": true
   },
   "outputs": [],
   "source": [
    "def is_locked_or_occupied(row):\n",
    "    if str(row['eventType']) == 'OccupancyChangedEvent':\n",
    "        return row['message_merged']\n",
    "    elif str(row['Signal Value string']) == 'Lock' or str(row['Signal Value string']) == 'Unlock':\n",
    "        return row['entryType'] + row['Signal Value string']\n",
    "    elif pd.notna(row['event']):\n",
    "        return str(row['event'])\n",
    "    return np.nan"
   ]
  },
  {
   "cell_type": "code",
   "execution_count": 13,
   "metadata": {
    "ExecuteTime": {
     "end_time": "2018-06-08T20:41:01.626553Z",
     "start_time": "2018-06-08T20:40:30.974134Z"
    },
    "collapsed": true
   },
   "outputs": [],
   "source": [
    "df['event'] = df.apply(is_locked_or_occupied, axis=1)"
   ]
  },
  {
   "cell_type": "markdown",
   "metadata": {},
   "source": [
    "## Get Regression Data"
   ]
  },
  {
   "cell_type": "code",
   "execution_count": 14,
   "metadata": {
    "ExecuteTime": {
     "end_time": "2018-06-08T20:41:35.809237Z",
     "start_time": "2018-06-08T20:41:35.780417Z"
    },
    "collapsed": true
   },
   "outputs": [],
   "source": [
    "def get_value(row):\n",
    "    value = np.nan\n",
    "    if pd.notna(row['rampFinalValue']):\n",
    "        value = int(row['rampFinalValue'])\n",
    "    elif pd.notna(row['temperature']):\n",
    "        value = int(row['temperature'])\n",
    "    elif str(row['entryType']) == 'Shades' and str(row['eventType']) == 'SceneChangedEvent':\n",
    "        base_str = str(row['device_id_name'])\n",
    "        split_str = base_str.split(' ')\n",
    "        first_str = split_str[0][-3:]\n",
    "        is_closed = True if split_str[1] == 'Closed' else False\n",
    "        if first_str[-1].isdigit():\n",
    "            frac = float(Fraction(first_str))\n",
    "            if is_closed:\n",
    "                frac = 1 - frac\n",
    "            value = frac\n",
    "        elif is_closed:\n",
    "            value = 0\n",
    "        else:\n",
    "            value = 1\n",
    "    return value"
   ]
  },
  {
   "cell_type": "code",
   "execution_count": 15,
   "metadata": {
    "ExecuteTime": {
     "end_time": "2018-06-08T20:41:58.822372Z",
     "start_time": "2018-06-08T20:41:37.488541Z"
    },
    "collapsed": true
   },
   "outputs": [],
   "source": [
    "df['value'] = df.apply(get_value, axis=1)"
   ]
  },
  {
   "cell_type": "code",
   "execution_count": 16,
   "metadata": {
    "ExecuteTime": {
     "end_time": "2018-06-08T20:41:58.832190Z",
     "start_time": "2018-06-08T20:41:58.825695Z"
    },
    "collapsed": true
   },
   "outputs": [],
   "source": [
    "def get_event_type(row): \n",
    "    event_type = np.nan\n",
    "    if pd.notna(row['value']):\n",
    "        event_type = str(row['entryType'])\n",
    "    return event_type"
   ]
  },
  {
   "cell_type": "code",
   "execution_count": 17,
   "metadata": {
    "ExecuteTime": {
     "end_time": "2018-06-08T20:42:13.526581Z",
     "start_time": "2018-06-08T20:41:58.836003Z"
    },
    "collapsed": true
   },
   "outputs": [],
   "source": [
    "df['regression_value_type'] = df.apply(get_event_type, axis=1)"
   ]
  },
  {
   "cell_type": "code",
   "execution_count": 4,
   "metadata": {
    "ExecuteTime": {
     "end_time": "2018-06-08T21:04:11.434007Z",
     "start_time": "2018-06-08T21:03:53.742767Z"
    },
    "collapsed": true
   },
   "outputs": [],
   "source": [
    "df = save_or_load_from_checkpoint('./checkpoints/data_2.h5')  "
   ]
  },
  {
   "cell_type": "markdown",
   "metadata": {},
   "source": [
    "## Extract final dataframe"
   ]
  },
  {
   "cell_type": "code",
   "execution_count": 5,
   "metadata": {
    "ExecuteTime": {
     "end_time": "2018-06-08T21:04:22.815668Z",
     "start_time": "2018-06-08T21:04:22.588321Z"
    },
    "collapsed": true
   },
   "outputs": [],
   "source": [
    "df = df[['device_id_name', 'event', 'regression_value_type', 'value', 'unix_time']]"
   ]
  },
  {
   "cell_type": "markdown",
   "metadata": {},
   "source": [
    "### Add week, day, month, hour"
   ]
  },
  {
   "cell_type": "code",
   "execution_count": 6,
   "metadata": {
    "ExecuteTime": {
     "end_time": "2018-06-08T21:04:33.533889Z",
     "start_time": "2018-06-08T21:04:29.035081Z"
    },
    "collapsed": true
   },
   "outputs": [],
   "source": [
    "def add_dates(data_frame):\n",
    "    date = pd.to_datetime(data_frame['unix_time'], unit='s')\n",
    "    data_frame['week'] = date.dt.week\n",
    "    data_frame['day'] = date.dt.day\n",
    "    data_frame['month'] = date.dt.month\n",
    "    data_frame['hour'] = date.dt.hour\n",
    "    data_frame['minute'] = date.dt.minute\n",
    "    data_frame['second'] = date.dt.second\n",
    "    return data_frame\n",
    "\n",
    "df = add_dates(df)\n",
    "df = df.drop('unix_time', axis=1)"
   ]
  },
  {
   "cell_type": "code",
   "execution_count": 16,
   "metadata": {
    "ExecuteTime": {
     "end_time": "2018-06-08T21:19:29.491571Z",
     "start_time": "2018-06-08T21:19:29.438559Z"
    },
    "collapsed": true
   },
   "outputs": [],
   "source": [
    "json_data = None\n",
    "with open('temperature_data.json', 'r') as data_file:\n",
    "    json_data = json.load(data_file)"
   ]
  },
  {
   "cell_type": "code",
   "execution_count": 25,
   "metadata": {
    "ExecuteTime": {
     "end_time": "2018-06-08T21:21:34.126326Z",
     "start_time": "2018-06-08T21:21:34.114141Z"
    }
   },
   "outputs": [
    {
     "data": {
      "text/plain": [
       "{'currently': {'apparentTemperature': 63.61,\n",
       "  'cloudCover': 0,\n",
       "  'dewPoint': 59.75,\n",
       "  'humidity': 0.88,\n",
       "  'icon': 'clear-night',\n",
       "  'precipIntensity': 0,\n",
       "  'precipProbability': 0,\n",
       "  'pressure': 1011.92,\n",
       "  'summary': 'Clear',\n",
       "  'temperature': 63.44,\n",
       "  'time': 1503547200,\n",
       "  'visibility': 10,\n",
       "  'windBearing': 298,\n",
       "  'windGust': 0.32,\n",
       "  'windSpeed': 0.28},\n",
       " 'daily': {'data': [{'apparentTemperatureHigh': 80.25,\n",
       "    'apparentTemperatureHighTime': 1503601200,\n",
       "    'apparentTemperatureLow': 60.67,\n",
       "    'apparentTemperatureLowTime': 1503658800,\n",
       "    'apparentTemperatureMax': 80.25,\n",
       "    'apparentTemperatureMaxTime': 1503601200,\n",
       "    'apparentTemperatureMin': 59.91,\n",
       "    'apparentTemperatureMinTime': 1503568800,\n",
       "    'cloudCover': 0.09,\n",
       "    'dewPoint': 57.28,\n",
       "    'humidity': 0.69,\n",
       "    'icon': 'partly-cloudy-day',\n",
       "    'moonPhase': 0.1,\n",
       "    'precipIntensity': 0.0001,\n",
       "    'precipIntensityMax': 0.0007,\n",
       "    'precipIntensityMaxTime': 1503576000,\n",
       "    'precipProbability': 0.09,\n",
       "    'precipType': 'rain',\n",
       "    'pressure': 1013.44,\n",
       "    'summary': 'Partly cloudy starting in the afternoon, continuing until evening.',\n",
       "    'sunriseTime': 1503570111,\n",
       "    'sunsetTime': 1503618276,\n",
       "    'temperatureHigh': 80.25,\n",
       "    'temperatureHighTime': 1503601200,\n",
       "    'temperatureLow': 60.67,\n",
       "    'temperatureLowTime': 1503658800,\n",
       "    'temperatureMax': 80.25,\n",
       "    'temperatureMaxTime': 1503601200,\n",
       "    'temperatureMin': 59.91,\n",
       "    'temperatureMinTime': 1503568800,\n",
       "    'time': 1503547200,\n",
       "    'visibility': 9.95,\n",
       "    'windBearing': 333,\n",
       "    'windGust': 6.72,\n",
       "    'windGustTime': 1503608400,\n",
       "    'windSpeed': 1.19}]},\n",
       " 'flags': {'nearest-station': 3.223,\n",
       "  'sources': ['cmc', 'gfs', 'hrrr', 'icon', 'isd', 'madis', 'nam', 'sref'],\n",
       "  'units': 'us'},\n",
       " 'hourly': {'data': [{'apparentTemperature': 63.61,\n",
       "    'cloudCover': 0,\n",
       "    'dewPoint': 59.75,\n",
       "    'humidity': 0.88,\n",
       "    'icon': 'clear-night',\n",
       "    'precipIntensity': 0,\n",
       "    'precipProbability': 0,\n",
       "    'pressure': 1011.92,\n",
       "    'summary': 'Clear',\n",
       "    'temperature': 63.44,\n",
       "    'time': 1503547200,\n",
       "    'visibility': 10,\n",
       "    'windBearing': 298,\n",
       "    'windGust': 0.32,\n",
       "    'windSpeed': 0.28},\n",
       "   {'apparentTemperature': 62.48,\n",
       "    'cloudCover': 0,\n",
       "    'dewPoint': 59.39,\n",
       "    'humidity': 0.9,\n",
       "    'icon': 'clear-night',\n",
       "    'precipIntensity': 0,\n",
       "    'precipProbability': 0,\n",
       "    'pressure': 1012.04,\n",
       "    'summary': 'Clear',\n",
       "    'temperature': 62.31,\n",
       "    'time': 1503550800,\n",
       "    'visibility': 10,\n",
       "    'windBearing': 296,\n",
       "    'windGust': 0.18,\n",
       "    'windSpeed': 0.06},\n",
       "   {'apparentTemperature': 61.27,\n",
       "    'cloudCover': 0,\n",
       "    'dewPoint': 58.71,\n",
       "    'humidity': 0.92,\n",
       "    'icon': 'clear-night',\n",
       "    'precipIntensity': 0,\n",
       "    'precipProbability': 0,\n",
       "    'pressure': 1011.66,\n",
       "    'summary': 'Clear',\n",
       "    'temperature': 61.15,\n",
       "    'time': 1503554400,\n",
       "    'visibility': 10,\n",
       "    'windBearing': 303,\n",
       "    'windGust': 0.18,\n",
       "    'windSpeed': 0.12},\n",
       "   {'apparentTemperature': 60.61,\n",
       "    'cloudCover': 0,\n",
       "    'dewPoint': 58.39,\n",
       "    'humidity': 0.93,\n",
       "    'icon': 'clear-night',\n",
       "    'precipIntensity': 0,\n",
       "    'precipProbability': 0,\n",
       "    'pressure': 1011.73,\n",
       "    'summary': 'Clear',\n",
       "    'temperature': 60.5,\n",
       "    'time': 1503558000,\n",
       "    'visibility': 10,\n",
       "    'windBearing': 316,\n",
       "    'windGust': 0.25,\n",
       "    'windSpeed': 0.18},\n",
       "   {'apparentTemperature': 60.2,\n",
       "    'cloudCover': 0,\n",
       "    'dewPoint': 58.03,\n",
       "    'humidity': 0.93,\n",
       "    'icon': 'clear-night',\n",
       "    'precipIntensity': 0,\n",
       "    'precipProbability': 0,\n",
       "    'pressure': 1011.93,\n",
       "    'summary': 'Clear',\n",
       "    'temperature': 60.13,\n",
       "    'time': 1503561600,\n",
       "    'visibility': 10,\n",
       "    'windBearing': 326,\n",
       "    'windGust': 0.38,\n",
       "    'windSpeed': 0.17},\n",
       "   {'apparentTemperature': 60.11,\n",
       "    'cloudCover': 0.04,\n",
       "    'dewPoint': 57.63,\n",
       "    'humidity': 0.92,\n",
       "    'icon': 'clear-night',\n",
       "    'precipIntensity': 0,\n",
       "    'precipProbability': 0,\n",
       "    'pressure': 1012.35,\n",
       "    'summary': 'Clear',\n",
       "    'temperature': 60.09,\n",
       "    'time': 1503565200,\n",
       "    'visibility': 10,\n",
       "    'windBearing': 343,\n",
       "    'windGust': 1.02,\n",
       "    'windSpeed': 0.51},\n",
       "   {'apparentTemperature': 59.91,\n",
       "    'cloudCover': 0.1,\n",
       "    'dewPoint': 57.25,\n",
       "    'humidity': 0.91,\n",
       "    'icon': 'clear-night',\n",
       "    'precipIntensity': 0,\n",
       "    'precipProbability': 0,\n",
       "    'pressure': 1012.9,\n",
       "    'summary': 'Clear',\n",
       "    'temperature': 59.91,\n",
       "    'time': 1503568800,\n",
       "    'visibility': 10,\n",
       "    'windBearing': 336,\n",
       "    'windGust': 0.74,\n",
       "    'windSpeed': 0.46},\n",
       "   {'apparentTemperature': 60.23,\n",
       "    'cloudCover': 0.14,\n",
       "    'dewPoint': 57.73,\n",
       "    'humidity': 0.92,\n",
       "    'icon': 'clear-day',\n",
       "    'precipIntensity': 0,\n",
       "    'precipProbability': 0,\n",
       "    'pressure': 1013.71,\n",
       "    'summary': 'Clear',\n",
       "    'temperature': 60.21,\n",
       "    'time': 1503572400,\n",
       "    'visibility': 10,\n",
       "    'windBearing': 327,\n",
       "    'windGust': 0.92,\n",
       "    'windSpeed': 0.65},\n",
       "   {'apparentTemperature': 64.45,\n",
       "    'cloudCover': 0.21,\n",
       "    'dewPoint': 58.93,\n",
       "    'humidity': 0.82,\n",
       "    'icon': 'clear-day',\n",
       "    'precipIntensity': 0.0007,\n",
       "    'precipProbability': 0.09,\n",
       "    'precipType': 'rain',\n",
       "    'pressure': 1014.2,\n",
       "    'summary': 'Clear',\n",
       "    'temperature': 64.44,\n",
       "    'time': 1503576000,\n",
       "    'visibility': 9.84,\n",
       "    'windBearing': 357,\n",
       "    'windGust': 2.87,\n",
       "    'windSpeed': 1.57},\n",
       "   {'apparentTemperature': 68.54,\n",
       "    'cloudCover': 0.06,\n",
       "    'dewPoint': 59.4,\n",
       "    'humidity': 0.73,\n",
       "    'icon': 'clear-day',\n",
       "    'precipIntensity': 0.0003,\n",
       "    'precipProbability': 0.05,\n",
       "    'precipType': 'rain',\n",
       "    'pressure': 1014.28,\n",
       "    'summary': 'Clear',\n",
       "    'temperature': 68.54,\n",
       "    'time': 1503579600,\n",
       "    'visibility': 10,\n",
       "    'windBearing': 5,\n",
       "    'windGust': 4.72,\n",
       "    'windSpeed': 2.34},\n",
       "   {'apparentTemperature': 71.92,\n",
       "    'cloudCover': 0.02,\n",
       "    'dewPoint': 59.63,\n",
       "    'humidity': 0.65,\n",
       "    'icon': 'clear-day',\n",
       "    'precipIntensity': 0,\n",
       "    'precipProbability': 0,\n",
       "    'pressure': 1014.24,\n",
       "    'summary': 'Clear',\n",
       "    'temperature': 71.92,\n",
       "    'time': 1503583200,\n",
       "    'visibility': 10,\n",
       "    'windBearing': 11,\n",
       "    'windGust': 5.67,\n",
       "    'windSpeed': 2.47},\n",
       "   {'apparentTemperature': 74.2,\n",
       "    'cloudCover': 0.05,\n",
       "    'dewPoint': 59.2,\n",
       "    'humidity': 0.6,\n",
       "    'icon': 'clear-day',\n",
       "    'precipIntensity': 0,\n",
       "    'precipProbability': 0,\n",
       "    'pressure': 1014.37,\n",
       "    'summary': 'Clear',\n",
       "    'temperature': 74.2,\n",
       "    'time': 1503586800,\n",
       "    'visibility': 10,\n",
       "    'windBearing': 10,\n",
       "    'windGust': 5.55,\n",
       "    'windSpeed': 2.38},\n",
       "   {'apparentTemperature': 76.6,\n",
       "    'cloudCover': 0.04,\n",
       "    'dewPoint': 58.72,\n",
       "    'humidity': 0.54,\n",
       "    'icon': 'clear-day',\n",
       "    'precipIntensity': 0,\n",
       "    'precipProbability': 0,\n",
       "    'pressure': 1014.03,\n",
       "    'summary': 'Clear',\n",
       "    'temperature': 76.6,\n",
       "    'time': 1503590400,\n",
       "    'visibility': 10,\n",
       "    'windBearing': 1,\n",
       "    'windGust': 5.57,\n",
       "    'windSpeed': 1.77},\n",
       "   {'apparentTemperature': 78.58,\n",
       "    'cloudCover': 0.11,\n",
       "    'dewPoint': 57.96,\n",
       "    'humidity': 0.49,\n",
       "    'icon': 'clear-day',\n",
       "    'precipIntensity': 0,\n",
       "    'precipProbability': 0,\n",
       "    'pressure': 1013.66,\n",
       "    'summary': 'Clear',\n",
       "    'temperature': 78.58,\n",
       "    'time': 1503594000,\n",
       "    'visibility': 10,\n",
       "    'windBearing': 331,\n",
       "    'windGust': 6.07,\n",
       "    'windSpeed': 2.21},\n",
       "   {'apparentTemperature': 79.71,\n",
       "    'cloudCover': 0.14,\n",
       "    'dewPoint': 57.17,\n",
       "    'humidity': 0.46,\n",
       "    'icon': 'clear-day',\n",
       "    'precipIntensity': 0,\n",
       "    'precipProbability': 0,\n",
       "    'pressure': 1013.43,\n",
       "    'summary': 'Clear',\n",
       "    'temperature': 79.71,\n",
       "    'time': 1503597600,\n",
       "    'visibility': 10,\n",
       "    'windBearing': 325,\n",
       "    'windGust': 6.18,\n",
       "    'windSpeed': 2.17},\n",
       "   {'apparentTemperature': 80.25,\n",
       "    'cloudCover': 0.22,\n",
       "    'dewPoint': 55.32,\n",
       "    'humidity': 0.42,\n",
       "    'icon': 'clear-day',\n",
       "    'precipIntensity': 0,\n",
       "    'precipProbability': 0,\n",
       "    'pressure': 1013.42,\n",
       "    'summary': 'Clear',\n",
       "    'temperature': 80.25,\n",
       "    'time': 1503601200,\n",
       "    'visibility': 10,\n",
       "    'windBearing': 314,\n",
       "    'windGust': 6.55,\n",
       "    'windSpeed': 3.1},\n",
       "   {'apparentTemperature': 80.06,\n",
       "    'cloudCover': 0.28,\n",
       "    'dewPoint': 54.11,\n",
       "    'humidity': 0.41,\n",
       "    'icon': 'partly-cloudy-day',\n",
       "    'precipIntensity': 0,\n",
       "    'precipProbability': 0,\n",
       "    'pressure': 1013.36,\n",
       "    'summary': 'Partly Cloudy',\n",
       "    'temperature': 80.06,\n",
       "    'time': 1503604800,\n",
       "    'visibility': 10,\n",
       "    'windBearing': 305,\n",
       "    'windGust': 6.53,\n",
       "    'windSpeed': 2.64},\n",
       "   {'apparentTemperature': 79.38,\n",
       "    'cloudCover': 0.33,\n",
       "    'dewPoint': 52.91,\n",
       "    'humidity': 0.4,\n",
       "    'icon': 'partly-cloudy-day',\n",
       "    'precipIntensity': 0,\n",
       "    'precipProbability': 0,\n",
       "    'pressure': 1013.54,\n",
       "    'summary': 'Partly Cloudy',\n",
       "    'temperature': 79.38,\n",
       "    'time': 1503608400,\n",
       "    'visibility': 10,\n",
       "    'windBearing': 307,\n",
       "    'windGust': 6.72,\n",
       "    'windSpeed': 3.16},\n",
       "   {'apparentTemperature': 78.26,\n",
       "    'cloudCover': 0.28,\n",
       "    'dewPoint': 53.65,\n",
       "    'humidity': 0.43,\n",
       "    'icon': 'partly-cloudy-day',\n",
       "    'precipIntensity': 0,\n",
       "    'precipProbability': 0,\n",
       "    'pressure': 1013.63,\n",
       "    'summary': 'Partly Cloudy',\n",
       "    'temperature': 78.26,\n",
       "    'time': 1503612000,\n",
       "    'visibility': 10,\n",
       "    'windBearing': 317,\n",
       "    'windGust': 5.95,\n",
       "    'windSpeed': 2.49},\n",
       "   {'apparentTemperature': 75.69,\n",
       "    'cloudCover': 0.07,\n",
       "    'dewPoint': 55.1,\n",
       "    'humidity': 0.49,\n",
       "    'icon': 'clear-day',\n",
       "    'precipIntensity': 0,\n",
       "    'precipProbability': 0,\n",
       "    'pressure': 1013.7,\n",
       "    'summary': 'Clear',\n",
       "    'temperature': 75.69,\n",
       "    'time': 1503615600,\n",
       "    'visibility': 9.71,\n",
       "    'windBearing': 322,\n",
       "    'windGust': 3.23,\n",
       "    'windSpeed': 1.19},\n",
       "   {'apparentTemperature': 70.68,\n",
       "    'cloudCover': 0.02,\n",
       "    'dewPoint': 56.25,\n",
       "    'humidity': 0.6,\n",
       "    'icon': 'clear-night',\n",
       "    'precipIntensity': 0,\n",
       "    'precipProbability': 0,\n",
       "    'pressure': 1014.14,\n",
       "    'summary': 'Clear',\n",
       "    'temperature': 70.68,\n",
       "    'time': 1503619200,\n",
       "    'visibility': 10,\n",
       "    'windBearing': 323,\n",
       "    'windGust': 1.07,\n",
       "    'windSpeed': 0.66},\n",
       "   {'apparentTemperature': 66.73,\n",
       "    'cloudCover': 0.02,\n",
       "    'dewPoint': 56.32,\n",
       "    'humidity': 0.69,\n",
       "    'icon': 'clear-night',\n",
       "    'precipIntensity': 0,\n",
       "    'precipProbability': 0,\n",
       "    'pressure': 1014.66,\n",
       "    'summary': 'Clear',\n",
       "    'temperature': 66.73,\n",
       "    'time': 1503622800,\n",
       "    'visibility': 10,\n",
       "    'windBearing': 301,\n",
       "    'windGust': 0.54,\n",
       "    'windSpeed': 0.31},\n",
       "   {'apparentTemperature': 63.95,\n",
       "    'cloudCover': 0.02,\n",
       "    'dewPoint': 56.7,\n",
       "    'humidity': 0.77,\n",
       "    'icon': 'clear-night',\n",
       "    'precipIntensity': 0,\n",
       "    'precipProbability': 0,\n",
       "    'pressure': 1014.71,\n",
       "    'summary': 'Clear',\n",
       "    'temperature': 63.95,\n",
       "    'time': 1503626400,\n",
       "    'visibility': 10,\n",
       "    'windBearing': 330,\n",
       "    'windGust': 0.46,\n",
       "    'windSpeed': 0.36},\n",
       "   {'apparentTemperature': 62.4,\n",
       "    'cloudCover': 0,\n",
       "    'dewPoint': 56.57,\n",
       "    'humidity': 0.81,\n",
       "    'icon': 'clear-night',\n",
       "    'precipIntensity': 0,\n",
       "    'precipProbability': 0,\n",
       "    'pressure': 1015.05,\n",
       "    'summary': 'Clear',\n",
       "    'temperature': 62.4,\n",
       "    'time': 1503630000,\n",
       "    'visibility': 9.43,\n",
       "    'windBearing': 323,\n",
       "    'windGust': 0.3,\n",
       "    'windSpeed': 0.19}],\n",
       "  'icon': 'partly-cloudy-day',\n",
       "  'summary': 'Partly cloudy starting in the afternoon, continuing until evening.'},\n",
       " 'latitude': 39.833851,\n",
       " 'longitude': -74.871826,\n",
       " 'offset': -4,\n",
       " 'timezone': 'America/New_York'}"
      ]
     },
     "execution_count": 25,
     "metadata": {},
     "output_type": "execute_result"
    }
   ],
   "source": [
    "json_data['1503547200']"
   ]
  },
  {
   "cell_type": "code",
   "execution_count": null,
   "metadata": {
    "collapsed": true
   },
   "outputs": [],
   "source": [
    "temp_time_dict = {}\n",
    "\n",
    "    if not current_timestamp in temp_time_dict.keys():\n",
    "        r = requests.get(base_http + str(current_timestamp))\n",
    "        temp_json = r.json()\n",
    "        temp_time_dict[current_timestamp] = temp_json"
   ]
  },
  {
   "cell_type": "markdown",
   "metadata": {},
   "source": [
    "### Add temperature, sunrise/sunset data"
   ]
  },
  {
   "cell_type": "code",
   "execution_count": 17,
   "metadata": {
    "ExecuteTime": {
     "end_time": "2018-06-08T21:19:48.355461Z",
     "start_time": "2018-06-08T21:19:48.335077Z"
    }
   },
   "outputs": [],
   "source": [
    "# base_http = 'https://api.darksky.net/forecast/d13a0a435a413b360106227fd68a8e0e/39.833851,-74.871826,'\n",
    "# temp_time_dict = {}\n",
    "\n",
    "def create_weather_sunset_columns(row):\n",
    "    #hard-coded year for now. \n",
    "    date_obj = date(2017, row['month'], row['day'])\n",
    "    #format for API\n",
    "    current_timestamp = int(time.mktime(date_obj.timetuple())) + 4 * 60 * 60\n",
    "\n",
    "#     if not current_timestamp in temp_time_dict.keys():\n",
    "#         r = requests.get(base_http + str(current_timestamp))\n",
    "#         temp_json = r.json()\n",
    "#         temp_time_dict[current_timestamp] = temp_json\n",
    "\n",
    "    \n",
    "    temperature_info = json_data[current_timestamp]['hourly']['data'][row['hour']]['temperature']\n",
    "\n",
    "    sunrise = json_data[current_timestamp]['daily']['data'][0]['sunriseTime'] #in GMT \n",
    "    sunset = json_data[current_timestamp]['daily']['data'][0]['sunsetTime']\n",
    "    current_timestamp_with_seconds = current_timestamp + (row['hour'] * 60 * 60) + (row['minute'] * 60)\n",
    "\n",
    "    is_sun_up = 1 if sunrise <= current_timestamp_with_seconds <= sunset else 0\n",
    "    return is_sun_up, temperature_info"
   ]
  },
  {
   "cell_type": "code",
   "execution_count": 18,
   "metadata": {
    "ExecuteTime": {
     "end_time": "2018-06-08T21:19:51.682361Z",
     "start_time": "2018-06-08T21:19:51.195006Z"
    }
   },
   "outputs": [
    {
     "ename": "KeyError",
     "evalue": "(1502438400, 'occurred at index 1')",
     "output_type": "error",
     "traceback": [
      "\u001b[0;31m---------------------------------------------------------------------------\u001b[0m",
      "\u001b[0;31mKeyError\u001b[0m                                  Traceback (most recent call last)",
      "\u001b[0;32m<ipython-input-18-6c7f56fa8e86>\u001b[0m in \u001b[0;36m<module>\u001b[0;34m()\u001b[0m\n\u001b[0;32m----> 1\u001b[0;31m \u001b[0mdf\u001b[0m\u001b[0;34m[\u001b[0m\u001b[0;34m'sun'\u001b[0m\u001b[0;34m]\u001b[0m\u001b[0;34m,\u001b[0m \u001b[0mdf\u001b[0m\u001b[0;34m[\u001b[0m\u001b[0;34m'outside_temperature'\u001b[0m\u001b[0;34m]\u001b[0m \u001b[0;34m=\u001b[0m \u001b[0mzip\u001b[0m\u001b[0;34m(\u001b[0m\u001b[0;34m*\u001b[0m\u001b[0mdf\u001b[0m\u001b[0;34m.\u001b[0m\u001b[0mapply\u001b[0m\u001b[0;34m(\u001b[0m\u001b[0mcreate_weather_sunset_columns\u001b[0m\u001b[0;34m,\u001b[0m \u001b[0maxis\u001b[0m\u001b[0;34m=\u001b[0m\u001b[0;36m1\u001b[0m\u001b[0;34m)\u001b[0m\u001b[0;34m)\u001b[0m\u001b[0;34m\u001b[0m\u001b[0m\n\u001b[0m",
      "\u001b[0;32m~/anaconda3/lib/python3.6/site-packages/pandas/core/frame.py\u001b[0m in \u001b[0;36mapply\u001b[0;34m(self, func, axis, broadcast, raw, reduce, result_type, args, **kwds)\u001b[0m\n\u001b[1;32m   6002\u001b[0m                          \u001b[0margs\u001b[0m\u001b[0;34m=\u001b[0m\u001b[0margs\u001b[0m\u001b[0;34m,\u001b[0m\u001b[0;34m\u001b[0m\u001b[0m\n\u001b[1;32m   6003\u001b[0m                          kwds=kwds)\n\u001b[0;32m-> 6004\u001b[0;31m         \u001b[0;32mreturn\u001b[0m \u001b[0mop\u001b[0m\u001b[0;34m.\u001b[0m\u001b[0mget_result\u001b[0m\u001b[0;34m(\u001b[0m\u001b[0;34m)\u001b[0m\u001b[0;34m\u001b[0m\u001b[0m\n\u001b[0m\u001b[1;32m   6005\u001b[0m \u001b[0;34m\u001b[0m\u001b[0m\n\u001b[1;32m   6006\u001b[0m     \u001b[0;32mdef\u001b[0m \u001b[0mapplymap\u001b[0m\u001b[0;34m(\u001b[0m\u001b[0mself\u001b[0m\u001b[0;34m,\u001b[0m \u001b[0mfunc\u001b[0m\u001b[0;34m)\u001b[0m\u001b[0;34m:\u001b[0m\u001b[0;34m\u001b[0m\u001b[0m\n",
      "\u001b[0;32m~/anaconda3/lib/python3.6/site-packages/pandas/core/apply.py\u001b[0m in \u001b[0;36mget_result\u001b[0;34m(self)\u001b[0m\n\u001b[1;32m    140\u001b[0m             \u001b[0;32mreturn\u001b[0m \u001b[0mself\u001b[0m\u001b[0;34m.\u001b[0m\u001b[0mapply_raw\u001b[0m\u001b[0;34m(\u001b[0m\u001b[0;34m)\u001b[0m\u001b[0;34m\u001b[0m\u001b[0m\n\u001b[1;32m    141\u001b[0m \u001b[0;34m\u001b[0m\u001b[0m\n\u001b[0;32m--> 142\u001b[0;31m         \u001b[0;32mreturn\u001b[0m \u001b[0mself\u001b[0m\u001b[0;34m.\u001b[0m\u001b[0mapply_standard\u001b[0m\u001b[0;34m(\u001b[0m\u001b[0;34m)\u001b[0m\u001b[0;34m\u001b[0m\u001b[0m\n\u001b[0m\u001b[1;32m    143\u001b[0m \u001b[0;34m\u001b[0m\u001b[0m\n\u001b[1;32m    144\u001b[0m     \u001b[0;32mdef\u001b[0m \u001b[0mapply_empty_result\u001b[0m\u001b[0;34m(\u001b[0m\u001b[0mself\u001b[0m\u001b[0;34m)\u001b[0m\u001b[0;34m:\u001b[0m\u001b[0;34m\u001b[0m\u001b[0m\n",
      "\u001b[0;32m~/anaconda3/lib/python3.6/site-packages/pandas/core/apply.py\u001b[0m in \u001b[0;36mapply_standard\u001b[0;34m(self)\u001b[0m\n\u001b[1;32m    246\u001b[0m \u001b[0;34m\u001b[0m\u001b[0m\n\u001b[1;32m    247\u001b[0m         \u001b[0;31m# compute the result using the series generator\u001b[0m\u001b[0;34m\u001b[0m\u001b[0;34m\u001b[0m\u001b[0m\n\u001b[0;32m--> 248\u001b[0;31m         \u001b[0mself\u001b[0m\u001b[0;34m.\u001b[0m\u001b[0mapply_series_generator\u001b[0m\u001b[0;34m(\u001b[0m\u001b[0;34m)\u001b[0m\u001b[0;34m\u001b[0m\u001b[0m\n\u001b[0m\u001b[1;32m    249\u001b[0m \u001b[0;34m\u001b[0m\u001b[0m\n\u001b[1;32m    250\u001b[0m         \u001b[0;31m# wrap results\u001b[0m\u001b[0;34m\u001b[0m\u001b[0;34m\u001b[0m\u001b[0m\n",
      "\u001b[0;32m~/anaconda3/lib/python3.6/site-packages/pandas/core/apply.py\u001b[0m in \u001b[0;36mapply_series_generator\u001b[0;34m(self)\u001b[0m\n\u001b[1;32m    275\u001b[0m             \u001b[0;32mtry\u001b[0m\u001b[0;34m:\u001b[0m\u001b[0;34m\u001b[0m\u001b[0m\n\u001b[1;32m    276\u001b[0m                 \u001b[0;32mfor\u001b[0m \u001b[0mi\u001b[0m\u001b[0;34m,\u001b[0m \u001b[0mv\u001b[0m \u001b[0;32min\u001b[0m \u001b[0menumerate\u001b[0m\u001b[0;34m(\u001b[0m\u001b[0mseries_gen\u001b[0m\u001b[0;34m)\u001b[0m\u001b[0;34m:\u001b[0m\u001b[0;34m\u001b[0m\u001b[0m\n\u001b[0;32m--> 277\u001b[0;31m                     \u001b[0mresults\u001b[0m\u001b[0;34m[\u001b[0m\u001b[0mi\u001b[0m\u001b[0;34m]\u001b[0m \u001b[0;34m=\u001b[0m \u001b[0mself\u001b[0m\u001b[0;34m.\u001b[0m\u001b[0mf\u001b[0m\u001b[0;34m(\u001b[0m\u001b[0mv\u001b[0m\u001b[0;34m)\u001b[0m\u001b[0;34m\u001b[0m\u001b[0m\n\u001b[0m\u001b[1;32m    278\u001b[0m                     \u001b[0mkeys\u001b[0m\u001b[0;34m.\u001b[0m\u001b[0mappend\u001b[0m\u001b[0;34m(\u001b[0m\u001b[0mv\u001b[0m\u001b[0;34m.\u001b[0m\u001b[0mname\u001b[0m\u001b[0;34m)\u001b[0m\u001b[0;34m\u001b[0m\u001b[0m\n\u001b[1;32m    279\u001b[0m             \u001b[0;32mexcept\u001b[0m \u001b[0mException\u001b[0m \u001b[0;32mas\u001b[0m \u001b[0me\u001b[0m\u001b[0;34m:\u001b[0m\u001b[0;34m\u001b[0m\u001b[0m\n",
      "\u001b[0;32m<ipython-input-17-43e2e35911d1>\u001b[0m in \u001b[0;36mcreate_weather_sunset_columns\u001b[0;34m(row)\u001b[0m\n\u001b[1;32m     14\u001b[0m \u001b[0;34m\u001b[0m\u001b[0m\n\u001b[1;32m     15\u001b[0m \u001b[0;34m\u001b[0m\u001b[0m\n\u001b[0;32m---> 16\u001b[0;31m     \u001b[0mtemperature_info\u001b[0m \u001b[0;34m=\u001b[0m \u001b[0mjson_data\u001b[0m\u001b[0;34m[\u001b[0m\u001b[0mcurrent_timestamp\u001b[0m\u001b[0;34m]\u001b[0m\u001b[0;34m[\u001b[0m\u001b[0;34m'hourly'\u001b[0m\u001b[0;34m]\u001b[0m\u001b[0;34m[\u001b[0m\u001b[0;34m'data'\u001b[0m\u001b[0;34m]\u001b[0m\u001b[0;34m[\u001b[0m\u001b[0mrow\u001b[0m\u001b[0;34m[\u001b[0m\u001b[0;34m'hour'\u001b[0m\u001b[0;34m]\u001b[0m\u001b[0;34m]\u001b[0m\u001b[0;34m[\u001b[0m\u001b[0;34m'temperature'\u001b[0m\u001b[0;34m]\u001b[0m\u001b[0;34m\u001b[0m\u001b[0m\n\u001b[0m\u001b[1;32m     17\u001b[0m \u001b[0;34m\u001b[0m\u001b[0m\n\u001b[1;32m     18\u001b[0m     \u001b[0msunrise\u001b[0m \u001b[0;34m=\u001b[0m \u001b[0mjson_data\u001b[0m\u001b[0;34m[\u001b[0m\u001b[0mcurrent_timestamp\u001b[0m\u001b[0;34m]\u001b[0m\u001b[0;34m[\u001b[0m\u001b[0;34m'daily'\u001b[0m\u001b[0;34m]\u001b[0m\u001b[0;34m[\u001b[0m\u001b[0;34m'data'\u001b[0m\u001b[0;34m]\u001b[0m\u001b[0;34m[\u001b[0m\u001b[0;36m0\u001b[0m\u001b[0;34m]\u001b[0m\u001b[0;34m[\u001b[0m\u001b[0;34m'sunriseTime'\u001b[0m\u001b[0;34m]\u001b[0m \u001b[0;31m#in GMT\u001b[0m\u001b[0;34m\u001b[0m\u001b[0m\n",
      "\u001b[0;31mKeyError\u001b[0m: (1502438400, 'occurred at index 1')"
     ]
    }
   ],
   "source": [
    "df['sun'], df['outside_temperature'] = zip(*df.apply(create_weather_sunset_columns, axis=1))"
   ]
  },
  {
   "cell_type": "code",
   "execution_count": null,
   "metadata": {
    "ExecuteTime": {
     "end_time": "2018-06-08T20:49:03.316125Z",
     "start_time": "2018-06-08T20:48:25.357Z"
    },
    "collapsed": true
   },
   "outputs": [],
   "source": []
  },
  {
   "cell_type": "code",
   "execution_count": null,
   "metadata": {
    "collapsed": true
   },
   "outputs": [],
   "source": [
    "df = save_or_load_from_checkpoint('./checkpoints/data_3.h5')  "
   ]
  },
  {
   "cell_type": "markdown",
   "metadata": {
    "collapsed": true
   },
   "source": [
    "### Encode Columns\n",
    "\n",
    "Convert Categorical to Numerical Data. \n"
   ]
  },
  {
   "cell_type": "code",
   "execution_count": null,
   "metadata": {
    "collapsed": true
   },
   "outputs": [],
   "source": [
    "from sklearn import preprocessing\n",
    "columns_to_update = [\"entryType\", \"entrySubType\", \"device_id_name\", \"eventType\", \"Signal Name\", \"Signal Value string\", \"Signal direction\", \"room_name_merged\", \"message_merged\"]\n",
    "\n",
    "def encode_columns(data_frame, column_names):\n",
    "    label_encoders = {}\n",
    "    for col in column_names:\n",
    "        values = data_frame[col].unique()\n",
    "        le = preprocessing.LabelEncoder()\n",
    "        le.fit(values)\n",
    "        label_encoders[col] = le\n",
    "        numerical_values = le.transform(data_frame[col])\n",
    "        data_frame[col] = numerical_values\n",
    "    return data_frame, label_encoders\n",
    "\n",
    "categorical_df = df.copy()\n",
    "categorical_df, label_encoders = encode_columns(categorical_df, columns_to_update)"
   ]
  },
  {
   "cell_type": "markdown",
   "metadata": {},
   "source": [
    "### One-hot encode columns\n"
   ]
  },
  {
   "cell_type": "code",
   "execution_count": null,
   "metadata": {
    "collapsed": true
   },
   "outputs": [],
   "source": []
  }
 ],
 "metadata": {
  "kernelspec": {
   "display_name": "Python 3",
   "language": "python",
   "name": "python3"
  },
  "language_info": {
   "codemirror_mode": {
    "name": "ipython",
    "version": 3
   },
   "file_extension": ".py",
   "mimetype": "text/x-python",
   "name": "python",
   "nbconvert_exporter": "python",
   "pygments_lexer": "ipython3",
   "version": "3.6.3"
  }
 },
 "nbformat": 4,
 "nbformat_minor": 2
}
