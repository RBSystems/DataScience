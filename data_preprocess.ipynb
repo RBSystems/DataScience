{
 "cells": [
  {
   "cell_type": "markdown",
   "metadata": {},
   "source": [
    "# Clean up data, convert to dataframes, and save to csv"
   ]
  },
  {
   "cell_type": "markdown",
   "metadata": {},
   "source": [
    "The BAC file is pipe separated with the following fields:\n",
    "LogLevel [TimeStamp]:[LogVisibility][LogSeverity][entryType][entrySubType][eventType][EventType dependent strings]\n",
    "\n",
    "The information changes at the end of each entry based on its EventType.  Here is a list of the supported event types and the subsequent additional information for each listed below.\n",
    "\n",
    "GeneralMessage - [string message]\n",
    "\n",
    "LevelChangedEvent - [load ID][loadName][roomName][rampTime][rampBaseValue][rampFinalValue]\n",
    "\n",
    "ButtonChangedEvent - [keypad ID][keypadName][roomName][buttonNum][buttonState]\n",
    "\n",
    "RemoteSystemEvent - [signalID][signalName][roomName][RemoteSystemEvent string]\n",
    "TimeClockChangedEvent/OccupancyChangedEvent/SceneChangedEvent - [ID][name][roomName][message]\n",
    "\n",
    "ConnectionStatus - [device ID][Name][room Name][connection status][Load 1 Room Name:Load 1 Name]|[Load 2 Room Name:Load 2 Name]\n",
    "\n",
    "    NOTE: DeviceConnectionStatusWithOptions is the same format as ConnectionStatus. \n",
    "    \n",
    "SignalChangedEvent - [device ID][Device Name][room Name][signal event ID][signal Value] - Signal event ID differs by device and signal value is either bool or int based on the eventID.\n",
    "\n",
    "SignalChangedEventWithStrings - [device ID][Device Name][Signal Name][Signal Value string][Signal direction][message]\n"
   ]
  },
  {
   "cell_type": "code",
   "execution_count": null,
   "metadata": {},
   "outputs": [],
   "source": [
    "# FOR DATA ANALYSIS PUT HOUR, DAY, WEEK, MONTH, DATE, WEATHER, SUNRISE/SUNUP"
   ]
  },
  {
   "cell_type": "code",
   "execution_count": 1,
   "metadata": {},
   "outputs": [
    {
     "name": "stderr",
     "output_type": "stream",
     "text": [
      "/anaconda/envs/py35/lib/python3.5/site-packages/h5py/__init__.py:36: FutureWarning: Conversion of the second argument of issubdtype from `float` to `np.floating` is deprecated. In future, it will be treated as `np.float64 == np.dtype(float).type`.\n",
      "  from ._conv import register_converters as _register_converters\n"
     ]
    }
   ],
   "source": [
    "import os \n",
    "import pandas as pd\n",
    "import numpy as np\n",
    "import h5py\n",
    "from numpy import nan\n",
    "from datetime import datetime, timedelta\n",
    "from time import mktime\n",
    "import os.path\n",
    "pd.set_option('display.max_columns', 500)"
   ]
  },
  {
   "cell_type": "code",
   "execution_count": 2,
   "metadata": {},
   "outputs": [],
   "source": [
    "def save_or_load_from_checkpoint(df, checkpoint_name):\n",
    "    if not os.path.isfile(checkpoint_name):\n",
    "        df.to_csv(checkpoint_name, index=False)\n",
    "    else:\n",
    "        df = pd.read_csv(checkpoint_name)"
   ]
  },
  {
   "cell_type": "code",
   "execution_count": 3,
   "metadata": {},
   "outputs": [],
   "source": [
    "labels = ['LogLevel',\n",
    "          'TimeStamp',\n",
    "          'LogVisibility',\n",
    "          'LogSeverity',\n",
    "          'entryType',\n",
    "          'entrySubType',\n",
    "          'eventType']\n",
    "# from label list\n",
    "EVENT_TYPE_INDEX = labels.index('eventType')\n",
    "\n",
    "# from line in .bac file\n",
    "LOG_LEVEL_START = 0\n",
    "LOG_LEVEL_END = 3\n",
    "TIMESTAMP_START = 6\n",
    "TIMESTAMP_END = 14\n",
    "PIPE_SEPARATED_DATA_START = 17\n",
    "\n",
    "event_type_labels = [\n",
    "    \"string message\", # GeneralMessage\n",
    "    \"load ID\", \"loadName\", \"roomName1\", \"rampTime\", \"rampBaseValue\", \"rampFinalValue\", # LevelChangedEvent\n",
    "    \"keypad ID\", \"keypadName\", \"roomName2\", \"buttonNum\", \"buttonState\", # ButtonChangedEvent\n",
    "    \"signalID\", \"signalName\", \"roomName3\", \"RemoteSystemEvent string\", # RemoteSystemEvent\n",
    "    \"ID\", \"name\", \"roomName4\", \"message1\", # TimeClockChangedEvent/OccupancyChangedEvent/SceneChangedEvent\n",
    "    \"device ID1\", \"Name\", \"roomName5\", \"connection status\", \"Load 1 Room Name:Load 1 Name\", \"Load 2 Room Name:Load 2 Name\", # ConnectionStatus/DeviceConnectionStatusWithOptions\n",
    "    \"device ID2\", \"Device Name1\", \"roomName6\", \"signal event ID\", \"signal Value\", # SignalChangedEvent\n",
    "    \"device ID3\", \"Device Name2\", \"Signal Name\", \"Signal Value string\", \"Signal direction\", \"message2\", # SignalChangedEventWithStrings\n",
    "]\n",
    "\n",
    "def from_bac():\n",
    "    # device_id_offsets = [i for i, x in enumerate(event_type_labels) if x == \"device ID\"]\n",
    "    clean_lines = []\n",
    "\n",
    "    for log in os.listdir('data'):\n",
    "        with open('data/{}'.format(log)) as logfile:\n",
    "            for line in logfile:\n",
    "                line = line.rstrip('\\n')\n",
    "                if line[-1] == '|':\n",
    "                    line = line[:-1]\n",
    "                all_data = ([line[LOG_LEVEL_START:LOG_LEVEL_END], line[TIMESTAMP_START:TIMESTAMP_END]]\n",
    "                            + line[PIPE_SEPARATED_DATA_START:].split('|'))\n",
    "\n",
    "                event_type_dependent_strings = all_data[len(labels):]\n",
    "                clean_line = all_data[:len(labels)]\n",
    "\n",
    "                START_INDEX = 7\n",
    "                if clean_line[EVENT_TYPE_INDEX] == 'GeneralMessage':\n",
    "                    START_INDEX += event_type_labels.index('string message')\n",
    "                    # account for pipes in the message string\n",
    "                    event_type_dependent_strings = ['|'.join(event_type_dependent_strings)]\n",
    "                    assert START_INDEX == 7\n",
    "                    assert len(event_type_dependent_strings) == 1, event_type_dependent_strings\n",
    "\n",
    "                elif clean_line[EVENT_TYPE_INDEX] == 'LevelChangedEvent':\n",
    "                    START_INDEX += event_type_labels.index('load ID')\n",
    "                    assert START_INDEX == 8\n",
    "                    assert len(event_type_dependent_strings) == 6\n",
    "\n",
    "                elif clean_line[EVENT_TYPE_INDEX] == 'ButtonChangedEvent':\n",
    "                    START_INDEX += event_type_labels.index('keypad ID')\n",
    "                    assert START_INDEX == 14\n",
    "                    assert len(event_type_dependent_strings) == 5\n",
    "\n",
    "                elif clean_line[EVENT_TYPE_INDEX] == 'RemoteSystemEvent':\n",
    "                    START_INDEX += event_type_labels.index('signalID')\n",
    "                    assert START_INDEX == 19\n",
    "                    assert len(event_type_dependent_strings) == 4\n",
    "\n",
    "                elif (clean_line[EVENT_TYPE_INDEX] == 'TimeClockChangedEvent' or\n",
    "                      clean_line[EVENT_TYPE_INDEX] == 'OccupancyChangedEvent' or\n",
    "                      clean_line[EVENT_TYPE_INDEX] == 'SceneChangedEvent'):\n",
    "                    START_INDEX += event_type_labels.index('ID')\n",
    "                    assert START_INDEX == 23\n",
    "                    assert len(event_type_dependent_strings) == 4\n",
    "\n",
    "                elif (clean_line[EVENT_TYPE_INDEX] == 'ConnectionStatus' or\n",
    "                      clean_line[EVENT_TYPE_INDEX] == 'DeviceConnectionStatusWithOptions'):\n",
    "                    START_INDEX += event_type_labels.index('device ID1')\n",
    "                    assert START_INDEX == 27\n",
    "                    assert (len(event_type_dependent_strings) == 4 or\n",
    "                            len(event_type_dependent_strings) == 5 or\n",
    "                            len(event_type_dependent_strings) == 6)\n",
    "\n",
    "                elif clean_line[EVENT_TYPE_INDEX] == 'SignalChangedEvent':\n",
    "                    START_INDEX += event_type_labels.index('device ID2')\n",
    "                    assert START_INDEX == 33\n",
    "                    assert len(event_type_dependent_strings) == 5\n",
    "\n",
    "                elif clean_line[EVENT_TYPE_INDEX] == 'SignalChangedEventWithStrings':\n",
    "                    START_INDEX += event_type_labels.index('device ID3')\n",
    "                    assert START_INDEX == 38\n",
    "                    # to correct for the double pipe in \"Basement Mudroom\"\n",
    "                    event_type_dependent_strings = [i for i in event_type_dependent_strings if i]\n",
    "                else:\n",
    "                    raise ValueError(\"Wrong event type: {}\".format(clean_line[EVENT_TYPE_INDEX]))\n",
    "\n",
    "                clean_line = clean_line + [np.nan]*len(event_type_labels) + [log[-14:-4]]\n",
    "                clean_line[START_INDEX:START_INDEX + len(event_type_dependent_strings)] = event_type_dependent_strings\n",
    "                clean_lines.append(clean_line)\n",
    "    df = pd.DataFrame(clean_lines, columns=labels + event_type_labels + [\"date\"])\n",
    "    return df"
   ]
  },
  {
   "cell_type": "markdown",
   "metadata": {},
   "source": [
    "## First Checkpoint: Load data from BAC files"
   ]
  },
  {
   "cell_type": "code",
   "execution_count": 4,
   "metadata": {},
   "outputs": [],
   "source": [
    "if not os.path.isfile('./checkpoints/data_0.csv'):\n",
    "    df = from_bac()\n",
    "else:\n",
    "    df = pd.read_csv('./checkpoints/data_0.csv')"
   ]
  },
  {
   "cell_type": "markdown",
   "metadata": {},
   "source": [
    "### Combine date and time"
   ]
  },
  {
   "cell_type": "code",
   "execution_count": 5,
   "metadata": {},
   "outputs": [],
   "source": [
    "def to_datetime(row):\n",
    "    new_date = row['date'] + ' ' + row['TimeStamp']\n",
    "    dt = datetime.strptime(new_date, '%Y-%m-%d %H:%M:%S')\n",
    "    dt = dt + timedelta(hours=4)\n",
    "    unix_secs = mktime(dt.timetuple())\n",
    "    return unix_secs"
   ]
  },
  {
   "cell_type": "code",
   "execution_count": 6,
   "metadata": {},
   "outputs": [],
   "source": [
    "df['unix_time'] = df.apply(to_datetime, axis=1)\n",
    "df = df.drop([\"TimeStamp\",\"date\"], axis=1)"
   ]
  },
  {
   "cell_type": "markdown",
   "metadata": {},
   "source": [
    "### Drop useless columns"
   ]
  },
  {
   "cell_type": "code",
   "execution_count": 7,
   "metadata": {},
   "outputs": [],
   "source": [
    "# Useless columns\n",
    "df = df.drop([\"LogLevel\", \"LogVisibility\", \"LogSeverity\"],axis=1, errors='ignore')\n",
    "\n",
    "# useless after deleting General Message\n",
    "df = df.drop(\"string message\", axis=1, errors='ignore')\n",
    "\n",
    "# useless after deleting Button Change Event\n",
    "df = df.drop([\"keypad ID\", \"keypadName\", \"roomName2\", \"buttonNum\", \"buttonState\"], axis=1, errors='ignore')\n",
    "\n",
    "# useless after deleting Connection Status\n",
    "df = df.drop([\"device ID1\", \"Name\", \"roomName5\", \"connection status\", \"Load 1 Room Name:Load 1 Name\", \"Load 2 Room Name:Load 2 Name\"], axis=1, errors='ignore')\n",
    "\n",
    "# useless after deleting Remote System Event\n",
    "df = df.drop([\"signalID\", \"signalName\", \"roomName3\", \"RemoteSystemEvent string\"], axis=1, errors='ignore')"
   ]
  },
  {
   "cell_type": "markdown",
   "metadata": {},
   "source": [
    "### Remove useless event types"
   ]
  },
  {
   "cell_type": "code",
   "execution_count": 8,
   "metadata": {},
   "outputs": [],
   "source": [
    "df = df[df['eventType'] != 'ButtonChangedEvent']\n",
    "df = df[df['eventType'] != 'GeneralMessage']\n",
    "df = df[df['eventType'] != 'RemoteSystemEvent']\n",
    "df = df[df['eventType'] != 'TimeClockChangedEvent']\n",
    "df = df[df['eventType'] != 'ConnectionStatus']\n",
    "df = df[df['eventType'] != 'DeviceConnectionStatusWithOptions']"
   ]
  },
  {
   "cell_type": "markdown",
   "metadata": {},
   "source": [
    "### Merge Ids and Names"
   ]
  },
  {
   "cell_type": "code",
   "execution_count": 9,
   "metadata": {},
   "outputs": [],
   "source": [
    "def merge_columns(row, *args):\n",
    "    count = sum(1 for column_name in args if pd.notna(row[column_name]))\n",
    "    # checks if more than one value in the merged rows\n",
    "    assert count < 2\n",
    "    for column_name in args:\n",
    "        if pd.notna(row[column_name]):\n",
    "            return row[column_name]\n",
    "    return np.nan"
   ]
  },
  {
   "cell_type": "code",
   "execution_count": 10,
   "metadata": {},
   "outputs": [],
   "source": [
    "# Merge room names\n",
    "df['room_name_merged'] = df.apply(merge_columns, args=(\"roomName1\",\"roomName4\",\"roomName6\"), axis=1)\n",
    "df = df.drop([\"roomName1\",\"roomName4\",\"roomName6\"], axis=1)"
   ]
  },
  {
   "cell_type": "code",
   "execution_count": 11,
   "metadata": {},
   "outputs": [],
   "source": [
    "# Merge device name\n",
    "df['device_name'] = df.apply(merge_columns, args=(\"loadName\", \"name\", \"Device Name1\", \"Device Name2\"), axis=1)\n",
    "df = df.drop([\"loadName\", \"name\", \"Device Name1\", \"Device Name2\"], axis=1)"
   ]
  },
  {
   "cell_type": "code",
   "execution_count": 12,
   "metadata": {},
   "outputs": [],
   "source": [
    "# Merge IDs \n",
    "df['device_id'] = df.apply(merge_columns, args=('load ID', 'ID', 'device ID2', 'device ID3'), axis=1)\n",
    "df = df.drop(['load ID', 'ID', 'device ID2', 'device ID3'], axis=1)"
   ]
  },
  {
   "cell_type": "code",
   "execution_count": 13,
   "metadata": {},
   "outputs": [],
   "source": [
    "# Merge messages \n",
    "df['message_merged'] = df.apply(merge_columns, args=(\"message1\", \"message2\"), axis=1)\n",
    "df = df.drop([\"message1\", \"message2\"], axis=1)"
   ]
  },
  {
   "cell_type": "markdown",
   "metadata": {},
   "source": [
    "### Combine device name and id to for truly unique ids"
   ]
  },
  {
   "cell_type": "code",
   "execution_count": 14,
   "metadata": {},
   "outputs": [],
   "source": [
    "df['device_id_name'] = df['device_id'].astype(str) + df['device_name'].astype(str)\n",
    "df = df.drop([\"device_id\", \"device_name\"], axis=1)"
   ]
  },
  {
   "cell_type": "code",
   "execution_count": 15,
   "metadata": {},
   "outputs": [],
   "source": [
    "df = df.drop_duplicates()"
   ]
  },
  {
   "cell_type": "code",
   "execution_count": 16,
   "metadata": {},
   "outputs": [],
   "source": [
    "df = df.fillna('nan')"
   ]
  },
  {
   "cell_type": "code",
   "execution_count": 35,
   "metadata": {},
   "outputs": [],
   "source": [
    "# Checkpoint \n",
    "save_or_load_from_checkpoint(df, './checkpoints/data_3.csv')  "
   ]
  },
  {
   "cell_type": "markdown",
   "metadata": {},
   "source": [
    "### Normalize Column Values"
   ]
  },
  {
   "cell_type": "code",
   "execution_count": 30,
   "metadata": {
    "collapsed": true
   },
   "outputs": [
    {
     "name": "stdout",
     "output_type": "stream",
     "text": [
      "entryType ['Lights' 'DoorLock' 'Auxiliary' 'System' 'Climate' 'Shades']\n",
      "entrySubType ['Scene' 'Device' 'Load' 'Occupancy']\n",
      "eventType ['SceneChangedEvent' 'SignalChangedEventWithStrings' 'LevelChangedEvent'\n",
      " 'SignalChangedEvent' 'OccupancyChangedEvent']\n",
      "rampTime ['nan' '0' '-1' ... '3431' '4593' '2221']\n",
      "rampBaseValue ['nan' '13621' '0' ... '32593' '47664' '47428']\n",
      "rampFinalValue ['nan' '19275' '0' '65535' '35723' '18247' '39321' '63222' '55512' '39578'\n",
      " '15163' '13621' '11051' '47031' '50372' '20303' '39064' '14135' '33153'\n",
      " '31611' '33924' '32639' '514' '22359' '23387' '17476' '21331' '20046'\n",
      " '21588' '7453' '17219' '17990' '22616' '21074' '41120' '31354' '32125'\n",
      " '13364' '1285' '53713' '19789' '45746' '26985' '27756' '2827' '15934'\n",
      " '46260' '19018' '29812' '29555' '13878' '38550' '24929' '28784' '26471'\n",
      " '18761' '37423' '37522' '62708' '22873' '44244' '39567' '48385' '48156'\n",
      " '40597' '39590' '44267' '40617' '48169' '48398' '52685' '38036' '35209'\n",
      " '4112' '54484' '7710' '45489' '41891' '35466' '12850' '12079' '4883'\n",
      " '5911' '25957' '27242' '25700' '16705' '33410' '4369' '24415' '14906'\n",
      " '9766' '10794' '29298' '50629' '7196' '13107' '14649' '3855' '5140'\n",
      " '51657' '28013' '1542' '16191' '3084' '6168' '3598' '63736' '17733'\n",
      " '60652' '47802' '34181' '51400' '10280' '16448' '38807' '42919' '30069'\n",
      " '24672' '57054' '56797' '48316' '42148' '54227' '28527' '43947' '40349'\n",
      " '27499' '25186' '15420' '37265' '8995' '12336' '25443' '18504' '24158'\n",
      " '34695' '8738' '23901' '21845' '12593' '5397' '10023' '58082' '45000'\n",
      " '45017' '41467' '40931' '8224' '36494' '48573' '31868' '14392' '5654'\n",
      " '35980' '20817' '26214' '53199' '679' '878' '478' '442' '860' '698' '901'\n",
      " '718' '737' '756' '491' '795' '516' '815' '554' '604' '924' '947' '970'\n",
      " '1017' '994' '836' '6682' '43176' '28270' '23130' '23644' '9509' '65272'\n",
      " '65311' '65521' '65508' '44461' '2056' '15677' '62194' '50886' '50115'\n",
      " '7967' '39835' '64250' '63479' '44718' '38777' '47588' '39685' '47843'\n",
      " '43366' '29041' '16962' '59624' '11565' '11822' '5560' '5271' '3341'\n",
      " '51143' '41634' '61423' '44204' '57568' '62451' '54741' '36237' '33667'\n",
      " '19532' '48059' '6939' '11308' '59881' '63993' '46774' '42662' '8481'\n",
      " '40863' '62965' '26060' '20666' '20563' '17193' '20485' '20689' '17213'\n",
      " '49601' '60138' '30840' '10537' '257' '32970' '32896' '48694' '48830'\n",
      " '34952' '26728' '32382' '44975' '34438' '58596' '20560' '22102' '61166'\n",
      " '43690' '43433' '2879' '3803' '4091' '5016' '2683' '4068' '45232' '26083'\n",
      " '20576' '20497' '54998' '4626' '37779' '40092' '2313' '6425' '30583'\n",
      " '52171' '61937' '2570' '40606' '57311' '55769' '55255' '52942' '49858'\n",
      " '47288' '41377' '45279' '50045' '46517' '42405' '38293' '37760' '36751'\n",
      " '35139' '29062' '28347' '28823' '29300' '59367' '9252' '58853' '183'\n",
      " '184' '52195' '46812' '49344' '60395' '271' '176' '163' '323' '42379'\n",
      " '51240' '65523' '60909' '175' '170' '173' '64792' '65046' '59110' '30326'\n",
      " '58339' '12518' '14236' '15218' '23072' '24545' '25527' '26018' '26999'\n",
      " '25036' '23563' '5559' '5515' '63006' '61807' '43162' '32856' '26052'\n",
      " '26153' '14251' '22064' '14195' '52428' '34027' '34104' '18346' '18350'\n",
      " '28585' '34080' '28566' '65522' '65488' '65465' '65497' '65484' '65496'\n",
      " '1028' '32117' '29172' '28435' '26226' '25490' '24017' '23035' '21563'\n",
      " '21317' '21072' '20826' '20581' '53970' '32376' '65015' '65510' '40747'\n",
      " '44719' '31097' '61680' '64068' '54216' '56540' '53456' '46003' '56026'\n",
      " '42880' '38358' '47617' '47335' '39414' '51914' '63652' '63442' '63315'\n",
      " '64309' '64186' '52612' '53260' '58302' '54861' '58626' '48378' '57243'\n",
      " '56921' '51562' '48683' '65330' '65062' '57437' '4867' '4820' '4804'\n",
      " '40203' '40187' '7142' '7090' '3843' '3498' '6054' '7119' '7067' '3485'\n",
      " '1843' '2496' '2394' '1272' '1824' '1262' '2371' '1799' '34175' '47545'\n",
      " '2704' '2557' '2386' '1486' '1376' '27780' '30972' '32547' '41778'\n",
      " '41241' '45678' '40660' '49154' '48725' '41645' '56283' '64507' '49087'\n",
      " '52550' '41260' '25413' '34529' '24849' '13225' '16136' '40134' '34353'\n",
      " '21647' '32907' '49816' '50032' '15410' '15382' '61020' '61127' '64764'\n",
      " '57825' '325' '300' '2184' '24880' '27583' '33534' '44809' '44756'\n",
      " '27269' '27647' '3789' '7335' '10356' '19140' '10319' '64767' '64758'\n",
      " '64633' '65005' '65055' '52506' '42008' '42025' '45954' '52602' '22977'\n",
      " '14599' '14817' '33923' '33718' '3434' '20891' '21116' '125' '160'\n",
      " '29809' '15175' '37008' '11665' '27573' '37546' '42295' '42770' '43245'\n",
      " '60376' '60340' '42719' '36833' '33678' '162' '24' '34964' '36639'\n",
      " '39737' '45349' '44948' '65515' '58713' '3357' '3952' '2242' '4045'\n",
      " '2147' '3928' '10980' '9671' '5822' '8208' '5947' '9763' '9787' '8694'\n",
      " '10112' '12228' '6653' '12205' '6504' '20132' '12222' '11972' '22538'\n",
      " '20155' '12247' '11985' '12010' '22561' '22607' '22630' '12260' '12272'\n",
      " '12023' '22885' '12298' '12036' '23598' '22862' '12323' '12061' '12424'\n",
      " '12174' '23875' '32108' '16911' '31224' '17161' '17174' '32131' '23898'\n",
      " '31244' '17187' '32154' '32178' '32201' '32224' '17199' '17224' '17262'\n",
      " '32478' '17275' '39892' '54416' '28766' '28808' '19902' '45259' '45184'\n",
      " '36852' '35127' '39806' '45618' '44416' '63395' '63306' '13060' '16621'\n",
      " '32055' '37516' '41316' '44402' '2137' '45590' '5224' '7123' '12822'\n",
      " '28968' '32768' '42265' '51763' '52238' '49151' '45827' '47014' '51051'\n",
      " '37' '26' '62590' '62636' '53298' '53650' '56866' '57305' '64297' '44573'\n",
      " '48197' '43519' '50238' '43683' '50291' '432' '250' '65285' '49696'\n",
      " '36707' '49760' '41199' '36477' '459' '499' '512' '472' '485' '498' '511'\n",
      " '524' '537' '603' '525' '539' '565' '657' '45410' '44750' '44800' '43502'\n",
      " '43028' '65411' '36847' '46823' '46641' '38210' '40916' '43561' '37934'\n",
      " '37777' '50326' '50354' '42111' '33824' '34194' '26503' '26682' '30926'\n",
      " '30782' '65278' '47126' '45654' '42708' '30190' '30927' '33627' '41972'\n",
      " '32645' '21600' '492' '1139' '853' '873' '892' '950' '931' '505' '517'\n",
      " '543' '631' '1115' '504' '13029' '35004' '35393' '35587' '35782' '6806'\n",
      " '20419' '29364' '39088' '40838' '41810' '42588' '42199' '16778' '16584'\n",
      " '4595' '4922' '234' '247' '5221' '5590' '65021' '17930' '33195' '32918'\n",
      " '27867' '18047' '16884' '16456' '771' '64957' '65000' '65194' '64952'\n",
      " '47428' '47664' '32709' '32593' '37589']\n",
      "signal event ID ['nan' '14' '13' '6' '3' '4' '15' '16' '5' '11' '1' '2' '10' '8' '17']\n",
      "signal Value ['nan' '0' '1800' '1' '65535' '17498' '300' '35723' '900' '2' '7453'\n",
      " '17219' '63222' '48759' '514' '3' '38036' '13878' '41891' '2827' '15163'\n",
      " '8651' '33410' '12850' '14353' '18744' '63634' '41120' '1285' '50372'\n",
      " '17505' '39321' '53424' '18678' '16932' '14054' '1542' '52685' '22616'\n",
      " '7710' '38807' '42919' '35455' '22359' '25428' '11141' '40349' '32639'\n",
      " '62708' '30' '7196' '31588' '18612' '36494' '14135' '28784' '13621'\n",
      " '7464' '5374' '19275' '32113' '55512' '9509' '21430' '39064' '53914'\n",
      " '16711' '18611' '46155' '26410' '6168' '4418' '37552' '57605' '8738'\n",
      " '31354' '3855' '19018' '24661' '17733' '16962' '278' '3670' '27525'\n",
      " '59624' '15934' '45482' '19532' '41681' '52339' '3342' '408' '31195'\n",
      " '65469' '22873' '17476' '17990' '34695' '38550' '32382' '28270' '3598'\n",
      " '34734' '13697' '13894' '32125' '20046' '12059' '50265' '26471' '6939'\n",
      " '49601' '57054' '10023' '29812' '14649' '11993' '33924' '38732' '36237'\n",
      " '9766' '58785' '5178' '14484' '21074' '25700' '37522' '24969' '25443'\n",
      " '11822' '37265' '35209' '54741' '11342' '45481' '3323' '19496' '16777'\n",
      " '20775' '32896' '6685' '48824' '22086' '35389' '28527' '23387' '4112'\n",
      " '16712' '24445' '3341' '21234' '24314' '16973' '27328' '64250' '27918'\n",
      " '58596' '18761' '13501' '1049' '38797' '6946' '40092' '23003' '24707'\n",
      " '23921' '36503' '54484' '60395' '62965' '16384' '30867' '10537' '16191'\n",
      " '26018' '30840' '24415' '43176' '17695' '20120' '18504' '61680' '51970'\n",
      " '31868' '56797' '29298' '40606' '15677' '39846' '18677' '17433' '6425'\n",
      " '17366' '47709' '2386' '48103' '11731' '1686' '18247' '41634' '46003'\n",
      " '8995' '39578' '44204' '23659' '20185' '44975' '31457' '16448' '48234'\n",
      " '56540' '26934' '10421' '63700' '6816' '22020' '1799' '15420' '2570'\n",
      " '33667' '1377' '11666' '11308' '18219' '27066' '24158' '12593' '4369'\n",
      " '4892' '15336' '58339' '64978' '63755' '48304' '47841' '42794' '17760'\n",
      " '39835' '28770' '9252' '24838' '15401' '16776' '2032' '48830' '26411'\n",
      " '14906' '2056' '3084' '17367' '21102' '16319' '44718' '42662' '17892'\n",
      " '12079' '464' '62194' '64' '16' '47644' '8481' '5310' '13860' '957'\n",
      " '59367' '46517' '33422' '23644' '6682' '11075' '58853' '20817' '45874'\n",
      " '60424' '30802' '40632' '32047' '54998' '3146' '55509' '29950' '33620'\n",
      " '25363' '9438' '23901' '59110' '51143' '7865' '19661' '33423' '27756'\n",
      " '51379' '38293' '51914' '43352' '32932' '55769' '64764' '11565' '46774'\n",
      " '41222' '57825' '29098' '33416' '34181' '30540' '6370' '57048' '42405'\n",
      " '25186' '16705' '34078' '38207' '27242' '34995' '4025' '47288' '50134'\n",
      " '2313' '28013' '8717' '58082' '8224' '14222' '42140' '20513' '29884'\n",
      " '22282' '26985' '31097' '7209' '20702' '12336' '43254' '19726' '63241'\n",
      " '46260' '21627' '29555' '52428' '45677' '10026' '6605' '62451' '17171'\n",
      " '25231' '3004' '55934' '23461' '5911' '26728' '30409' '17236' '60510'\n",
      " '34537' '7967' '3896' '34472']\n",
      "Signal Name ['nan' 'Basement Mudroom' 'Master Bed' 'Kitchen' 'Great Room' 'Unassigned']\n",
      "Signal Value string ['nan' 'Lock' 'Temperature' 'Cool Stage 1' 'Active Fan Level'\n",
      " 'Scheduled Setpoints' '\"Weekend Wake\" Event' '\"Wake Weekend\" Event'\n",
      " 'Cool Setpoint' '\"Sleep\" Event' 'Heat Stage 1' '\"Wake\" Event'\n",
      " 'Heat Setpoint' '\"Leave\" Event' '\"Return\" Event' 'Auto Setpoint' 'Unlock'\n",
      " 'Mode' 'Hold' 'Fan' 'Floor Warming' 'Humidifier Enable' 'Humidifier Off'\n",
      " 'Slab 1' 'Slab 2' 'Slab 3' 'Slab 4A' 'Slab 4B' 'Slab 5A' 'Slab 5B'\n",
      " 'Auto Mode' 'Single Setpoint Mode' 'Humidity Mode' 'Humidity View'\n",
      " 'Heat Mode' 'Cool Mode' 'Auto Deadband' 'Slab Setpoint'\n",
      " 'Humidity Setpoint' 'Get Information' 'PowerSupplyAStatusFeedback'\n",
      " 'PowerSupplyBStatusFeedback' 'PowerSupplyHubStatusFb'\n",
      " 'BranchAStatusFeedback' 'BranchBStatusFeedback' 'BranchCStatusFeedback'\n",
      " 'BranchDStatusFeedback' 'BranchEStatusFeedback' 'Slab Temperature']\n",
      "Signal direction ['nan' 'ToDevice' '73° Fahrenheit' '75° Fahrenheit' '74° Fahrenheit'\n",
      " 'Active' 'High' 'Inactive' 'Off'\n",
      " 'Heat = 71° Fahrenheit, Cool = 74° Fahrenheit, and Auto = 70° Fahrenheit'\n",
      " 'Heat Setpoint 71° Fahrenheit, Cool Setpoint 74° Fahrenheit, and Auto Setpoint 70° Fahrenheit'\n",
      " 'Heat = 67° Fahrenheit, Cool = 77° Fahrenheit, and Auto = 72° Fahrenheit'\n",
      " 'Heat Setpoint 67° Fahrenheit, Cool Setpoint 77° Fahrenheit, and Auto Setpoint 72° Fahrenheit'\n",
      " 'Heat = 67° Fahrenheit, Cool = 72° Fahrenheit, and Auto = 72° Fahrenheit'\n",
      " 'Heat Setpoint 67° Fahrenheit, Cool Setpoint 72° Fahrenheit, and Auto Setpoint 72° Fahrenheit'\n",
      " '72° Fahrenheit' '71° Fahrenheit' '69° Fahrenheit' '68° Fahrenheit'\n",
      " '67° Fahrenheit' '66° Fahrenheit'\n",
      " 'Heat = 71° Fahrenheit, Cool = 75° Fahrenheit, and Auto = 72° Fahrenheit'\n",
      " 'Heat Setpoint 71° Fahrenheit, Cool Setpoint 75° Fahrenheit, and Auto Setpoint 72° Fahrenheit'\n",
      " '70° Fahrenheit'\n",
      " 'Heat = 71° Fahrenheit, Cool = 74° Fahrenheit, and Auto = 72° Fahrenheit'\n",
      " 'Heat Setpoint 71° Fahrenheit, Cool Setpoint 74° Fahrenheit, and Auto Setpoint 72° Fahrenheit'\n",
      " 'Heat = 68° Fahrenheit, Cool = 74° Fahrenheit, and Auto = 72° Fahrenheit'\n",
      " 'Heat Setpoint 68° Fahrenheit, Cool Setpoint 74° Fahrenheit, and Auto Setpoint 72° Fahrenheit'\n",
      " '77° Fahrenheit' 'FromDevice' 'Cool' 'Heat' '76° Fahrenheit'\n",
      " 'Heat = 67° Fahrenheit, Cool = 71° Fahrenheit, and Auto = 73° Fahrenheit'\n",
      " 'Heat Setpoint 67° Fahrenheit, Cool Setpoint 71° Fahrenheit, and Auto Setpoint 73° Fahrenheit'\n",
      " '65° Fahrenheit' '64° Fahrenheit' '63° Fahrenheit' '62° Fahrenheit'\n",
      " '61° Fahrenheit' '60° Fahrenheit' 'On' '78° Fahrenheit' '79° Fahrenheit'\n",
      " '59° Fahrenheit' 'Auto' 'Heat:False' 'Off:False' '0° Fahrenheit'\n",
      " 'Enabled' 'Disabled' '2° Fahrenheit' 'Off:True' '5%'\n",
      " 'Heat = 67° Fahrenheit, Cool = 73° Fahrenheit, and Auto = 73° Fahrenheit'\n",
      " 'Heat Setpoint 67° Fahrenheit, Cool Setpoint 73° Fahrenheit, and Auto Setpoint 73° Fahrenheit'\n",
      " 'Normal' '0' '32° Fahrenheit' '122° Fahrenheit' '121° Fahrenheit'\n",
      " '80° Fahrenheit' '81° Fahrenheit' '120° Fahrenheit' '119° Fahrenheit'\n",
      " '118° Fahrenheit']\n",
      "unix_time [1.5074352e+09 1.5074352e+09 1.5074352e+09 ... 1.5146056e+09 1.5146059e+09\n",
      " 1.5146059e+09]\n"
     ]
    },
    {
     "name": "stdout",
     "output_type": "stream",
     "text": [
      "room_name_merged ['Upstairs Landing' 'nan' 'Basement Mudroom' 'Master Bath'\n",
      " 'Master Walk In Closet' 'Second Floor Bathroom' 'Basement Rec Room'\n",
      " \"Alex's bedroom\" 'Guest Room' 'First Floor Hallway' 'Basement Bathroom'\n",
      " 'Basement Stairs' 'Billiards Room' 'First Floor Bathroom'\n",
      " 'First Floor Mudroom' 'Foyer' 'Great Room' 'Kitchen' 'Library'\n",
      " 'Family Room' 'Office First Floor' 'Office Second Floor' 'Whole House'\n",
      " 'Front Yard' 'Theater' 'Dining Room' 'Master Bed' 'Rack Room' 'Garage'\n",
      " 'Madis Bedroom' 'Back Yard' 'Dinette' 'Unassigned']\n",
      "message_merged ['SceneRecalled' 'nan' 'VacancyDetected' 'OccupancyDetected' 'FromDevice'\n",
      " 'ToDevice' 'GraceOccupancyDetected' 'Cause: Key or Thumb-turn.'\n",
      " 'SceneFastRecalled' 'Cause: LockUnlockMalfunction'\n",
      " 'Cause: Keypad PIN Entry.' 'Cause: One-touch.']\n",
      "device_id_name ['74Night' '208Basement Mudroom Door' '77Lock Basement Mudroom Door'\n",
      " '118Sconces' '122Chandelier' '120Overhead' '46All Off' '100Overhead'\n",
      " '104Sink' '99Shower' '102Fan' '106Overhead'\n",
      " '169Second Floor Bath Occ Sensor' '56All Off' '30Second Floor Bathroom'\n",
      " '126Sink' '128Overhead' '130Fan' '114Theater Occ Sensor' '137Overhead'\n",
      " '139Lamp' '116Overhead' '170Guest Room Occ Sensor' '29Guest Room'\n",
      " '52All Off' '194Master Bed' '48Left Overhead Light'\n",
      " '50Center Overhead Light' '54Right Overhead Light' '17Overhead Lights'\n",
      " '23TV Lights' '19Foosball Lights' '21Couch Light' '27Closet Light'\n",
      " '11Overhead Light' '15Shower Light' '5Bar Light' '7Overhead Light'\n",
      " '29Pathway Light' '37Perimeter' '43Overhead' '45Shower' '58Window Lights'\n",
      " '35Overhead' '62Overhead Light' '66Foyer Light'\n",
      " '77Overhead Bottom Lights' '79Overhead Top Lights' '84Cove Lights'\n",
      " '82Chandelier' '86Island' '94Desk' '90Counter' '92Overhead' '88Sink'\n",
      " '9Under Bar Light' '52Overhead Light' '75Center Light'\n",
      " '73Perimeter Lights' '39Overhead Light' '133Overhead' '73Night'\n",
      " '56Front Porch Light' '161Perimeter' '164Cove' '159Screen Lights'\n",
      " '68Front Door Scones' '60Mudroom Door Sconce' '143Dinette'\n",
      " '111Outside All Off' '71Foyer Sconce' '34Kitchen Pantry' '64Chandelier'\n",
      " '173Occ Sensor' '26Master Bath' '192Kitchen' '195Great Room'\n",
      " '187Master Bed Front Left' '191Closet Side Of House'\n",
      " '189Closet Front Left' '185Closet Front Right'\n",
      " '188Master Bed Front Right' '45All On' '78Daytime Sconce Motion On'\n",
      " '21All On' '41Cook' '96Range Hood' '19All On' '41Fan' '217Floor lamp'\n",
      " '20All Off' '38Night' '11All On' '9All On' '25Overhead Light'\n",
      " '153Rack Overhead' '178Basement Rec Room Ceiling' '66Occupancy'\n",
      " '1Basement Rec Room' '205Main Garage Overhead' '168Main Garage Sensor'\n",
      " '13All On' '21Garage' '174New Garage Overhead 1'\n",
      " '176New Garage Overhead 2' '8All Off' '14All Off'\n",
      " '1713rd Car Garage Sensor' '157Basement Storage Room' '90Sunset'\n",
      " '40All Off' '39All On' '135Overhead' '42Night' '49All On'\n",
      " '108Reading Chip' '110Reading Beth' '112Overhead' '50All Off' '2Patio'\n",
      " '3Door Light' '63All On' '146Patio Door (upper)' '147Side Yard'\n",
      " '64All Off' '36All Off' '67Night' '190Guest Room'\n",
      " '79Latenight Sconce Motion On' '49Left Overhead Light'\n",
      " '80Mornifng Sconce Motion On' '218Basement Stair Occ Sense'\n",
      " '186Side Of House' '184Back Of House' '141Lamp' '2All Off'\n",
      " '89Kitchen Only On' '37Entertain' '87Talk' '86All Off' '85All On'\n",
      " '10All Off' '12All Off' '118Hall' '82Night' '71Backyard On'\n",
      " '72Backyard Off' '1041/4 Closed' '88Movie' '13Fan' '62All Off' '7All On'\n",
      " '33All On' '34All Off' '69Front Yard On' '124Driveway Light' '96All Open'\n",
      " '35All On' '151New Garage Outside Light'\n",
      " '149Driveway Spot Over New Garage' '22All Off' \"166Madi's Closet\"\n",
      " '60All Off' '43All On' '183Front Of House' '196Side Of House'\n",
      " '93All Close' '207Office Shades' '206Dinette Shades'\n",
      " '200Mudroon Front Of House' '201Mudroom Side Of House' '199Foyer Roman'\n",
      " '92All Open' '48All Off' '59All On' '27All On' '54All Off' '25All On'\n",
      " '61All On' '70Front Yard Off' '68First Floor All Off' '17All On'\n",
      " '97All Close' '1053/4 Closed' '110Outside All On' '31All On' '32All Off'\n",
      " '18All Off' '119Movie' '55All On' '16CLW-DIMEX-P' '5CLW-DIMEX-P'\n",
      " '81Basement Off' '116All Close' '216CSA-PWS10S-HUB' '15All On'\n",
      " '95Basement All On' '1All On' '83Workout' '115All Open' '75Entertain'\n",
      " '113All Open' '106All Open' '108All Open' '26All Off' '51All On'\n",
      " '29All On' '23All On' '16All Off' '58All Off' '6All Off' '4All Off'\n",
      " '94First Floor All On' '5All On']\n"
     ]
    }
   ],
   "source": [
    "for col in df.columns:\n",
    "    print(col, df[col].unique())"
   ]
  },
  {
   "cell_type": "code",
   "execution_count": 55,
   "metadata": {},
   "outputs": [
    {
     "data": {
      "text/plain": [
       "array(['DoorLock', 'Climate', 'Auxiliary'], dtype=object)"
      ]
     },
     "execution_count": 55,
     "metadata": {},
     "output_type": "execute_result"
    }
   ],
   "source": [
    "df.loc[df[\"eventType\"] == \"SignalChangedEventWithStrings\"][\"entryType\"].unique()"
   ]
  },
  {
   "cell_type": "code",
   "execution_count": 36,
   "metadata": {
    "scrolled": true
   },
   "outputs": [
    {
     "name": "stderr",
     "output_type": "stream",
     "text": [
      "/anaconda/envs/py35/lib/python3.5/site-packages/ipykernel_launcher.py:2: UserWarning: Boolean Series key will be reindexed to match DataFrame index.\n",
      "  \n"
     ]
    }
   ],
   "source": [
    "# dropping more useless data\n",
    "index_to_drop = df.loc[df[\"entryType\"] == \"Auxiliary\"][df['eventType'] == \"SignalChangedEventWithStrings\"].index.tolist()\n",
    "df = df.drop(index_to_drop)"
   ]
  },
  {
   "cell_type": "code",
   "execution_count": 63,
   "metadata": {},
   "outputs": [
    {
     "data": {
      "text/plain": [
       "array(['nan', 'ToDevice', 'nan', ..., 'nan', 'nan', 'nan'], dtype=object)"
      ]
     },
     "execution_count": 63,
     "metadata": {},
     "output_type": "execute_result"
    }
   ],
   "source": [
    "df['Signal direction'].values"
   ]
  },
  {
   "cell_type": "code",
   "execution_count": 77,
   "metadata": {},
   "outputs": [
    {
     "data": {
      "text/plain": [
       "['0° Fahrenheit',\n",
       " '118° Fahrenheit',\n",
       " '119° Fahrenheit',\n",
       " '120° Fahrenheit',\n",
       " '121° Fahrenheit',\n",
       " '122° Fahrenheit',\n",
       " '2° Fahrenheit',\n",
       " '32° Fahrenheit',\n",
       " '5%',\n",
       " '59° Fahrenheit',\n",
       " '60° Fahrenheit',\n",
       " '61° Fahrenheit',\n",
       " '62° Fahrenheit',\n",
       " '63° Fahrenheit',\n",
       " '64° Fahrenheit',\n",
       " '65° Fahrenheit',\n",
       " '66° Fahrenheit',\n",
       " '67° Fahrenheit',\n",
       " '68° Fahrenheit',\n",
       " '69° Fahrenheit',\n",
       " '70° Fahrenheit',\n",
       " '71° Fahrenheit',\n",
       " '72° Fahrenheit',\n",
       " '73° Fahrenheit',\n",
       " '74° Fahrenheit',\n",
       " '75° Fahrenheit',\n",
       " '76° Fahrenheit',\n",
       " '77° Fahrenheit',\n",
       " '78° Fahrenheit',\n",
       " '79° Fahrenheit',\n",
       " '80° Fahrenheit',\n",
       " '81° Fahrenheit',\n",
       " 'Active',\n",
       " 'Auto',\n",
       " 'Cool',\n",
       " 'Disabled',\n",
       " 'Enabled',\n",
       " 'FromDevice',\n",
       " 'Heat',\n",
       " 'Heat = 67° Fahrenheit, Cool = 71° Fahrenheit, and Auto = 73° Fahrenheit',\n",
       " 'Heat = 67° Fahrenheit, Cool = 72° Fahrenheit, and Auto = 72° Fahrenheit',\n",
       " 'Heat = 67° Fahrenheit, Cool = 73° Fahrenheit, and Auto = 73° Fahrenheit',\n",
       " 'Heat = 67° Fahrenheit, Cool = 77° Fahrenheit, and Auto = 72° Fahrenheit',\n",
       " 'Heat = 68° Fahrenheit, Cool = 74° Fahrenheit, and Auto = 72° Fahrenheit',\n",
       " 'Heat = 71° Fahrenheit, Cool = 74° Fahrenheit, and Auto = 70° Fahrenheit',\n",
       " 'Heat = 71° Fahrenheit, Cool = 74° Fahrenheit, and Auto = 72° Fahrenheit',\n",
       " 'Heat = 71° Fahrenheit, Cool = 75° Fahrenheit, and Auto = 72° Fahrenheit',\n",
       " 'Heat Setpoint 67° Fahrenheit, Cool Setpoint 71° Fahrenheit, and Auto Setpoint 73° Fahrenheit',\n",
       " 'Heat Setpoint 67° Fahrenheit, Cool Setpoint 72° Fahrenheit, and Auto Setpoint 72° Fahrenheit',\n",
       " 'Heat Setpoint 67° Fahrenheit, Cool Setpoint 73° Fahrenheit, and Auto Setpoint 73° Fahrenheit',\n",
       " 'Heat Setpoint 67° Fahrenheit, Cool Setpoint 77° Fahrenheit, and Auto Setpoint 72° Fahrenheit',\n",
       " 'Heat Setpoint 68° Fahrenheit, Cool Setpoint 74° Fahrenheit, and Auto Setpoint 72° Fahrenheit',\n",
       " 'Heat Setpoint 71° Fahrenheit, Cool Setpoint 74° Fahrenheit, and Auto Setpoint 70° Fahrenheit',\n",
       " 'Heat Setpoint 71° Fahrenheit, Cool Setpoint 74° Fahrenheit, and Auto Setpoint 72° Fahrenheit',\n",
       " 'Heat Setpoint 71° Fahrenheit, Cool Setpoint 75° Fahrenheit, and Auto Setpoint 72° Fahrenheit',\n",
       " 'Heat:False',\n",
       " 'High',\n",
       " 'Inactive',\n",
       " 'Off',\n",
       " 'Off:False',\n",
       " 'Off:True',\n",
       " 'On',\n",
       " 'ToDevice',\n",
       " 'nan']"
      ]
     },
     "execution_count": 77,
     "metadata": {},
     "output_type": "execute_result"
    }
   ],
   "source": [
    "sorted(df['Signal direction'].unique())"
   ]
  },
  {
   "cell_type": "code",
   "execution_count": 85,
   "metadata": {},
   "outputs": [
    {
     "ename": "KeyError",
     "evalue": "('Signal direction', 'occurred at index entryType')",
     "output_type": "error",
     "traceback": [
      "\u001b[0;31m---------------------------------------------------------------------------\u001b[0m",
      "\u001b[0;31mTypeError\u001b[0m                                 Traceback (most recent call last)",
      "\u001b[0;32mpandas/_libs/index.pyx\u001b[0m in \u001b[0;36mpandas._libs.index.IndexEngine.get_loc\u001b[0;34m()\u001b[0m\n",
      "\u001b[0;32mpandas/_libs/hashtable_class_helper.pxi\u001b[0m in \u001b[0;36mpandas._libs.hashtable.Int64HashTable.get_item\u001b[0;34m()\u001b[0m\n",
      "\u001b[0;31mTypeError\u001b[0m: an integer is required",
      "\nDuring handling of the above exception, another exception occurred:\n",
      "\u001b[0;31mKeyError\u001b[0m                                  Traceback (most recent call last)",
      "\u001b[0;32m<ipython-input-85-4c3da9dc47bf>\u001b[0m in \u001b[0;36m<module>\u001b[0;34m()\u001b[0m\n\u001b[0;32m----> 1\u001b[0;31m \u001b[0mdf\u001b[0m\u001b[0;34m.\u001b[0m\u001b[0mapply\u001b[0m\u001b[0;34m(\u001b[0m\u001b[0;32mlambda\u001b[0m \u001b[0mrow\u001b[0m\u001b[0;34m:\u001b[0m \u001b[0mlen\u001b[0m\u001b[0;34m(\u001b[0m\u001b[0mrow\u001b[0m\u001b[0;34m[\u001b[0m\u001b[0;34m'Signal direction'\u001b[0m\u001b[0;34m]\u001b[0m\u001b[0;34m)\u001b[0m \u001b[0;34m>\u001b[0m \u001b[0;36m20\u001b[0m\u001b[0;34m)\u001b[0m\u001b[0;34m\u001b[0m\u001b[0m\n\u001b[0m",
      "\u001b[0;32m/anaconda/envs/py35/lib/python3.5/site-packages/pandas/core/frame.py\u001b[0m in \u001b[0;36mapply\u001b[0;34m(self, func, axis, broadcast, raw, reduce, args, **kwds)\u001b[0m\n\u001b[1;32m   4875\u001b[0m                         \u001b[0mf\u001b[0m\u001b[0;34m,\u001b[0m \u001b[0maxis\u001b[0m\u001b[0;34m,\u001b[0m\u001b[0;34m\u001b[0m\u001b[0m\n\u001b[1;32m   4876\u001b[0m                         \u001b[0mreduce\u001b[0m\u001b[0;34m=\u001b[0m\u001b[0mreduce\u001b[0m\u001b[0;34m,\u001b[0m\u001b[0;34m\u001b[0m\u001b[0m\n\u001b[0;32m-> 4877\u001b[0;31m                         ignore_failures=ignore_failures)\n\u001b[0m\u001b[1;32m   4878\u001b[0m             \u001b[0;32melse\u001b[0m\u001b[0;34m:\u001b[0m\u001b[0;34m\u001b[0m\u001b[0m\n\u001b[1;32m   4879\u001b[0m                 \u001b[0;32mreturn\u001b[0m \u001b[0mself\u001b[0m\u001b[0;34m.\u001b[0m\u001b[0m_apply_broadcast\u001b[0m\u001b[0;34m(\u001b[0m\u001b[0mf\u001b[0m\u001b[0;34m,\u001b[0m \u001b[0maxis\u001b[0m\u001b[0;34m)\u001b[0m\u001b[0;34m\u001b[0m\u001b[0m\n",
      "\u001b[0;32m/anaconda/envs/py35/lib/python3.5/site-packages/pandas/core/frame.py\u001b[0m in \u001b[0;36m_apply_standard\u001b[0;34m(self, func, axis, ignore_failures, reduce)\u001b[0m\n\u001b[1;32m   4971\u001b[0m             \u001b[0;32mtry\u001b[0m\u001b[0;34m:\u001b[0m\u001b[0;34m\u001b[0m\u001b[0m\n\u001b[1;32m   4972\u001b[0m                 \u001b[0;32mfor\u001b[0m \u001b[0mi\u001b[0m\u001b[0;34m,\u001b[0m \u001b[0mv\u001b[0m \u001b[0;32min\u001b[0m \u001b[0menumerate\u001b[0m\u001b[0;34m(\u001b[0m\u001b[0mseries_gen\u001b[0m\u001b[0;34m)\u001b[0m\u001b[0;34m:\u001b[0m\u001b[0;34m\u001b[0m\u001b[0m\n\u001b[0;32m-> 4973\u001b[0;31m                     \u001b[0mresults\u001b[0m\u001b[0;34m[\u001b[0m\u001b[0mi\u001b[0m\u001b[0;34m]\u001b[0m \u001b[0;34m=\u001b[0m \u001b[0mfunc\u001b[0m\u001b[0;34m(\u001b[0m\u001b[0mv\u001b[0m\u001b[0;34m)\u001b[0m\u001b[0;34m\u001b[0m\u001b[0m\n\u001b[0m\u001b[1;32m   4974\u001b[0m                     \u001b[0mkeys\u001b[0m\u001b[0;34m.\u001b[0m\u001b[0mappend\u001b[0m\u001b[0;34m(\u001b[0m\u001b[0mv\u001b[0m\u001b[0;34m.\u001b[0m\u001b[0mname\u001b[0m\u001b[0;34m)\u001b[0m\u001b[0;34m\u001b[0m\u001b[0m\n\u001b[1;32m   4975\u001b[0m             \u001b[0;32mexcept\u001b[0m \u001b[0mException\u001b[0m \u001b[0;32mas\u001b[0m \u001b[0me\u001b[0m\u001b[0;34m:\u001b[0m\u001b[0;34m\u001b[0m\u001b[0m\n",
      "\u001b[0;32m<ipython-input-85-4c3da9dc47bf>\u001b[0m in \u001b[0;36m<lambda>\u001b[0;34m(row)\u001b[0m\n\u001b[0;32m----> 1\u001b[0;31m \u001b[0mdf\u001b[0m\u001b[0;34m.\u001b[0m\u001b[0mapply\u001b[0m\u001b[0;34m(\u001b[0m\u001b[0;32mlambda\u001b[0m \u001b[0mrow\u001b[0m\u001b[0;34m:\u001b[0m \u001b[0mlen\u001b[0m\u001b[0;34m(\u001b[0m\u001b[0mrow\u001b[0m\u001b[0;34m[\u001b[0m\u001b[0;34m'Signal direction'\u001b[0m\u001b[0;34m]\u001b[0m\u001b[0;34m)\u001b[0m \u001b[0;34m>\u001b[0m \u001b[0;36m20\u001b[0m\u001b[0;34m)\u001b[0m\u001b[0;34m\u001b[0m\u001b[0m\n\u001b[0m",
      "\u001b[0;32m/anaconda/envs/py35/lib/python3.5/site-packages/pandas/core/series.py\u001b[0m in \u001b[0;36m__getitem__\u001b[0;34m(self, key)\u001b[0m\n\u001b[1;32m    621\u001b[0m         \u001b[0mkey\u001b[0m \u001b[0;34m=\u001b[0m \u001b[0mcom\u001b[0m\u001b[0;34m.\u001b[0m\u001b[0m_apply_if_callable\u001b[0m\u001b[0;34m(\u001b[0m\u001b[0mkey\u001b[0m\u001b[0;34m,\u001b[0m \u001b[0mself\u001b[0m\u001b[0;34m)\u001b[0m\u001b[0;34m\u001b[0m\u001b[0m\n\u001b[1;32m    622\u001b[0m         \u001b[0;32mtry\u001b[0m\u001b[0;34m:\u001b[0m\u001b[0;34m\u001b[0m\u001b[0m\n\u001b[0;32m--> 623\u001b[0;31m             \u001b[0mresult\u001b[0m \u001b[0;34m=\u001b[0m \u001b[0mself\u001b[0m\u001b[0;34m.\u001b[0m\u001b[0mindex\u001b[0m\u001b[0;34m.\u001b[0m\u001b[0mget_value\u001b[0m\u001b[0;34m(\u001b[0m\u001b[0mself\u001b[0m\u001b[0;34m,\u001b[0m \u001b[0mkey\u001b[0m\u001b[0;34m)\u001b[0m\u001b[0;34m\u001b[0m\u001b[0m\n\u001b[0m\u001b[1;32m    624\u001b[0m \u001b[0;34m\u001b[0m\u001b[0m\n\u001b[1;32m    625\u001b[0m             \u001b[0;32mif\u001b[0m \u001b[0;32mnot\u001b[0m \u001b[0mis_scalar\u001b[0m\u001b[0;34m(\u001b[0m\u001b[0mresult\u001b[0m\u001b[0;34m)\u001b[0m\u001b[0;34m:\u001b[0m\u001b[0;34m\u001b[0m\u001b[0m\n",
      "\u001b[0;32m/anaconda/envs/py35/lib/python3.5/site-packages/pandas/core/indexes/base.py\u001b[0m in \u001b[0;36mget_value\u001b[0;34m(self, series, key)\u001b[0m\n\u001b[1;32m   2558\u001b[0m         \u001b[0;32mtry\u001b[0m\u001b[0;34m:\u001b[0m\u001b[0;34m\u001b[0m\u001b[0m\n\u001b[1;32m   2559\u001b[0m             return self._engine.get_value(s, k,\n\u001b[0;32m-> 2560\u001b[0;31m                                           tz=getattr(series.dtype, 'tz', None))\n\u001b[0m\u001b[1;32m   2561\u001b[0m         \u001b[0;32mexcept\u001b[0m \u001b[0mKeyError\u001b[0m \u001b[0;32mas\u001b[0m \u001b[0me1\u001b[0m\u001b[0;34m:\u001b[0m\u001b[0;34m\u001b[0m\u001b[0m\n\u001b[1;32m   2562\u001b[0m             \u001b[0;32mif\u001b[0m \u001b[0mlen\u001b[0m\u001b[0;34m(\u001b[0m\u001b[0mself\u001b[0m\u001b[0;34m)\u001b[0m \u001b[0;34m>\u001b[0m \u001b[0;36m0\u001b[0m \u001b[0;32mand\u001b[0m \u001b[0mself\u001b[0m\u001b[0;34m.\u001b[0m\u001b[0minferred_type\u001b[0m \u001b[0;32min\u001b[0m \u001b[0;34m[\u001b[0m\u001b[0;34m'integer'\u001b[0m\u001b[0;34m,\u001b[0m \u001b[0;34m'boolean'\u001b[0m\u001b[0;34m]\u001b[0m\u001b[0;34m:\u001b[0m\u001b[0;34m\u001b[0m\u001b[0m\n",
      "\u001b[0;32mpandas/_libs/index.pyx\u001b[0m in \u001b[0;36mpandas._libs.index.IndexEngine.get_value\u001b[0;34m()\u001b[0m\n",
      "\u001b[0;32mpandas/_libs/index.pyx\u001b[0m in \u001b[0;36mpandas._libs.index.IndexEngine.get_value\u001b[0;34m()\u001b[0m\n",
      "\u001b[0;32mpandas/_libs/index.pyx\u001b[0m in \u001b[0;36mpandas._libs.index.IndexEngine.get_loc\u001b[0;34m()\u001b[0m\n",
      "\u001b[0;31mKeyError\u001b[0m: ('Signal direction', 'occurred at index entryType')"
     ]
    }
   ],
   "source": [
    "df.apply(lambda row: len(row['Signal direction']) > 20)"
   ]
  },
  {
   "cell_type": "code",
   "execution_count": 80,
   "metadata": {},
   "outputs": [
    {
     "ename": "KeyError",
     "evalue": "'the label [True] is not in the [index]'",
     "output_type": "error",
     "traceback": [
      "\u001b[0;31m---------------------------------------------------------------------------\u001b[0m",
      "\u001b[0;31mKeyError\u001b[0m                                  Traceback (most recent call last)",
      "\u001b[0;32m/anaconda/envs/py35/lib/python3.5/site-packages/pandas/core/indexing.py\u001b[0m in \u001b[0;36m_has_valid_type\u001b[0;34m(self, key, axis)\u001b[0m\n\u001b[1;32m   1505\u001b[0m                 \u001b[0;32mif\u001b[0m \u001b[0;32mnot\u001b[0m \u001b[0max\u001b[0m\u001b[0;34m.\u001b[0m\u001b[0mcontains\u001b[0m\u001b[0;34m(\u001b[0m\u001b[0mkey\u001b[0m\u001b[0;34m)\u001b[0m\u001b[0;34m:\u001b[0m\u001b[0;34m\u001b[0m\u001b[0m\n\u001b[0;32m-> 1506\u001b[0;31m                     \u001b[0merror\u001b[0m\u001b[0;34m(\u001b[0m\u001b[0;34m)\u001b[0m\u001b[0;34m\u001b[0m\u001b[0m\n\u001b[0m\u001b[1;32m   1507\u001b[0m             \u001b[0;32mexcept\u001b[0m \u001b[0mTypeError\u001b[0m \u001b[0;32mas\u001b[0m \u001b[0me\u001b[0m\u001b[0;34m:\u001b[0m\u001b[0;34m\u001b[0m\u001b[0m\n",
      "\u001b[0;32m/anaconda/envs/py35/lib/python3.5/site-packages/pandas/core/indexing.py\u001b[0m in \u001b[0;36merror\u001b[0;34m()\u001b[0m\n\u001b[1;32m   1500\u001b[0m                                .format(key=key,\n\u001b[0;32m-> 1501\u001b[0;31m                                        axis=self.obj._get_axis_name(axis)))\n\u001b[0m\u001b[1;32m   1502\u001b[0m \u001b[0;34m\u001b[0m\u001b[0m\n",
      "\u001b[0;31mKeyError\u001b[0m: 'the label [True] is not in the [index]'",
      "\nDuring handling of the above exception, another exception occurred:\n",
      "\u001b[0;31mKeyError\u001b[0m                                  Traceback (most recent call last)",
      "\u001b[0;32m<ipython-input-80-4c7c763dac73>\u001b[0m in \u001b[0;36m<module>\u001b[0;34m()\u001b[0m\n\u001b[1;32m      7\u001b[0m     \u001b[0;32mreturn\u001b[0m \u001b[0mheat_temp\u001b[0m\u001b[0;34m,\u001b[0m \u001b[0mcool_temp\u001b[0m\u001b[0;34m,\u001b[0m \u001b[0mauto_temp\u001b[0m\u001b[0;34m\u001b[0m\u001b[0m\n\u001b[1;32m      8\u001b[0m \u001b[0;34m\u001b[0m\u001b[0m\n\u001b[0;32m----> 9\u001b[0;31m \u001b[0mdf\u001b[0m\u001b[0;34m[\u001b[0m\u001b[0;34m'HeatSetpoint'\u001b[0m\u001b[0;34m]\u001b[0m\u001b[0;34m,\u001b[0m \u001b[0mdf\u001b[0m\u001b[0;34m[\u001b[0m\u001b[0;34m'CoolSetpoint'\u001b[0m\u001b[0;34m]\u001b[0m\u001b[0;34m,\u001b[0m \u001b[0mdf\u001b[0m\u001b[0;34m[\u001b[0m\u001b[0;34m'AutoSetpoint'\u001b[0m\u001b[0;34m]\u001b[0m \u001b[0;34m=\u001b[0m \u001b[0mdf\u001b[0m\u001b[0;34m.\u001b[0m\u001b[0mloc\u001b[0m\u001b[0;34m[\u001b[0m\u001b[0mlen\u001b[0m\u001b[0;34m(\u001b[0m\u001b[0mdf\u001b[0m\u001b[0;34m[\u001b[0m\u001b[0;34m'Signal direction'\u001b[0m\u001b[0;34m]\u001b[0m\u001b[0;34m)\u001b[0m \u001b[0;34m>\u001b[0m \u001b[0;36m20\u001b[0m\u001b[0;34m]\u001b[0m\u001b[0;34m.\u001b[0m\u001b[0mapply\u001b[0m\u001b[0;34m(\u001b[0m\u001b[0mparse_setpoints\u001b[0m\u001b[0;34m)\u001b[0m\u001b[0;34m\u001b[0m\u001b[0m\n\u001b[0m",
      "\u001b[0;32m/anaconda/envs/py35/lib/python3.5/site-packages/pandas/core/indexing.py\u001b[0m in \u001b[0;36m__getitem__\u001b[0;34m(self, key)\u001b[0m\n\u001b[1;32m   1371\u001b[0m \u001b[0;34m\u001b[0m\u001b[0m\n\u001b[1;32m   1372\u001b[0m             \u001b[0mmaybe_callable\u001b[0m \u001b[0;34m=\u001b[0m \u001b[0mcom\u001b[0m\u001b[0;34m.\u001b[0m\u001b[0m_apply_if_callable\u001b[0m\u001b[0;34m(\u001b[0m\u001b[0mkey\u001b[0m\u001b[0;34m,\u001b[0m \u001b[0mself\u001b[0m\u001b[0;34m.\u001b[0m\u001b[0mobj\u001b[0m\u001b[0;34m)\u001b[0m\u001b[0;34m\u001b[0m\u001b[0m\n\u001b[0;32m-> 1373\u001b[0;31m             \u001b[0;32mreturn\u001b[0m \u001b[0mself\u001b[0m\u001b[0;34m.\u001b[0m\u001b[0m_getitem_axis\u001b[0m\u001b[0;34m(\u001b[0m\u001b[0mmaybe_callable\u001b[0m\u001b[0;34m,\u001b[0m \u001b[0maxis\u001b[0m\u001b[0;34m=\u001b[0m\u001b[0maxis\u001b[0m\u001b[0;34m)\u001b[0m\u001b[0;34m\u001b[0m\u001b[0m\n\u001b[0m\u001b[1;32m   1374\u001b[0m \u001b[0;34m\u001b[0m\u001b[0m\n\u001b[1;32m   1375\u001b[0m     \u001b[0;32mdef\u001b[0m \u001b[0m_is_scalar_access\u001b[0m\u001b[0;34m(\u001b[0m\u001b[0mself\u001b[0m\u001b[0;34m,\u001b[0m \u001b[0mkey\u001b[0m\u001b[0;34m)\u001b[0m\u001b[0;34m:\u001b[0m\u001b[0;34m\u001b[0m\u001b[0m\n",
      "\u001b[0;32m/anaconda/envs/py35/lib/python3.5/site-packages/pandas/core/indexing.py\u001b[0m in \u001b[0;36m_getitem_axis\u001b[0;34m(self, key, axis)\u001b[0m\n\u001b[1;32m   1624\u001b[0m \u001b[0;34m\u001b[0m\u001b[0m\n\u001b[1;32m   1625\u001b[0m         \u001b[0;31m# fall thru to straight lookup\u001b[0m\u001b[0;34m\u001b[0m\u001b[0;34m\u001b[0m\u001b[0m\n\u001b[0;32m-> 1626\u001b[0;31m         \u001b[0mself\u001b[0m\u001b[0;34m.\u001b[0m\u001b[0m_has_valid_type\u001b[0m\u001b[0;34m(\u001b[0m\u001b[0mkey\u001b[0m\u001b[0;34m,\u001b[0m \u001b[0maxis\u001b[0m\u001b[0;34m)\u001b[0m\u001b[0;34m\u001b[0m\u001b[0m\n\u001b[0m\u001b[1;32m   1627\u001b[0m         \u001b[0;32mreturn\u001b[0m \u001b[0mself\u001b[0m\u001b[0;34m.\u001b[0m\u001b[0m_get_label\u001b[0m\u001b[0;34m(\u001b[0m\u001b[0mkey\u001b[0m\u001b[0;34m,\u001b[0m \u001b[0maxis\u001b[0m\u001b[0;34m=\u001b[0m\u001b[0maxis\u001b[0m\u001b[0;34m)\u001b[0m\u001b[0;34m\u001b[0m\u001b[0m\n\u001b[1;32m   1628\u001b[0m \u001b[0;34m\u001b[0m\u001b[0m\n",
      "\u001b[0;32m/anaconda/envs/py35/lib/python3.5/site-packages/pandas/core/indexing.py\u001b[0m in \u001b[0;36m_has_valid_type\u001b[0;34m(self, key, axis)\u001b[0m\n\u001b[1;32m   1512\u001b[0m                 \u001b[0;32mraise\u001b[0m\u001b[0;34m\u001b[0m\u001b[0m\n\u001b[1;32m   1513\u001b[0m             \u001b[0;32mexcept\u001b[0m\u001b[0;34m:\u001b[0m\u001b[0;34m\u001b[0m\u001b[0m\n\u001b[0;32m-> 1514\u001b[0;31m                 \u001b[0merror\u001b[0m\u001b[0;34m(\u001b[0m\u001b[0;34m)\u001b[0m\u001b[0;34m\u001b[0m\u001b[0m\n\u001b[0m\u001b[1;32m   1515\u001b[0m \u001b[0;34m\u001b[0m\u001b[0m\n\u001b[1;32m   1516\u001b[0m         \u001b[0;32mreturn\u001b[0m \u001b[0;32mTrue\u001b[0m\u001b[0;34m\u001b[0m\u001b[0m\n",
      "\u001b[0;32m/anaconda/envs/py35/lib/python3.5/site-packages/pandas/core/indexing.py\u001b[0m in \u001b[0;36merror\u001b[0;34m()\u001b[0m\n\u001b[1;32m   1499\u001b[0m                 raise KeyError(u\"the label [{key}] is not in the [{axis}]\"\n\u001b[1;32m   1500\u001b[0m                                .format(key=key,\n\u001b[0;32m-> 1501\u001b[0;31m                                        axis=self.obj._get_axis_name(axis)))\n\u001b[0m\u001b[1;32m   1502\u001b[0m \u001b[0;34m\u001b[0m\u001b[0m\n\u001b[1;32m   1503\u001b[0m             \u001b[0;32mtry\u001b[0m\u001b[0;34m:\u001b[0m\u001b[0;34m\u001b[0m\u001b[0m\n",
      "\u001b[0;31mKeyError\u001b[0m: 'the label [True] is not in the [index]'"
     ]
    }
   ],
   "source": [
    "def parse_setpoints(row):\n",
    "    heat_cool_auto = row['Signal direction'].split(',')\n",
    "    for val in heat_cool_auto:\n",
    "        heat_temp = [int(s) for s in val[0].split() if s.isdigit()]\n",
    "        cool_temp = [int(s) for s in val[1].split() if s.isdigit()]\n",
    "        auto_temp = [int(s) for s in val[2].split() if s.isdigit()]\n",
    "    return heat_temp, cool_temp, auto_temp\n",
    "\n",
    "df['HeatSetpoint'], df['CoolSetpoint'], df['AutoSetpoint'] = df.loc[len(df['Signal direction']) > 20].apply(parse_setpoints)"
   ]
  },
  {
   "cell_type": "markdown",
   "metadata": {
    "collapsed": true
   },
   "source": [
    "### Encode Columns\n",
    "\n",
    "Convert Categorical to Numerical Data. "
   ]
  },
  {
   "cell_type": "code",
   "execution_count": 23,
   "metadata": {},
   "outputs": [],
   "source": [
    "from sklearn import preprocessing\n",
    "columns_to_update = [\"entryType\", \"entrySubType\", \"device_id_name\", \"eventType\", \"Signal Name\", \"Signal Value string\", \"Signal direction\", \"room_name_merged\", \"message_merged\"]\n",
    "\n",
    "def encode_columns(data_frame, column_names):\n",
    "    label_encoders = {}\n",
    "    for col in column_names:\n",
    "        values = data_frame[col].unique()\n",
    "        le = preprocessing.LabelEncoder()\n",
    "        le.fit(values)\n",
    "        label_encoders[col] = le\n",
    "        numerical_values = le.transform(data_frame[col])\n",
    "        data_frame[col] = numerical_values\n",
    "    return data_frame, label_encoders\n",
    "\n",
    "categorical_df = df.copy()\n",
    "categorical_df, label_encoders = encode_columns(categorical_df, columns_to_update)"
   ]
  },
  {
   "cell_type": "code",
   "execution_count": null,
   "metadata": {},
   "outputs": [],
   "source": []
  }
 ],
 "metadata": {
  "kernelspec": {
   "display_name": "Python 3",
   "language": "python",
   "name": "python3"
  },
  "language_info": {
   "codemirror_mode": {
    "name": "ipython",
    "version": 3
   },
   "file_extension": ".py",
   "mimetype": "text/x-python",
   "name": "python",
   "nbconvert_exporter": "python",
   "pygments_lexer": "ipython3",
   "version": "3.5.4"
  }
 },
 "nbformat": 4,
 "nbformat_minor": 2
}
