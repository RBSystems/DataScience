{
 "cells": [
  {
   "cell_type": "code",
   "execution_count": null,
   "metadata": {},
   "outputs": [],
   "source": [
    "import os \n",
    "import pandas as pd\n",
    "import numpy as np\n",
    "import h5py\n",
    "import json\n",
    "from numpy import nan\n",
    "from datetime import datetime, timedelta, date\n",
    "from fractions import Fraction\n",
    "from time import mktime\n",
    "import time\n",
    "import requests\n",
    "import os.path\n",
    "import matplotlib.pyplot as plt\n",
    "\n",
    "pd.set_option('display.max_columns', 500)"
   ]
  },
  {
   "cell_type": "code",
   "execution_count": 62,
   "metadata": {},
   "outputs": [],
   "source": [
    "import seaborn as sns"
   ]
  },
  {
   "cell_type": "code",
   "execution_count": 11,
   "metadata": {},
   "outputs": [],
   "source": [
    "def load_from_checkpoint(checkpoint_name):\n",
    "    if os.path.isfile(checkpoint_name):\n",
    "        return pd.read_hdf(checkpoint_name,'table')"
   ]
  },
  {
   "cell_type": "code",
   "execution_count": 117,
   "metadata": {},
   "outputs": [],
   "source": [
    "original_df = load_from_checkpoint('./checkpoints/data_3.h5')  "
   ]
  },
  {
   "cell_type": "code",
   "execution_count": 194,
   "metadata": {},
   "outputs": [],
   "source": [
    "binary_df = load_from_checkpoint('./checkpoints/data_binary_encoded.h5')  "
   ]
  },
  {
   "cell_type": "code",
   "execution_count": 195,
   "metadata": {},
   "outputs": [
    {
     "data": {
      "text/plain": [
       "Index(['device_id_name', 'week', 'day', 'month', 'hour', 'minute', 'second',\n",
       "       'sun', 'outside_temperature', 'event_Active Fan LevelHigh',\n",
       "       'event_Active Fan LevelOff', 'event_Auto ModeDisabled',\n",
       "       'event_Auto ModeEnabled', 'event_Cool Stage 1Active',\n",
       "       'event_Cool Stage 1Inactive', 'event_DoorLockLock',\n",
       "       'event_DoorLockUnlock', 'event_FanAuto', 'event_FanOn',\n",
       "       'event_Floor WarmingHeat:False', 'event_Floor WarmingOff:False',\n",
       "       'event_Floor WarmingOff:True', 'event_GraceOccupancyDetected',\n",
       "       'event_Heat Stage 1Active', 'event_Heat Stage 1Inactive',\n",
       "       'event_HoldOff', 'event_HoldOn', 'event_Humidifier OffActive',\n",
       "       'event_Humidifier OffInactive', 'event_OccupancyDetected',\n",
       "       'event_VacancyDetected'],\n",
       "      dtype='object')"
      ]
     },
     "execution_count": 195,
     "metadata": {},
     "output_type": "execute_result"
    }
   ],
   "source": [
    "binary_df.columns"
   ]
  },
  {
   "cell_type": "code",
   "execution_count": 202,
   "metadata": {
    "collapsed": true
   },
   "outputs": [
    {
     "data": {
      "text/plain": [
       "day                              int64\n",
       "event_Active Fan LevelHigh       int64\n",
       "event_Active Fan LevelOff        int64\n",
       "event_Auto ModeDisabled          int64\n",
       "event_Auto ModeEnabled           int64\n",
       "event_Cool Stage 1Active         int64\n",
       "event_Cool Stage 1Inactive       int64\n",
       "event_DoorLockLock               int64\n",
       "event_DoorLockUnlock             int64\n",
       "event_FanAuto                    int64\n",
       "event_FanOn                      int64\n",
       "event_Floor WarmingHeat:False    int64\n",
       "event_Floor WarmingOff:False     int64\n",
       "event_Floor WarmingOff:True      int64\n",
       "event_GraceOccupancyDetected     int64\n",
       "event_Heat Stage 1Active         int64\n",
       "event_Heat Stage 1Inactive       int64\n",
       "event_HoldOff                    int64\n",
       "event_HoldOn                     int64\n",
       "event_Humidifier OffActive       int64\n",
       "event_Humidifier OffInactive     int64\n",
       "event_OccupancyDetected          int64\n",
       "event_VacancyDetected            int64\n",
       "hour                             int64\n",
       "minute                           int64\n",
       "month                            int64\n",
       "outside_temperature              int64\n",
       "second                           int64\n",
       "sun                              int64\n",
       "week                             int64\n",
       "dtype: object"
      ]
     },
     "execution_count": 202,
     "metadata": {},
     "output_type": "execute_result"
    }
   ],
   "source": [
    "binary_df.dtypes"
   ]
  },
  {
   "cell_type": "code",
   "execution_count": 203,
   "metadata": {},
   "outputs": [
    {
     "data": {
      "text/html": [
       "<div>\n",
       "<style scoped>\n",
       "    .dataframe tbody tr th:only-of-type {\n",
       "        vertical-align: middle;\n",
       "    }\n",
       "\n",
       "    .dataframe tbody tr th {\n",
       "        vertical-align: top;\n",
       "    }\n",
       "\n",
       "    .dataframe thead th {\n",
       "        text-align: right;\n",
       "    }\n",
       "</style>\n",
       "<table border=\"1\" class=\"dataframe\">\n",
       "  <thead>\n",
       "    <tr style=\"text-align: right;\">\n",
       "      <th></th>\n",
       "      <th>day</th>\n",
       "      <th>event_Active Fan LevelHigh</th>\n",
       "      <th>event_Active Fan LevelOff</th>\n",
       "      <th>event_Auto ModeDisabled</th>\n",
       "      <th>event_Auto ModeEnabled</th>\n",
       "      <th>event_Cool Stage 1Active</th>\n",
       "      <th>event_Cool Stage 1Inactive</th>\n",
       "      <th>event_DoorLockLock</th>\n",
       "      <th>event_DoorLockUnlock</th>\n",
       "      <th>event_FanAuto</th>\n",
       "      <th>event_FanOn</th>\n",
       "      <th>event_Floor WarmingHeat:False</th>\n",
       "      <th>event_Floor WarmingOff:False</th>\n",
       "      <th>event_Floor WarmingOff:True</th>\n",
       "      <th>event_GraceOccupancyDetected</th>\n",
       "      <th>event_Heat Stage 1Active</th>\n",
       "      <th>event_Heat Stage 1Inactive</th>\n",
       "      <th>event_HoldOff</th>\n",
       "      <th>event_HoldOn</th>\n",
       "      <th>event_Humidifier OffActive</th>\n",
       "      <th>event_Humidifier OffInactive</th>\n",
       "      <th>event_OccupancyDetected</th>\n",
       "      <th>event_VacancyDetected</th>\n",
       "      <th>hour</th>\n",
       "      <th>minute</th>\n",
       "      <th>month</th>\n",
       "      <th>outside_temperature</th>\n",
       "      <th>second</th>\n",
       "      <th>sun</th>\n",
       "      <th>week</th>\n",
       "    </tr>\n",
       "  </thead>\n",
       "  <tbody>\n",
       "    <tr>\n",
       "      <th>1</th>\n",
       "      <td>11</td>\n",
       "      <td>0</td>\n",
       "      <td>0</td>\n",
       "      <td>0</td>\n",
       "      <td>0</td>\n",
       "      <td>0</td>\n",
       "      <td>0</td>\n",
       "      <td>0</td>\n",
       "      <td>0</td>\n",
       "      <td>0</td>\n",
       "      <td>0</td>\n",
       "      <td>0</td>\n",
       "      <td>0</td>\n",
       "      <td>0</td>\n",
       "      <td>0</td>\n",
       "      <td>0</td>\n",
       "      <td>0</td>\n",
       "      <td>0</td>\n",
       "      <td>0</td>\n",
       "      <td>0</td>\n",
       "      <td>0</td>\n",
       "      <td>0</td>\n",
       "      <td>0</td>\n",
       "      <td>8</td>\n",
       "      <td>0</td>\n",
       "      <td>8</td>\n",
       "      <td>68</td>\n",
       "      <td>5</td>\n",
       "      <td>1</td>\n",
       "      <td>32</td>\n",
       "    </tr>\n",
       "    <tr>\n",
       "      <th>3</th>\n",
       "      <td>11</td>\n",
       "      <td>0</td>\n",
       "      <td>0</td>\n",
       "      <td>0</td>\n",
       "      <td>0</td>\n",
       "      <td>0</td>\n",
       "      <td>0</td>\n",
       "      <td>1</td>\n",
       "      <td>0</td>\n",
       "      <td>0</td>\n",
       "      <td>0</td>\n",
       "      <td>0</td>\n",
       "      <td>0</td>\n",
       "      <td>0</td>\n",
       "      <td>0</td>\n",
       "      <td>0</td>\n",
       "      <td>0</td>\n",
       "      <td>0</td>\n",
       "      <td>0</td>\n",
       "      <td>0</td>\n",
       "      <td>0</td>\n",
       "      <td>0</td>\n",
       "      <td>0</td>\n",
       "      <td>8</td>\n",
       "      <td>0</td>\n",
       "      <td>8</td>\n",
       "      <td>68</td>\n",
       "      <td>5</td>\n",
       "      <td>1</td>\n",
       "      <td>32</td>\n",
       "    </tr>\n",
       "    <tr>\n",
       "      <th>4</th>\n",
       "      <td>11</td>\n",
       "      <td>0</td>\n",
       "      <td>0</td>\n",
       "      <td>0</td>\n",
       "      <td>0</td>\n",
       "      <td>0</td>\n",
       "      <td>0</td>\n",
       "      <td>0</td>\n",
       "      <td>0</td>\n",
       "      <td>0</td>\n",
       "      <td>0</td>\n",
       "      <td>0</td>\n",
       "      <td>0</td>\n",
       "      <td>0</td>\n",
       "      <td>0</td>\n",
       "      <td>0</td>\n",
       "      <td>0</td>\n",
       "      <td>0</td>\n",
       "      <td>0</td>\n",
       "      <td>0</td>\n",
       "      <td>0</td>\n",
       "      <td>0</td>\n",
       "      <td>0</td>\n",
       "      <td>8</td>\n",
       "      <td>0</td>\n",
       "      <td>8</td>\n",
       "      <td>68</td>\n",
       "      <td>5</td>\n",
       "      <td>1</td>\n",
       "      <td>32</td>\n",
       "    </tr>\n",
       "    <tr>\n",
       "      <th>13</th>\n",
       "      <td>11</td>\n",
       "      <td>0</td>\n",
       "      <td>0</td>\n",
       "      <td>0</td>\n",
       "      <td>0</td>\n",
       "      <td>0</td>\n",
       "      <td>0</td>\n",
       "      <td>0</td>\n",
       "      <td>0</td>\n",
       "      <td>0</td>\n",
       "      <td>0</td>\n",
       "      <td>0</td>\n",
       "      <td>0</td>\n",
       "      <td>0</td>\n",
       "      <td>0</td>\n",
       "      <td>0</td>\n",
       "      <td>0</td>\n",
       "      <td>0</td>\n",
       "      <td>0</td>\n",
       "      <td>0</td>\n",
       "      <td>0</td>\n",
       "      <td>0</td>\n",
       "      <td>0</td>\n",
       "      <td>8</td>\n",
       "      <td>0</td>\n",
       "      <td>8</td>\n",
       "      <td>68</td>\n",
       "      <td>5</td>\n",
       "      <td>1</td>\n",
       "      <td>32</td>\n",
       "    </tr>\n",
       "    <tr>\n",
       "      <th>14</th>\n",
       "      <td>11</td>\n",
       "      <td>0</td>\n",
       "      <td>0</td>\n",
       "      <td>0</td>\n",
       "      <td>0</td>\n",
       "      <td>0</td>\n",
       "      <td>0</td>\n",
       "      <td>0</td>\n",
       "      <td>0</td>\n",
       "      <td>0</td>\n",
       "      <td>0</td>\n",
       "      <td>0</td>\n",
       "      <td>0</td>\n",
       "      <td>0</td>\n",
       "      <td>0</td>\n",
       "      <td>0</td>\n",
       "      <td>0</td>\n",
       "      <td>0</td>\n",
       "      <td>0</td>\n",
       "      <td>0</td>\n",
       "      <td>0</td>\n",
       "      <td>0</td>\n",
       "      <td>0</td>\n",
       "      <td>8</td>\n",
       "      <td>0</td>\n",
       "      <td>8</td>\n",
       "      <td>68</td>\n",
       "      <td>7</td>\n",
       "      <td>1</td>\n",
       "      <td>32</td>\n",
       "    </tr>\n",
       "  </tbody>\n",
       "</table>\n",
       "</div>"
      ],
      "text/plain": [
       "    day  event_Active Fan LevelHigh  event_Active Fan LevelOff  \\\n",
       "1    11                           0                          0   \n",
       "3    11                           0                          0   \n",
       "4    11                           0                          0   \n",
       "13   11                           0                          0   \n",
       "14   11                           0                          0   \n",
       "\n",
       "    event_Auto ModeDisabled  event_Auto ModeEnabled  event_Cool Stage 1Active  \\\n",
       "1                         0                       0                         0   \n",
       "3                         0                       0                         0   \n",
       "4                         0                       0                         0   \n",
       "13                        0                       0                         0   \n",
       "14                        0                       0                         0   \n",
       "\n",
       "    event_Cool Stage 1Inactive  event_DoorLockLock  event_DoorLockUnlock  \\\n",
       "1                            0                   0                     0   \n",
       "3                            0                   1                     0   \n",
       "4                            0                   0                     0   \n",
       "13                           0                   0                     0   \n",
       "14                           0                   0                     0   \n",
       "\n",
       "    event_FanAuto  event_FanOn  event_Floor WarmingHeat:False  \\\n",
       "1               0            0                              0   \n",
       "3               0            0                              0   \n",
       "4               0            0                              0   \n",
       "13              0            0                              0   \n",
       "14              0            0                              0   \n",
       "\n",
       "    event_Floor WarmingOff:False  event_Floor WarmingOff:True  \\\n",
       "1                              0                            0   \n",
       "3                              0                            0   \n",
       "4                              0                            0   \n",
       "13                             0                            0   \n",
       "14                             0                            0   \n",
       "\n",
       "    event_GraceOccupancyDetected  event_Heat Stage 1Active  \\\n",
       "1                              0                         0   \n",
       "3                              0                         0   \n",
       "4                              0                         0   \n",
       "13                             0                         0   \n",
       "14                             0                         0   \n",
       "\n",
       "    event_Heat Stage 1Inactive  event_HoldOff  event_HoldOn  \\\n",
       "1                            0              0             0   \n",
       "3                            0              0             0   \n",
       "4                            0              0             0   \n",
       "13                           0              0             0   \n",
       "14                           0              0             0   \n",
       "\n",
       "    event_Humidifier OffActive  event_Humidifier OffInactive  \\\n",
       "1                            0                             0   \n",
       "3                            0                             0   \n",
       "4                            0                             0   \n",
       "13                           0                             0   \n",
       "14                           0                             0   \n",
       "\n",
       "    event_OccupancyDetected  event_VacancyDetected  hour  minute  month  \\\n",
       "1                         0                      0     8       0      8   \n",
       "3                         0                      0     8       0      8   \n",
       "4                         0                      0     8       0      8   \n",
       "13                        0                      0     8       0      8   \n",
       "14                        0                      0     8       0      8   \n",
       "\n",
       "    outside_temperature  second  sun  week  \n",
       "1                    68       5    1    32  \n",
       "3                    68       5    1    32  \n",
       "4                    68       5    1    32  \n",
       "13                   68       5    1    32  \n",
       "14                   68       7    1    32  "
      ]
     },
     "execution_count": 203,
     "metadata": {},
     "output_type": "execute_result"
    }
   ],
   "source": [
    "binary_df.head()"
   ]
  },
  {
   "cell_type": "code",
   "execution_count": 204,
   "metadata": {},
   "outputs": [],
   "source": [
    "binary_df[binary_df == 0] = np.nan"
   ]
  },
  {
   "cell_type": "code",
   "execution_count": 181,
   "metadata": {},
   "outputs": [],
   "source": [
    "original_col_df = binary_df[['week', 'day', 'month', 'hour',  'minute', 'second', 'sun', 'outside_temperature']].fillna(0)"
   ]
  },
  {
   "cell_type": "code",
   "execution_count": 182,
   "metadata": {},
   "outputs": [],
   "source": [
    "binary_df = pd.concat([binary_df, original_col_df], axis=1)"
   ]
  },
  {
   "cell_type": "code",
   "execution_count": 119,
   "metadata": {},
   "outputs": [
    {
     "data": {
      "text/plain": [
       "array([nan, 'DoorLockLock', 'Cool Stage 1Inactive', 'Active Fan LevelOff',\n",
       "       'OccupancyDetected', 'VacancyDetected', 'Cool Stage 1Active',\n",
       "       'Active Fan LevelHigh', 'HoldOn', 'GraceOccupancyDetected',\n",
       "       'DoorLockUnlock', 'HoldOff', 'Heat Stage 1Active',\n",
       "       'Heat Stage 1Inactive', 'FanOn', 'FanAuto',\n",
       "       'Floor WarmingHeat:False', 'Floor WarmingOff:False',\n",
       "       'Humidifier OffInactive', 'Auto ModeEnabled', 'Auto ModeDisabled',\n",
       "       'Floor WarmingOff:True', 'Humidifier OffActive'], dtype=object)"
      ]
     },
     "execution_count": 119,
     "metadata": {},
     "output_type": "execute_result"
    }
   ],
   "source": [
    "original_df.event.unique()"
   ]
  },
  {
   "cell_type": "markdown",
   "metadata": {},
   "source": [
    "### Let's take a closer look at locking or unlocking door events"
   ]
  },
  {
   "cell_type": "code",
   "execution_count": 96,
   "metadata": {},
   "outputs": [],
   "source": [
    "other_columns = ['week', 'day', 'month', 'hour',  'minute', 'second', 'sun', 'outside_temperature']"
   ]
  },
  {
   "cell_type": "code",
   "execution_count": 97,
   "metadata": {},
   "outputs": [],
   "source": [
    "door_columns = other_columns + ['event_DoorLockLock', 'event_DoorLockUnlock']\n",
    "door_lock_df = binary_df[door_columns]"
   ]
  },
  {
   "cell_type": "code",
   "execution_count": 147,
   "metadata": {},
   "outputs": [
    {
     "data": {
      "text/plain": [
       "10"
      ]
     },
     "execution_count": 147,
     "metadata": {},
     "output_type": "execute_result"
    }
   ],
   "source": [
    "len(binary_df.month.unique())"
   ]
  },
  {
   "cell_type": "code",
   "execution_count": 146,
   "metadata": {},
   "outputs": [
    {
     "data": {
      "text/plain": [
       "313"
      ]
     },
     "execution_count": 146,
     "metadata": {},
     "output_type": "execute_result"
    }
   ],
   "source": [
    "len(binary_df.loc[binary_df.event_DoorLockLock == 1])"
   ]
  },
  {
   "cell_type": "code",
   "execution_count": 137,
   "metadata": {},
   "outputs": [],
   "source": [
    "df_lock_count = door_lock_df[['event_DoorLockLock', 'hour']].groupby(['hour'], as_index=False).sum()"
   ]
  },
  {
   "cell_type": "code",
   "execution_count": 138,
   "metadata": {},
   "outputs": [
    {
     "data": {
      "text/plain": [
       "<matplotlib.axes._subplots.AxesSubplot at 0x7fc359a43208>"
      ]
     },
     "execution_count": 138,
     "metadata": {},
     "output_type": "execute_result"
    },
    {
     "data": {
      "image/png": "[encoded data removed]",
      "text/plain": [
       "<matplotlib.figure.Figure at 0x7fc359aac5f8>"
      ]
     },
     "metadata": {},
     "output_type": "display_data"
    }
   ],
   "source": [
    "df_lock_count.plot()"
   ]
  },
  {
   "cell_type": "code",
   "execution_count": 126,
   "metadata": {},
   "outputs": [],
   "source": [
    "df_unlock_count = door_lock_df[['event_DoorLockUnlock', 'hour']].groupby(['hour'], as_index=False).sum()"
   ]
  },
  {
   "cell_type": "code",
   "execution_count": 148,
   "metadata": {},
   "outputs": [
    {
     "data": {
      "text/plain": [
       "24"
      ]
     },
     "execution_count": 148,
     "metadata": {},
     "output_type": "execute_result"
    }
   ],
   "source": [
    "len(binary_df.loc[binary_df.event_DoorLockUnlock == 1])"
   ]
  },
  {
   "cell_type": "code",
   "execution_count": 149,
   "metadata": {},
   "outputs": [
    {
     "data": {
      "text/plain": [
       "<matplotlib.axes._subplots.AxesSubplot at 0x7fc3598a2828>"
      ]
     },
     "execution_count": 149,
     "metadata": {},
     "output_type": "execute_result"
    },
    {
     "data": {
      "image/png": "[encoded data removed]",
      "text/plain": [
       "<matplotlib.figure.Figure at 0x7fc3598a4358>"
      ]
     },
     "metadata": {},
     "output_type": "display_data"
    }
   ],
   "source": [
    "df_unlock_count.plot()"
   ]
  },
  {
   "cell_type": "markdown",
   "metadata": {},
   "source": [
    "### Binary distribution over events"
   ]
  },
  {
   "cell_type": "code",
   "execution_count": 162,
   "metadata": {},
   "outputs": [
    {
     "data": {
      "text/plain": [
       "849291"
      ]
     },
     "execution_count": 162,
     "metadata": {},
     "output_type": "execute_result"
    }
   ],
   "source": [
    "len(door_lock_df['event_DoorLockLock'])"
   ]
  },
  {
   "cell_type": "code",
   "execution_count": 163,
   "metadata": {},
   "outputs": [
    {
     "data": {
      "text/plain": [
       "313"
      ]
     },
     "execution_count": 163,
     "metadata": {},
     "output_type": "execute_result"
    }
   ],
   "source": [
    "door_lock_df['event_DoorLockLock'].sum()"
   ]
  },
  {
   "cell_type": "code",
   "execution_count": null,
   "metadata": {},
   "outputs": [],
   "source": []
  }
 ],
 "metadata": {
  "kernelspec": {
   "display_name": "Python 3",
   "language": "python",
   "name": "python3"
  },
  "language_info": {
   "codemirror_mode": {
    "name": "ipython",
    "version": 3
   },
   "file_extension": ".py",
   "mimetype": "text/x-python",
   "name": "python",
   "nbconvert_exporter": "python",
   "pygments_lexer": "ipython3",
   "version": "3.5.4"
  }
 },
 "nbformat": 4,
 "nbformat_minor": 2
}
