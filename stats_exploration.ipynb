{
 "cells": [
  {
   "cell_type": "code",
   "execution_count": 3,
   "metadata": {},
   "outputs": [
    {
     "name": "stderr",
     "output_type": "stream",
     "text": [
      "/anaconda/envs/py35/lib/python3.5/site-packages/h5py/__init__.py:36: FutureWarning: Conversion of the second argument of issubdtype from `float` to `np.floating` is deprecated. In future, it will be treated as `np.float64 == np.dtype(float).type`.\n",
      "  from ._conv import register_converters as _register_converters\n"
     ]
    }
   ],
   "source": [
    "import os \n",
    "import pandas as pd\n",
    "import numpy as np\n",
    "import h5py\n",
    "import json\n",
    "from numpy import nan\n",
    "from datetime import datetime, timedelta, date\n",
    "from fractions import Fraction\n",
    "from time import mktime\n",
    "import time\n",
    "import requests\n",
    "import os.path\n",
    "import matplotlib.pyplot as plt\n",
    "\n",
    "pd.set_option('display.max_columns', 500)"
   ]
  },
  {
   "cell_type": "code",
   "execution_count": 4,
   "metadata": {},
   "outputs": [],
   "source": [
    "import seaborn as sns"
   ]
  },
  {
   "cell_type": "code",
   "execution_count": 2,
   "metadata": {},
   "outputs": [],
   "source": [
    "def load_from_checkpoint(checkpoint_name):\n",
    "    if os.path.isfile(checkpoint_name):\n",
    "        return pd.read_hdf(checkpoint_name,'table')"
   ]
  },
  {
   "cell_type": "code",
   "execution_count": 7,
   "metadata": {},
   "outputs": [],
   "source": [
    "original_df = load_from_checkpoint('./checkpoints/data_3.h5')  "
   ]
  },
  {
   "cell_type": "code",
   "execution_count": 8,
   "metadata": {},
   "outputs": [],
   "source": [
    "binary_df = load_from_checkpoint('./checkpoints/data_binary_encoded.h5')  "
   ]
  },
  {
   "cell_type": "code",
   "execution_count": 61,
   "metadata": {},
   "outputs": [],
   "source": [
    "regression_df = load_from_checkpoint('./checkpoints/regression_data_encoded.h5') "
   ]
  },
  {
   "cell_type": "code",
   "execution_count": 46,
   "metadata": {},
   "outputs": [],
   "source": [
    "categorical_df = load_from_checkpoint('./checkpoints/data_categorical.h5')  "
   ]
  },
  {
   "cell_type": "code",
   "execution_count": 195,
   "metadata": {},
   "outputs": [
    {
     "data": {
      "text/plain": [
       "Index(['device_id_name', 'week', 'day', 'month', 'hour', 'minute', 'second',\n",
       "       'sun', 'outside_temperature', 'event_Active Fan LevelHigh',\n",
       "       'event_Active Fan LevelOff', 'event_Auto ModeDisabled',\n",
       "       'event_Auto ModeEnabled', 'event_Cool Stage 1Active',\n",
       "       'event_Cool Stage 1Inactive', 'event_DoorLockLock',\n",
       "       'event_DoorLockUnlock', 'event_FanAuto', 'event_FanOn',\n",
       "       'event_Floor WarmingHeat:False', 'event_Floor WarmingOff:False',\n",
       "       'event_Floor WarmingOff:True', 'event_GraceOccupancyDetected',\n",
       "       'event_Heat Stage 1Active', 'event_Heat Stage 1Inactive',\n",
       "       'event_HoldOff', 'event_HoldOn', 'event_Humidifier OffActive',\n",
       "       'event_Humidifier OffInactive', 'event_OccupancyDetected',\n",
       "       'event_VacancyDetected'],\n",
       "      dtype='object')"
      ]
     },
     "execution_count": 195,
     "metadata": {},
     "output_type": "execute_result"
    }
   ],
   "source": [
    "binary_df.columns"
   ]
  },
  {
   "cell_type": "code",
   "execution_count": 202,
   "metadata": {
    "collapsed": true
   },
   "outputs": [
    {
     "data": {
      "text/plain": [
       "day                              int64\n",
       "event_Active Fan LevelHigh       int64\n",
       "event_Active Fan LevelOff        int64\n",
       "event_Auto ModeDisabled          int64\n",
       "event_Auto ModeEnabled           int64\n",
       "event_Cool Stage 1Active         int64\n",
       "event_Cool Stage 1Inactive       int64\n",
       "event_DoorLockLock               int64\n",
       "event_DoorLockUnlock             int64\n",
       "event_FanAuto                    int64\n",
       "event_FanOn                      int64\n",
       "event_Floor WarmingHeat:False    int64\n",
       "event_Floor WarmingOff:False     int64\n",
       "event_Floor WarmingOff:True      int64\n",
       "event_GraceOccupancyDetected     int64\n",
       "event_Heat Stage 1Active         int64\n",
       "event_Heat Stage 1Inactive       int64\n",
       "event_HoldOff                    int64\n",
       "event_HoldOn                     int64\n",
       "event_Humidifier OffActive       int64\n",
       "event_Humidifier OffInactive     int64\n",
       "event_OccupancyDetected          int64\n",
       "event_VacancyDetected            int64\n",
       "hour                             int64\n",
       "minute                           int64\n",
       "month                            int64\n",
       "outside_temperature              int64\n",
       "second                           int64\n",
       "sun                              int64\n",
       "week                             int64\n",
       "dtype: object"
      ]
     },
     "execution_count": 202,
     "metadata": {},
     "output_type": "execute_result"
    }
   ],
   "source": [
    "binary_df.dtypes"
   ]
  },
  {
   "cell_type": "code",
   "execution_count": 203,
   "metadata": {},
   "outputs": [
    {
     "data": {
      "text/html": [
       "<div>\n",
       "<style scoped>\n",
       "    .dataframe tbody tr th:only-of-type {\n",
       "        vertical-align: middle;\n",
       "    }\n",
       "\n",
       "    .dataframe tbody tr th {\n",
       "        vertical-align: top;\n",
       "    }\n",
       "\n",
       "    .dataframe thead th {\n",
       "        text-align: right;\n",
       "    }\n",
       "</style>\n",
       "<table border=\"1\" class=\"dataframe\">\n",
       "  <thead>\n",
       "    <tr style=\"text-align: right;\">\n",
       "      <th></th>\n",
       "      <th>day</th>\n",
       "      <th>event_Active Fan LevelHigh</th>\n",
       "      <th>event_Active Fan LevelOff</th>\n",
       "      <th>event_Auto ModeDisabled</th>\n",
       "      <th>event_Auto ModeEnabled</th>\n",
       "      <th>event_Cool Stage 1Active</th>\n",
       "      <th>event_Cool Stage 1Inactive</th>\n",
       "      <th>event_DoorLockLock</th>\n",
       "      <th>event_DoorLockUnlock</th>\n",
       "      <th>event_FanAuto</th>\n",
       "      <th>event_FanOn</th>\n",
       "      <th>event_Floor WarmingHeat:False</th>\n",
       "      <th>event_Floor WarmingOff:False</th>\n",
       "      <th>event_Floor WarmingOff:True</th>\n",
       "      <th>event_GraceOccupancyDetected</th>\n",
       "      <th>event_Heat Stage 1Active</th>\n",
       "      <th>event_Heat Stage 1Inactive</th>\n",
       "      <th>event_HoldOff</th>\n",
       "      <th>event_HoldOn</th>\n",
       "      <th>event_Humidifier OffActive</th>\n",
       "      <th>event_Humidifier OffInactive</th>\n",
       "      <th>event_OccupancyDetected</th>\n",
       "      <th>event_VacancyDetected</th>\n",
       "      <th>hour</th>\n",
       "      <th>minute</th>\n",
       "      <th>month</th>\n",
       "      <th>outside_temperature</th>\n",
       "      <th>second</th>\n",
       "      <th>sun</th>\n",
       "      <th>week</th>\n",
       "    </tr>\n",
       "  </thead>\n",
       "  <tbody>\n",
       "    <tr>\n",
       "      <th>1</th>\n",
       "      <td>11</td>\n",
       "      <td>0</td>\n",
       "      <td>0</td>\n",
       "      <td>0</td>\n",
       "      <td>0</td>\n",
       "      <td>0</td>\n",
       "      <td>0</td>\n",
       "      <td>0</td>\n",
       "      <td>0</td>\n",
       "      <td>0</td>\n",
       "      <td>0</td>\n",
       "      <td>0</td>\n",
       "      <td>0</td>\n",
       "      <td>0</td>\n",
       "      <td>0</td>\n",
       "      <td>0</td>\n",
       "      <td>0</td>\n",
       "      <td>0</td>\n",
       "      <td>0</td>\n",
       "      <td>0</td>\n",
       "      <td>0</td>\n",
       "      <td>0</td>\n",
       "      <td>0</td>\n",
       "      <td>8</td>\n",
       "      <td>0</td>\n",
       "      <td>8</td>\n",
       "      <td>68</td>\n",
       "      <td>5</td>\n",
       "      <td>1</td>\n",
       "      <td>32</td>\n",
       "    </tr>\n",
       "    <tr>\n",
       "      <th>3</th>\n",
       "      <td>11</td>\n",
       "      <td>0</td>\n",
       "      <td>0</td>\n",
       "      <td>0</td>\n",
       "      <td>0</td>\n",
       "      <td>0</td>\n",
       "      <td>0</td>\n",
       "      <td>1</td>\n",
       "      <td>0</td>\n",
       "      <td>0</td>\n",
       "      <td>0</td>\n",
       "      <td>0</td>\n",
       "      <td>0</td>\n",
       "      <td>0</td>\n",
       "      <td>0</td>\n",
       "      <td>0</td>\n",
       "      <td>0</td>\n",
       "      <td>0</td>\n",
       "      <td>0</td>\n",
       "      <td>0</td>\n",
       "      <td>0</td>\n",
       "      <td>0</td>\n",
       "      <td>0</td>\n",
       "      <td>8</td>\n",
       "      <td>0</td>\n",
       "      <td>8</td>\n",
       "      <td>68</td>\n",
       "      <td>5</td>\n",
       "      <td>1</td>\n",
       "      <td>32</td>\n",
       "    </tr>\n",
       "    <tr>\n",
       "      <th>4</th>\n",
       "      <td>11</td>\n",
       "      <td>0</td>\n",
       "      <td>0</td>\n",
       "      <td>0</td>\n",
       "      <td>0</td>\n",
       "      <td>0</td>\n",
       "      <td>0</td>\n",
       "      <td>0</td>\n",
       "      <td>0</td>\n",
       "      <td>0</td>\n",
       "      <td>0</td>\n",
       "      <td>0</td>\n",
       "      <td>0</td>\n",
       "      <td>0</td>\n",
       "      <td>0</td>\n",
       "      <td>0</td>\n",
       "      <td>0</td>\n",
       "      <td>0</td>\n",
       "      <td>0</td>\n",
       "      <td>0</td>\n",
       "      <td>0</td>\n",
       "      <td>0</td>\n",
       "      <td>0</td>\n",
       "      <td>8</td>\n",
       "      <td>0</td>\n",
       "      <td>8</td>\n",
       "      <td>68</td>\n",
       "      <td>5</td>\n",
       "      <td>1</td>\n",
       "      <td>32</td>\n",
       "    </tr>\n",
       "    <tr>\n",
       "      <th>13</th>\n",
       "      <td>11</td>\n",
       "      <td>0</td>\n",
       "      <td>0</td>\n",
       "      <td>0</td>\n",
       "      <td>0</td>\n",
       "      <td>0</td>\n",
       "      <td>0</td>\n",
       "      <td>0</td>\n",
       "      <td>0</td>\n",
       "      <td>0</td>\n",
       "      <td>0</td>\n",
       "      <td>0</td>\n",
       "      <td>0</td>\n",
       "      <td>0</td>\n",
       "      <td>0</td>\n",
       "      <td>0</td>\n",
       "      <td>0</td>\n",
       "      <td>0</td>\n",
       "      <td>0</td>\n",
       "      <td>0</td>\n",
       "      <td>0</td>\n",
       "      <td>0</td>\n",
       "      <td>0</td>\n",
       "      <td>8</td>\n",
       "      <td>0</td>\n",
       "      <td>8</td>\n",
       "      <td>68</td>\n",
       "      <td>5</td>\n",
       "      <td>1</td>\n",
       "      <td>32</td>\n",
       "    </tr>\n",
       "    <tr>\n",
       "      <th>14</th>\n",
       "      <td>11</td>\n",
       "      <td>0</td>\n",
       "      <td>0</td>\n",
       "      <td>0</td>\n",
       "      <td>0</td>\n",
       "      <td>0</td>\n",
       "      <td>0</td>\n",
       "      <td>0</td>\n",
       "      <td>0</td>\n",
       "      <td>0</td>\n",
       "      <td>0</td>\n",
       "      <td>0</td>\n",
       "      <td>0</td>\n",
       "      <td>0</td>\n",
       "      <td>0</td>\n",
       "      <td>0</td>\n",
       "      <td>0</td>\n",
       "      <td>0</td>\n",
       "      <td>0</td>\n",
       "      <td>0</td>\n",
       "      <td>0</td>\n",
       "      <td>0</td>\n",
       "      <td>0</td>\n",
       "      <td>8</td>\n",
       "      <td>0</td>\n",
       "      <td>8</td>\n",
       "      <td>68</td>\n",
       "      <td>7</td>\n",
       "      <td>1</td>\n",
       "      <td>32</td>\n",
       "    </tr>\n",
       "  </tbody>\n",
       "</table>\n",
       "</div>"
      ],
      "text/plain": [
       "    day  event_Active Fan LevelHigh  event_Active Fan LevelOff  \\\n",
       "1    11                           0                          0   \n",
       "3    11                           0                          0   \n",
       "4    11                           0                          0   \n",
       "13   11                           0                          0   \n",
       "14   11                           0                          0   \n",
       "\n",
       "    event_Auto ModeDisabled  event_Auto ModeEnabled  event_Cool Stage 1Active  \\\n",
       "1                         0                       0                         0   \n",
       "3                         0                       0                         0   \n",
       "4                         0                       0                         0   \n",
       "13                        0                       0                         0   \n",
       "14                        0                       0                         0   \n",
       "\n",
       "    event_Cool Stage 1Inactive  event_DoorLockLock  event_DoorLockUnlock  \\\n",
       "1                            0                   0                     0   \n",
       "3                            0                   1                     0   \n",
       "4                            0                   0                     0   \n",
       "13                           0                   0                     0   \n",
       "14                           0                   0                     0   \n",
       "\n",
       "    event_FanAuto  event_FanOn  event_Floor WarmingHeat:False  \\\n",
       "1               0            0                              0   \n",
       "3               0            0                              0   \n",
       "4               0            0                              0   \n",
       "13              0            0                              0   \n",
       "14              0            0                              0   \n",
       "\n",
       "    event_Floor WarmingOff:False  event_Floor WarmingOff:True  \\\n",
       "1                              0                            0   \n",
       "3                              0                            0   \n",
       "4                              0                            0   \n",
       "13                             0                            0   \n",
       "14                             0                            0   \n",
       "\n",
       "    event_GraceOccupancyDetected  event_Heat Stage 1Active  \\\n",
       "1                              0                         0   \n",
       "3                              0                         0   \n",
       "4                              0                         0   \n",
       "13                             0                         0   \n",
       "14                             0                         0   \n",
       "\n",
       "    event_Heat Stage 1Inactive  event_HoldOff  event_HoldOn  \\\n",
       "1                            0              0             0   \n",
       "3                            0              0             0   \n",
       "4                            0              0             0   \n",
       "13                           0              0             0   \n",
       "14                           0              0             0   \n",
       "\n",
       "    event_Humidifier OffActive  event_Humidifier OffInactive  \\\n",
       "1                            0                             0   \n",
       "3                            0                             0   \n",
       "4                            0                             0   \n",
       "13                           0                             0   \n",
       "14                           0                             0   \n",
       "\n",
       "    event_OccupancyDetected  event_VacancyDetected  hour  minute  month  \\\n",
       "1                         0                      0     8       0      8   \n",
       "3                         0                      0     8       0      8   \n",
       "4                         0                      0     8       0      8   \n",
       "13                        0                      0     8       0      8   \n",
       "14                        0                      0     8       0      8   \n",
       "\n",
       "    outside_temperature  second  sun  week  \n",
       "1                    68       5    1    32  \n",
       "3                    68       5    1    32  \n",
       "4                    68       5    1    32  \n",
       "13                   68       5    1    32  \n",
       "14                   68       7    1    32  "
      ]
     },
     "execution_count": 203,
     "metadata": {},
     "output_type": "execute_result"
    }
   ],
   "source": [
    "binary_df.head()"
   ]
  },
  {
   "cell_type": "code",
   "execution_count": 204,
   "metadata": {},
   "outputs": [],
   "source": [
    "binary_df[binary_df == 0] = np.nan"
   ]
  },
  {
   "cell_type": "code",
   "execution_count": 181,
   "metadata": {},
   "outputs": [],
   "source": [
    "original_col_df = binary_df[['week', 'day', 'month', 'hour',  'minute', 'second', 'sun', 'outside_temperature']].fillna(0)"
   ]
  },
  {
   "cell_type": "code",
   "execution_count": 182,
   "metadata": {},
   "outputs": [],
   "source": [
    "binary_df = pd.concat([binary_df, original_col_df], axis=1)"
   ]
  },
  {
   "cell_type": "markdown",
   "metadata": {},
   "source": [
    "### Let's take a closer look at locking or unlocking door events"
   ]
  },
  {
   "cell_type": "code",
   "execution_count": 96,
   "metadata": {},
   "outputs": [],
   "source": [
    "other_columns = ['week', 'day', 'month', 'hour',  'minute', 'second', 'sun', 'outside_temperature']"
   ]
  },
  {
   "cell_type": "code",
   "execution_count": 97,
   "metadata": {},
   "outputs": [],
   "source": [
    "door_columns = other_columns + ['event_DoorLockLock', 'event_DoorLockUnlock']\n",
    "door_lock_df = binary_df[door_columns]"
   ]
  },
  {
   "cell_type": "code",
   "execution_count": 147,
   "metadata": {},
   "outputs": [
    {
     "data": {
      "text/plain": [
       "10"
      ]
     },
     "execution_count": 147,
     "metadata": {},
     "output_type": "execute_result"
    }
   ],
   "source": [
    "len(binary_df.month.unique())"
   ]
  },
  {
   "cell_type": "code",
   "execution_count": 146,
   "metadata": {},
   "outputs": [
    {
     "data": {
      "text/plain": [
       "313"
      ]
     },
     "execution_count": 146,
     "metadata": {},
     "output_type": "execute_result"
    }
   ],
   "source": [
    "len(binary_df.loc[binary_df.event_DoorLockLock == 1])"
   ]
  },
  {
   "cell_type": "code",
   "execution_count": 229,
   "metadata": {},
   "outputs": [],
   "source": [
    "df_lock_count = door_lock_df[['event_DoorLockLock', 'hour']].groupby(['hour'], as_index=False).sum()\n",
    "df_lock_count = df_lock_count.set_index('hour')"
   ]
  },
  {
   "cell_type": "code",
   "execution_count": 230,
   "metadata": {},
   "outputs": [
    {
     "data": {
      "text/plain": [
       "<matplotlib.axes._subplots.AxesSubplot at 0x7fc3596823c8>"
      ]
     },
     "execution_count": 230,
     "metadata": {},
     "output_type": "execute_result"
    },
    {
     "data": {
      "image/png": "[encoded data removed]",
      "text/plain": [
       "<matplotlib.figure.Figure at 0x7fc3596a4d30>"
      ]
     },
     "metadata": {},
     "output_type": "display_data"
    }
   ],
   "source": [
    "df_lock_count.plot()"
   ]
  },
  {
   "cell_type": "code",
   "execution_count": 231,
   "metadata": {},
   "outputs": [],
   "source": [
    "df_unlock_count = door_lock_df[['event_DoorLockUnlock', 'hour']].groupby(['hour'], as_index=False).sum()\n",
    "df_unlock_count = df_unlock_count.set_index('hour')"
   ]
  },
  {
   "cell_type": "code",
   "execution_count": 234,
   "metadata": {},
   "outputs": [
    {
     "data": {
      "text/plain": [
       "24"
      ]
     },
     "execution_count": 234,
     "metadata": {},
     "output_type": "execute_result"
    }
   ],
   "source": [
    "len(binary_df.loc[binary_df.event_DoorLockUnlock == 1])"
   ]
  },
  {
   "cell_type": "code",
   "execution_count": 233,
   "metadata": {},
   "outputs": [
    {
     "data": {
      "text/plain": [
       "<matplotlib.axes._subplots.AxesSubplot at 0x7fc359651a90>"
      ]
     },
     "execution_count": 233,
     "metadata": {},
     "output_type": "execute_result"
    },
    {
     "data": {
      "image/png": "[encoded data removed]",
      "text/plain": [
       "<matplotlib.figure.Figure at 0x7fc359679748>"
      ]
     },
     "metadata": {},
     "output_type": "display_data"
    }
   ],
   "source": [
    "df_unlock_count.plot()"
   ]
  },
  {
   "cell_type": "code",
   "execution_count": 22,
   "metadata": {},
   "outputs": [],
   "source": [
    "df_temperature_related = binary_df[['outside_temperature', 'event_Active Fan LevelHigh',\n",
    "       'event_Active Fan LevelOff', 'event_Cool Stage 1Active',\n",
    "       'event_Cool Stage 1Inactive','event_FanAuto', 'event_FanOn',\n",
    "       'event_Floor WarmingHeat:False', 'event_Floor WarmingOff:False',\n",
    "       'event_Floor WarmingOff:True',\n",
    "       'event_Heat Stage 1Active', 'event_Heat Stage 1Inactive',\n",
    "       'event_Humidifier OffActive',\n",
    "       'event_Humidifier OffInactive']].groupby(['outside_temperature'], as_index=False).sum()\n",
    "# df_vacancy_count = binary_df[['event_VacancyDetected', 'hour']].groupby(['hour'], as_index=False).sum()"
   ]
  },
  {
   "cell_type": "code",
   "execution_count": 23,
   "metadata": {},
   "outputs": [
    {
     "data": {
      "text/plain": [
       "<matplotlib.axes._subplots.AxesSubplot at 0x7f7fbc82c208>"
      ]
     },
     "execution_count": 23,
     "metadata": {},
     "output_type": "execute_result"
    },
    {
     "data": {
      "image/png": "[encoded data removed]",
      "text/plain": [
       "<matplotlib.figure.Figure at 0x7f7fbc83c588>"
      ]
     },
     "metadata": {},
     "output_type": "display_data"
    }
   ],
   "source": [
    "df_temperature_related.plot()"
   ]
  },
  {
   "cell_type": "code",
   "execution_count": 10,
   "metadata": {},
   "outputs": [],
   "source": [
    "binary_hour_df = binary_df.copy().groupby('hour').sum()"
   ]
  },
  {
   "cell_type": "code",
   "execution_count": null,
   "metadata": {},
   "outputs": [],
   "source": []
  },
  {
   "cell_type": "markdown",
   "metadata": {},
   "source": [
    "### Normalize Values"
   ]
  },
  {
   "cell_type": "code",
   "execution_count": 5,
   "metadata": {},
   "outputs": [],
   "source": [
    "regression_df = load_from_checkpoint('./checkpoints/regression_data_encoded.h5') "
   ]
  },
  {
   "cell_type": "code",
   "execution_count": 6,
   "metadata": {},
   "outputs": [],
   "source": [
    "regression_df['regression_value_type_Climate'] = regression_df['regression_value_type_Climate'].astype(int)"
   ]
  },
  {
   "cell_type": "code",
   "execution_count": 7,
   "metadata": {},
   "outputs": [],
   "source": [
    "regression_df['regression_value_type_Shades'] = regression_df['regression_value_type_Shades'].astype(int)"
   ]
  },
  {
   "cell_type": "code",
   "execution_count": 8,
   "metadata": {},
   "outputs": [],
   "source": [
    "regression_df['regression_value_type_Lights'] = regression_df['regression_value_type_Lights'].astype(int)"
   ]
  },
  {
   "cell_type": "code",
   "execution_count": 14,
   "metadata": {},
   "outputs": [],
   "source": [
    "regression_df['lights_value'] = [0]*len(regression_df)\n",
    "regression_df['lights_value'] = regression_df['lights_value'] + regression_df[regression_df['regression_value_type_Lights'] != 0].value"
   ]
  },
  {
   "cell_type": "code",
   "execution_count": 21,
   "metadata": {},
   "outputs": [],
   "source": [
    "regression_df['shades_value'] = [0]*len(regression_df)\n",
    "regression_df['shades_value'] = regression_df[regression_df['regression_value_type_Shades'] != 0].value"
   ]
  },
  {
   "cell_type": "code",
   "execution_count": 17,
   "metadata": {},
   "outputs": [],
   "source": [
    "regression_df['climate_value'] = [0]*len(regression_df)\n",
    "regression_df['climate_value'] += regression_df[regression_df['regression_value_type_Climate'] != 0].value"
   ]
  },
  {
   "cell_type": "code",
   "execution_count": 22,
   "metadata": {},
   "outputs": [
    {
     "data": {
      "text/html": [
       "<div>\n",
       "<style scoped>\n",
       "    .dataframe tbody tr th:only-of-type {\n",
       "        vertical-align: middle;\n",
       "    }\n",
       "\n",
       "    .dataframe tbody tr th {\n",
       "        vertical-align: top;\n",
       "    }\n",
       "\n",
       "    .dataframe thead th {\n",
       "        text-align: right;\n",
       "    }\n",
       "</style>\n",
       "<table border=\"1\" class=\"dataframe\">\n",
       "  <thead>\n",
       "    <tr style=\"text-align: right;\">\n",
       "      <th></th>\n",
       "      <th>device_id_name</th>\n",
       "      <th>value</th>\n",
       "      <th>week</th>\n",
       "      <th>day</th>\n",
       "      <th>month</th>\n",
       "      <th>hour</th>\n",
       "      <th>minute</th>\n",
       "      <th>second</th>\n",
       "      <th>sun</th>\n",
       "      <th>outside_temperature</th>\n",
       "      <th>regression_value_type_Climate</th>\n",
       "      <th>regression_value_type_Lights</th>\n",
       "      <th>regression_value_type_Shades</th>\n",
       "      <th>lights_value</th>\n",
       "      <th>climate_value</th>\n",
       "      <th>shades_value</th>\n",
       "    </tr>\n",
       "  </thead>\n",
       "  <tbody>\n",
       "    <tr>\n",
       "      <th>13</th>\n",
       "      <td>118Sconces</td>\n",
       "      <td>19275.0</td>\n",
       "      <td>32</td>\n",
       "      <td>11</td>\n",
       "      <td>8</td>\n",
       "      <td>8</td>\n",
       "      <td>0</td>\n",
       "      <td>5</td>\n",
       "      <td>1</td>\n",
       "      <td>68.48</td>\n",
       "      <td>0</td>\n",
       "      <td>1</td>\n",
       "      <td>0</td>\n",
       "      <td>19275.0</td>\n",
       "      <td>NaN</td>\n",
       "      <td>NaN</td>\n",
       "    </tr>\n",
       "    <tr>\n",
       "      <th>14</th>\n",
       "      <td>122Chandelier</td>\n",
       "      <td>0.0</td>\n",
       "      <td>32</td>\n",
       "      <td>11</td>\n",
       "      <td>8</td>\n",
       "      <td>8</td>\n",
       "      <td>0</td>\n",
       "      <td>7</td>\n",
       "      <td>1</td>\n",
       "      <td>68.48</td>\n",
       "      <td>0</td>\n",
       "      <td>1</td>\n",
       "      <td>0</td>\n",
       "      <td>0.0</td>\n",
       "      <td>NaN</td>\n",
       "      <td>NaN</td>\n",
       "    </tr>\n",
       "    <tr>\n",
       "      <th>15</th>\n",
       "      <td>120Overhead</td>\n",
       "      <td>0.0</td>\n",
       "      <td>32</td>\n",
       "      <td>11</td>\n",
       "      <td>8</td>\n",
       "      <td>8</td>\n",
       "      <td>0</td>\n",
       "      <td>7</td>\n",
       "      <td>1</td>\n",
       "      <td>68.48</td>\n",
       "      <td>0</td>\n",
       "      <td>1</td>\n",
       "      <td>0</td>\n",
       "      <td>0.0</td>\n",
       "      <td>NaN</td>\n",
       "      <td>NaN</td>\n",
       "    </tr>\n",
       "    <tr>\n",
       "      <th>16</th>\n",
       "      <td>118Sconces</td>\n",
       "      <td>19275.0</td>\n",
       "      <td>32</td>\n",
       "      <td>11</td>\n",
       "      <td>8</td>\n",
       "      <td>8</td>\n",
       "      <td>0</td>\n",
       "      <td>7</td>\n",
       "      <td>1</td>\n",
       "      <td>68.48</td>\n",
       "      <td>0</td>\n",
       "      <td>1</td>\n",
       "      <td>0</td>\n",
       "      <td>19275.0</td>\n",
       "      <td>NaN</td>\n",
       "      <td>NaN</td>\n",
       "    </tr>\n",
       "    <tr>\n",
       "      <th>21</th>\n",
       "      <td>194Master Bed</td>\n",
       "      <td>71.0</td>\n",
       "      <td>32</td>\n",
       "      <td>11</td>\n",
       "      <td>8</td>\n",
       "      <td>8</td>\n",
       "      <td>6</td>\n",
       "      <td>13</td>\n",
       "      <td>1</td>\n",
       "      <td>68.48</td>\n",
       "      <td>1</td>\n",
       "      <td>0</td>\n",
       "      <td>0</td>\n",
       "      <td>NaN</td>\n",
       "      <td>71.0</td>\n",
       "      <td>NaN</td>\n",
       "    </tr>\n",
       "  </tbody>\n",
       "</table>\n",
       "</div>"
      ],
      "text/plain": [
       "   device_id_name    value  week  day  month  hour  minute  second  sun  \\\n",
       "13     118Sconces  19275.0    32   11      8     8       0       5    1   \n",
       "14  122Chandelier      0.0    32   11      8     8       0       7    1   \n",
       "15    120Overhead      0.0    32   11      8     8       0       7    1   \n",
       "16     118Sconces  19275.0    32   11      8     8       0       7    1   \n",
       "21  194Master Bed     71.0    32   11      8     8       6      13    1   \n",
       "\n",
       "    outside_temperature  regression_value_type_Climate  \\\n",
       "13                68.48                              0   \n",
       "14                68.48                              0   \n",
       "15                68.48                              0   \n",
       "16                68.48                              0   \n",
       "21                68.48                              1   \n",
       "\n",
       "    regression_value_type_Lights  regression_value_type_Shades  lights_value  \\\n",
       "13                             1                             0       19275.0   \n",
       "14                             1                             0           0.0   \n",
       "15                             1                             0           0.0   \n",
       "16                             1                             0       19275.0   \n",
       "21                             0                             0           NaN   \n",
       "\n",
       "    climate_value  shades_value  \n",
       "13            NaN           NaN  \n",
       "14            NaN           NaN  \n",
       "15            NaN           NaN  \n",
       "16            NaN           NaN  \n",
       "21           71.0           NaN  "
      ]
     },
     "execution_count": 22,
     "metadata": {},
     "output_type": "execute_result"
    }
   ],
   "source": [
    "regression_df.head()"
   ]
  },
  {
   "cell_type": "code",
   "execution_count": 24,
   "metadata": {},
   "outputs": [],
   "source": [
    "regression_df = regression_df.fillna(0.0)"
   ]
  },
  {
   "cell_type": "code",
   "execution_count": 28,
   "metadata": {},
   "outputs": [],
   "source": [
    "from sklearn import preprocessing\n",
    "def normalize_col(data_frame, col):\n",
    "    # normalize outside temperatures \n",
    "    vals = regression_df[[col]].values.astype(float)\n",
    "    min_max_scaler = preprocessing.MinMaxScaler()\n",
    "    col_scaled = min_max_scaler.fit_transform(vals)\n",
    "    regression_df[col] = col_scaled\n",
    "    return regression_df"
   ]
  },
  {
   "cell_type": "code",
   "execution_count": 34,
   "metadata": {},
   "outputs": [],
   "source": [
    "# regression_df = normalize_col(regression_df, 'lights_value')\n",
    "# regression_df = normalize_col(regression_df, 'climate_value')\n",
    "# regression_df = normalize_col(regression_df, 'shades_value')\n",
    "# regression_df = normalize_col(regression_df, 'outside_temperature')"
   ]
  },
  {
   "cell_type": "code",
   "execution_count": 40,
   "metadata": {},
   "outputs": [
    {
     "data": {
      "text/html": [
       "<div>\n",
       "<style scoped>\n",
       "    .dataframe tbody tr th:only-of-type {\n",
       "        vertical-align: middle;\n",
       "    }\n",
       "\n",
       "    .dataframe tbody tr th {\n",
       "        vertical-align: top;\n",
       "    }\n",
       "\n",
       "    .dataframe thead th {\n",
       "        text-align: right;\n",
       "    }\n",
       "</style>\n",
       "<table border=\"1\" class=\"dataframe\">\n",
       "  <thead>\n",
       "    <tr style=\"text-align: right;\">\n",
       "      <th></th>\n",
       "      <th>device_id_name</th>\n",
       "      <th>value</th>\n",
       "      <th>week</th>\n",
       "      <th>day</th>\n",
       "      <th>month</th>\n",
       "      <th>hour</th>\n",
       "      <th>minute</th>\n",
       "      <th>second</th>\n",
       "      <th>sun</th>\n",
       "      <th>outside_temperature</th>\n",
       "      <th>regression_value_type_Climate</th>\n",
       "      <th>regression_value_type_Lights</th>\n",
       "      <th>regression_value_type_Shades</th>\n",
       "      <th>lights_value</th>\n",
       "      <th>climate_value</th>\n",
       "      <th>shades_value</th>\n",
       "    </tr>\n",
       "  </thead>\n",
       "  <tbody>\n",
       "    <tr>\n",
       "      <th>13</th>\n",
       "      <td>118Sconces</td>\n",
       "      <td>19275.0</td>\n",
       "      <td>32</td>\n",
       "      <td>11</td>\n",
       "      <td>8</td>\n",
       "      <td>8</td>\n",
       "      <td>0</td>\n",
       "      <td>5</td>\n",
       "      <td>1</td>\n",
       "      <td>0.724865</td>\n",
       "      <td>0</td>\n",
       "      <td>1</td>\n",
       "      <td>0</td>\n",
       "      <td>0.294118</td>\n",
       "      <td>0.000000</td>\n",
       "      <td>0.0</td>\n",
       "    </tr>\n",
       "    <tr>\n",
       "      <th>14</th>\n",
       "      <td>122Chandelier</td>\n",
       "      <td>0.0</td>\n",
       "      <td>32</td>\n",
       "      <td>11</td>\n",
       "      <td>8</td>\n",
       "      <td>8</td>\n",
       "      <td>0</td>\n",
       "      <td>7</td>\n",
       "      <td>1</td>\n",
       "      <td>0.724865</td>\n",
       "      <td>0</td>\n",
       "      <td>1</td>\n",
       "      <td>0</td>\n",
       "      <td>0.000000</td>\n",
       "      <td>0.000000</td>\n",
       "      <td>0.0</td>\n",
       "    </tr>\n",
       "    <tr>\n",
       "      <th>15</th>\n",
       "      <td>120Overhead</td>\n",
       "      <td>0.0</td>\n",
       "      <td>32</td>\n",
       "      <td>11</td>\n",
       "      <td>8</td>\n",
       "      <td>8</td>\n",
       "      <td>0</td>\n",
       "      <td>7</td>\n",
       "      <td>1</td>\n",
       "      <td>0.724865</td>\n",
       "      <td>0</td>\n",
       "      <td>1</td>\n",
       "      <td>0</td>\n",
       "      <td>0.000000</td>\n",
       "      <td>0.000000</td>\n",
       "      <td>0.0</td>\n",
       "    </tr>\n",
       "    <tr>\n",
       "      <th>16</th>\n",
       "      <td>118Sconces</td>\n",
       "      <td>19275.0</td>\n",
       "      <td>32</td>\n",
       "      <td>11</td>\n",
       "      <td>8</td>\n",
       "      <td>8</td>\n",
       "      <td>0</td>\n",
       "      <td>7</td>\n",
       "      <td>1</td>\n",
       "      <td>0.724865</td>\n",
       "      <td>0</td>\n",
       "      <td>1</td>\n",
       "      <td>0</td>\n",
       "      <td>0.294118</td>\n",
       "      <td>0.000000</td>\n",
       "      <td>0.0</td>\n",
       "    </tr>\n",
       "    <tr>\n",
       "      <th>21</th>\n",
       "      <td>194Master Bed</td>\n",
       "      <td>71.0</td>\n",
       "      <td>32</td>\n",
       "      <td>11</td>\n",
       "      <td>8</td>\n",
       "      <td>8</td>\n",
       "      <td>6</td>\n",
       "      <td>13</td>\n",
       "      <td>1</td>\n",
       "      <td>0.724865</td>\n",
       "      <td>1</td>\n",
       "      <td>0</td>\n",
       "      <td>0</td>\n",
       "      <td>0.000000</td>\n",
       "      <td>0.581967</td>\n",
       "      <td>0.0</td>\n",
       "    </tr>\n",
       "  </tbody>\n",
       "</table>\n",
       "</div>"
      ],
      "text/plain": [
       "   device_id_name    value  week  day  month  hour  minute  second  sun  \\\n",
       "13     118Sconces  19275.0    32   11      8     8       0       5    1   \n",
       "14  122Chandelier      0.0    32   11      8     8       0       7    1   \n",
       "15    120Overhead      0.0    32   11      8     8       0       7    1   \n",
       "16     118Sconces  19275.0    32   11      8     8       0       7    1   \n",
       "21  194Master Bed     71.0    32   11      8     8       6      13    1   \n",
       "\n",
       "    outside_temperature  regression_value_type_Climate  \\\n",
       "13             0.724865                              0   \n",
       "14             0.724865                              0   \n",
       "15             0.724865                              0   \n",
       "16             0.724865                              0   \n",
       "21             0.724865                              1   \n",
       "\n",
       "    regression_value_type_Lights  regression_value_type_Shades  lights_value  \\\n",
       "13                             1                             0      0.294118   \n",
       "14                             1                             0      0.000000   \n",
       "15                             1                             0      0.000000   \n",
       "16                             1                             0      0.294118   \n",
       "21                             0                             0      0.000000   \n",
       "\n",
       "    climate_value  shades_value  \n",
       "13       0.000000           0.0  \n",
       "14       0.000000           0.0  \n",
       "15       0.000000           0.0  \n",
       "16       0.000000           0.0  \n",
       "21       0.581967           0.0  "
      ]
     },
     "execution_count": 40,
     "metadata": {},
     "output_type": "execute_result"
    }
   ],
   "source": [
    "regression_df.head()"
   ]
  },
  {
   "cell_type": "code",
   "execution_count": 42,
   "metadata": {},
   "outputs": [],
   "source": [
    "regression_df = regression_df.drop('value', axis=1)"
   ]
  },
  {
   "cell_type": "code",
   "execution_count": 63,
   "metadata": {},
   "outputs": [],
   "source": [
    "# original_df.loc[original_df['regression_value_type'] == 'Shades']"
   ]
  },
  {
   "cell_type": "code",
   "execution_count": null,
   "metadata": {},
   "outputs": [],
   "source": []
  }
 ],
 "metadata": {
  "kernelspec": {
   "display_name": "Python 3",
   "language": "python",
   "name": "python3"
  },
  "language_info": {
   "codemirror_mode": {
    "name": "ipython",
    "version": 3
   },
   "file_extension": ".py",
   "mimetype": "text/x-python",
   "name": "python",
   "nbconvert_exporter": "python",
   "pygments_lexer": "ipython3",
   "version": "3.5.4"
  }
 },
 "nbformat": 4,
 "nbformat_minor": 2
}
