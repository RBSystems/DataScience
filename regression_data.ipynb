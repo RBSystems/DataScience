{
 "cells": [
  {
   "cell_type": "markdown",
   "metadata": {},
   "source": [
    "# Regression Data"
   ]
  },
  {
   "cell_type": "code",
   "execution_count": 19,
   "metadata": {},
   "outputs": [],
   "source": [
    "import os \n",
    "import pandas as pd\n",
    "import numpy as np\n",
    "import h5py\n",
    "from numpy import nan\n",
    "from datetime import datetime, timedelta\n",
    "from time import mktime\n",
    "from fractions import Fraction\n",
    "import os.path\n",
    "pd.set_option('display.max_columns', 500)"
   ]
  },
  {
   "cell_type": "code",
   "execution_count": 3,
   "metadata": {
    "collapsed": true
   },
   "outputs": [],
   "source": [
    "def save_or_load_from_checkpoint(checkpoint_name):\n",
    "    if os.path.isfile(checkpoint_name):\n",
    "        return pd.read_hdf(checkpoint_name,'table')\n",
    "    df.to_hdf(checkpoint_name, 'table', mode='w', append=True, complevel=9, complib='zlib', index=False)\n",
    "    return df"
   ]
  },
  {
   "cell_type": "code",
   "execution_count": 4,
   "metadata": {
    "collapsed": true
   },
   "outputs": [],
   "source": [
    "df = save_or_load_from_checkpoint('./checkpoints/data_2.h5')"
   ]
  },
  {
   "cell_type": "code",
   "execution_count": 20,
   "metadata": {
    "collapsed": true
   },
   "outputs": [],
   "source": [
    "def get_value(row):\n",
    "    value = np.nan\n",
    "    if pd.notna(row['rampFinalValue']):\n",
    "        value = int(row['rampFinalValue'])\n",
    "    elif pd.notna(row['temperature']):\n",
    "        value = int(row['temperature'])\n",
    "    elif str(row['entryType']) == 'Shades' and str(row['eventType']) == 'SceneChangedEvent':\n",
    "        base_str = str(row['device_id_name'])\n",
    "        split_str = base_str.split(' ')\n",
    "        first_str = split_str[0][-3:]\n",
    "        is_closed = True if split_str[1] == 'Closed' else False\n",
    "        if first_str[-1].isdigit():\n",
    "            frac = float(Fraction(first_str))\n",
    "            if is_closed:\n",
    "                frac = 1 - frac\n",
    "            value = frac\n",
    "        elif is_closed:\n",
    "            value = 0\n",
    "        else:\n",
    "            value = 1\n",
    "    return value"
   ]
  },
  {
   "cell_type": "code",
   "execution_count": 21,
   "metadata": {},
   "outputs": [],
   "source": [
    "df['value'] = df.apply(get_value, axis=1)"
   ]
  },
  {
   "cell_type": "code",
   "execution_count": 23,
   "metadata": {
    "collapsed": true
   },
   "outputs": [],
   "source": [
    "def get_event_type(row): \n",
    "    event_type = np.nan\n",
    "    if pd.notna(row['value']):\n",
    "        event_type = str(row['entryType'])\n",
    "    return event_type"
   ]
  },
  {
   "cell_type": "code",
   "execution_count": 24,
   "metadata": {},
   "outputs": [],
   "source": [
    "df['regression_value_type'] = df.apply(get_event_type, axis=1)"
   ]
  },
  {
   "cell_type": "code",
   "execution_count": 26,
   "metadata": {},
   "outputs": [],
   "source": [
    "regression_df = df[['device_id_name', 'regression_value_type', 'value', 'unix_time']]"
   ]
  },
  {
   "cell_type": "code",
   "execution_count": 36,
   "metadata": {},
   "outputs": [],
   "source": [
    "regression_df = save_or_load_from_checkpoint('./checkpoints/regression_data.h5')"
   ]
  },
  {
   "cell_type": "code",
   "execution_count": null,
   "metadata": {
    "collapsed": true
   },
   "outputs": [],
   "source": []
  }
 ],
 "metadata": {
  "kernelspec": {
   "display_name": "Python 3",
   "language": "python",
   "name": "python3"
  },
  "language_info": {
   "codemirror_mode": {
    "name": "ipython",
    "version": 3
   },
   "file_extension": ".py",
   "mimetype": "text/x-python",
   "name": "python",
   "nbconvert_exporter": "python",
   "pygments_lexer": "ipython3",
   "version": "3.6.3"
  }
 },
 "nbformat": 4,
 "nbformat_minor": 2
}
